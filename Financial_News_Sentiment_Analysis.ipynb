{
  "nbformat": 4,
  "nbformat_minor": 0,
  "metadata": {
    "colab": {
      "name": "Financial News Sentiment Analysis.ipynb",
      "provenance": [],
      "collapsed_sections": [],
      "include_colab_link": true
    },
    "kernelspec": {
      "display_name": "Python 3",
      "language": "python",
      "name": "python3"
    },
    "language_info": {
      "codemirror_mode": {
        "name": "ipython",
        "version": 3
      },
      "file_extension": ".py",
      "mimetype": "text/x-python",
      "name": "python",
      "nbconvert_exporter": "python",
      "pygments_lexer": "ipython3",
      "version": "3.8.2"
    }
  },
  "cells": [
    {
      "cell_type": "markdown",
      "metadata": {
        "id": "view-in-github",
        "colab_type": "text"
      },
      "source": [
        "<a href=\"https://colab.research.google.com/github/TusharTaneja22/Sentiment-Analysis/blob/main/Financial_News_Sentiment_Analysis.ipynb\" target=\"_parent\"><img src=\"https://colab.research.google.com/assets/colab-badge.svg\" alt=\"Open In Colab\"/></a>"
      ]
    },
    {
      "cell_type": "markdown",
      "metadata": {
        "id": "ce7a7y-LhfwU"
      },
      "source": [
        "Financial News Dataset Link :https://www.kaggle.com/ankurzing/sentiment-analysis-for-financial-news"
      ]
    },
    {
      "cell_type": "markdown",
      "metadata": {
        "id": "n8cTAkKXhqO6"
      },
      "source": [
        "#Sentiment Analysis"
      ]
    },
    {
      "cell_type": "code",
      "metadata": {
        "id": "CPGl_RkDGBWp"
      },
      "source": [
        "import pandas as pd\n",
        "import numpy as np\n",
        "import seaborn as sns\n",
        "import matplotlib.pyplot as plt"
      ],
      "execution_count": 1,
      "outputs": []
    },
    {
      "cell_type": "code",
      "metadata": {
        "id": "2V4CHbir8YBR"
      },
      "source": [
        "df=pd.read_csv('all-data.csv',names=['label','text'],encoding='latin-1')"
      ],
      "execution_count": 2,
      "outputs": []
    },
    {
      "cell_type": "code",
      "metadata": {
        "colab": {
          "base_uri": "https://localhost:8080/",
          "height": 196
        },
        "id": "4YZRxyoQBTxQ",
        "outputId": "a59d774d-51d9-4417-9848-09f13b699b32"
      },
      "source": [
        "df.head()"
      ],
      "execution_count": 3,
      "outputs": [
        {
          "output_type": "execute_result",
          "data": {
            "text/html": [
              "<div>\n",
              "<style scoped>\n",
              "    .dataframe tbody tr th:only-of-type {\n",
              "        vertical-align: middle;\n",
              "    }\n",
              "\n",
              "    .dataframe tbody tr th {\n",
              "        vertical-align: top;\n",
              "    }\n",
              "\n",
              "    .dataframe thead th {\n",
              "        text-align: right;\n",
              "    }\n",
              "</style>\n",
              "<table border=\"1\" class=\"dataframe\">\n",
              "  <thead>\n",
              "    <tr style=\"text-align: right;\">\n",
              "      <th></th>\n",
              "      <th>label</th>\n",
              "      <th>text</th>\n",
              "    </tr>\n",
              "  </thead>\n",
              "  <tbody>\n",
              "    <tr>\n",
              "      <th>0</th>\n",
              "      <td>neutral</td>\n",
              "      <td>According to Gran , the company has no plans t...</td>\n",
              "    </tr>\n",
              "    <tr>\n",
              "      <th>1</th>\n",
              "      <td>neutral</td>\n",
              "      <td>Technopolis plans to develop in stages an area...</td>\n",
              "    </tr>\n",
              "    <tr>\n",
              "      <th>2</th>\n",
              "      <td>negative</td>\n",
              "      <td>The international electronic industry company ...</td>\n",
              "    </tr>\n",
              "    <tr>\n",
              "      <th>3</th>\n",
              "      <td>positive</td>\n",
              "      <td>With the new production plant the company woul...</td>\n",
              "    </tr>\n",
              "    <tr>\n",
              "      <th>4</th>\n",
              "      <td>positive</td>\n",
              "      <td>According to the company 's updated strategy f...</td>\n",
              "    </tr>\n",
              "  </tbody>\n",
              "</table>\n",
              "</div>"
            ],
            "text/plain": [
              "      label                                               text\n",
              "0   neutral  According to Gran , the company has no plans t...\n",
              "1   neutral  Technopolis plans to develop in stages an area...\n",
              "2  negative  The international electronic industry company ...\n",
              "3  positive  With the new production plant the company woul...\n",
              "4  positive  According to the company 's updated strategy f..."
            ]
          },
          "metadata": {
            "tags": []
          },
          "execution_count": 3
        }
      ]
    },
    {
      "cell_type": "code",
      "metadata": {
        "colab": {
          "base_uri": "https://localhost:8080/"
        },
        "id": "Sh3pETKsE3mI",
        "outputId": "a6bb84f0-b0fd-4d0a-b0a2-64d5da1ceb50"
      },
      "source": [
        "df.isna().sum()"
      ],
      "execution_count": 4,
      "outputs": [
        {
          "output_type": "execute_result",
          "data": {
            "text/plain": [
              "label    0\n",
              "text     0\n",
              "dtype: int64"
            ]
          },
          "metadata": {
            "tags": []
          },
          "execution_count": 4
        }
      ]
    },
    {
      "cell_type": "code",
      "metadata": {
        "colab": {
          "base_uri": "https://localhost:8080/"
        },
        "id": "zygtM6i1BWEZ",
        "outputId": "12458003-d3b3-427e-e27b-bfff7999fbaf"
      },
      "source": [
        "df.info()"
      ],
      "execution_count": 5,
      "outputs": [
        {
          "output_type": "stream",
          "text": [
            "<class 'pandas.core.frame.DataFrame'>\n",
            "RangeIndex: 4846 entries, 0 to 4845\n",
            "Data columns (total 2 columns):\n",
            " #   Column  Non-Null Count  Dtype \n",
            "---  ------  --------------  ----- \n",
            " 0   label   4846 non-null   object\n",
            " 1   text    4846 non-null   object\n",
            "dtypes: object(2)\n",
            "memory usage: 75.8+ KB\n"
          ],
          "name": "stdout"
        }
      ]
    },
    {
      "cell_type": "code",
      "metadata": {
        "colab": {
          "base_uri": "https://localhost:8080/"
        },
        "id": "Y0-KAmNfBdmy",
        "outputId": "75c21b96-27a0-444c-fefc-9ed302451467"
      },
      "source": [
        "df['label'].unique()"
      ],
      "execution_count": 6,
      "outputs": [
        {
          "output_type": "execute_result",
          "data": {
            "text/plain": [
              "array(['neutral', 'negative', 'positive'], dtype=object)"
            ]
          },
          "metadata": {
            "tags": []
          },
          "execution_count": 6
        }
      ]
    },
    {
      "cell_type": "code",
      "metadata": {
        "colab": {
          "base_uri": "https://localhost:8080/"
        },
        "id": "B5wpzevUDfGD",
        "outputId": "1396d071-2c49-413b-bd89-3affe689bc1c"
      },
      "source": [
        "df['label'].value_counts()"
      ],
      "execution_count": 7,
      "outputs": [
        {
          "output_type": "execute_result",
          "data": {
            "text/plain": [
              "neutral     2879\n",
              "positive    1363\n",
              "negative     604\n",
              "Name: label, dtype: int64"
            ]
          },
          "metadata": {
            "tags": []
          },
          "execution_count": 7
        }
      ]
    },
    {
      "cell_type": "code",
      "metadata": {
        "colab": {
          "base_uri": "https://localhost:8080/",
          "height": 299
        },
        "id": "ZbG_KFt6BghY",
        "outputId": "567b0f15-8b38-42d1-e06b-5539d9371aac"
      },
      "source": [
        "sns.countplot(x='label',data=df)"
      ],
      "execution_count": 8,
      "outputs": [
        {
          "output_type": "execute_result",
          "data": {
            "text/plain": [
              "<matplotlib.axes._subplots.AxesSubplot at 0x7fd388f6fa90>"
            ]
          },
          "metadata": {
            "tags": []
          },
          "execution_count": 8
        },
        {
          "output_type": "display_data",
          "data": {
            "image/png": "[encoded data removed]",
            "text/plain": [
              "<Figure size 432x288 with 1 Axes>"
            ]
          },
          "metadata": {
            "tags": [],
            "needs_background": "light"
          }
        }
      ]
    },
    {
      "cell_type": "code",
      "metadata": {
        "colab": {
          "base_uri": "https://localhost:8080/"
        },
        "id": "ME_yf8FXIC3O",
        "outputId": "00c3693a-3995-46ea-b54b-7338e3148f82"
      },
      "source": [
        "#Data cleaning and preprocessing\n",
        "import re\n",
        "import nltk\n",
        "nltk.download('stopwords')\n",
        "nltk.download('wordnet')\n",
        "nltk.download('punkt')"
      ],
      "execution_count": 9,
      "outputs": [
        {
          "output_type": "stream",
          "text": [
            "[nltk_data] Downloading package stopwords to /root/nltk_data...\n",
            "[nltk_data]   Unzipping corpora/stopwords.zip.\n",
            "[nltk_data] Downloading package wordnet to /root/nltk_data...\n",
            "[nltk_data]   Unzipping corpora/wordnet.zip.\n",
            "[nltk_data] Downloading package punkt to /root/nltk_data...\n",
            "[nltk_data]   Unzipping tokenizers/punkt.zip.\n"
          ],
          "name": "stdout"
        },
        {
          "output_type": "execute_result",
          "data": {
            "text/plain": [
              "True"
            ]
          },
          "metadata": {
            "tags": []
          },
          "execution_count": 9
        }
      ]
    },
    {
      "cell_type": "code",
      "metadata": {
        "id": "Q_-2RelwIC3Q"
      },
      "source": [
        "# Lemmatization & removing stopwords\n",
        "from nltk.corpus import stopwords\n",
        "from nltk.stem import WordNetLemmatizer\n",
        "wordnet=WordNetLemmatizer()\n",
        "text_lemmatization=[]\n",
        "for i in range(0,len(df['text'])):\n",
        "    rep=re.sub('[^a-zA-Z]',' ',df['text'][i]) #replace non-alphabet words with space\n",
        "    rep=rep.lower()\n",
        "    rep=rep.split()\n",
        "    rep=[wordnet.lemmatize(word) for word in rep if not word in set(stopwords.words('english'))]\n",
        "    rep=' '.join(rep)\n",
        "    text_lemmatization.append(rep)"
      ],
      "execution_count": 10,
      "outputs": []
    },
    {
      "cell_type": "code",
      "metadata": {
        "colab": {
          "base_uri": "https://localhost:8080/",
          "height": 196
        },
        "id": "iofUoOZ1IC3Q",
        "outputId": "133e04bc-edde-4d2a-db0e-18e9dd47c8ae"
      },
      "source": [
        "df['text_lemmatization']=pd.Series(text_lemmatization)\n",
        "df.head()"
      ],
      "execution_count": 11,
      "outputs": [
        {
          "output_type": "execute_result",
          "data": {
            "text/html": [
              "<div>\n",
              "<style scoped>\n",
              "    .dataframe tbody tr th:only-of-type {\n",
              "        vertical-align: middle;\n",
              "    }\n",
              "\n",
              "    .dataframe tbody tr th {\n",
              "        vertical-align: top;\n",
              "    }\n",
              "\n",
              "    .dataframe thead th {\n",
              "        text-align: right;\n",
              "    }\n",
              "</style>\n",
              "<table border=\"1\" class=\"dataframe\">\n",
              "  <thead>\n",
              "    <tr style=\"text-align: right;\">\n",
              "      <th></th>\n",
              "      <th>label</th>\n",
              "      <th>text</th>\n",
              "      <th>text_lemmatization</th>\n",
              "    </tr>\n",
              "  </thead>\n",
              "  <tbody>\n",
              "    <tr>\n",
              "      <th>0</th>\n",
              "      <td>neutral</td>\n",
              "      <td>According to Gran , the company has no plans t...</td>\n",
              "      <td>according gran company plan move production ru...</td>\n",
              "    </tr>\n",
              "    <tr>\n",
              "      <th>1</th>\n",
              "      <td>neutral</td>\n",
              "      <td>Technopolis plans to develop in stages an area...</td>\n",
              "      <td>technopolis plan develop stage area le square ...</td>\n",
              "    </tr>\n",
              "    <tr>\n",
              "      <th>2</th>\n",
              "      <td>negative</td>\n",
              "      <td>The international electronic industry company ...</td>\n",
              "      <td>international electronic industry company elco...</td>\n",
              "    </tr>\n",
              "    <tr>\n",
              "      <th>3</th>\n",
              "      <td>positive</td>\n",
              "      <td>With the new production plant the company woul...</td>\n",
              "      <td>new production plant company would increase ca...</td>\n",
              "    </tr>\n",
              "    <tr>\n",
              "      <th>4</th>\n",
              "      <td>positive</td>\n",
              "      <td>According to the company 's updated strategy f...</td>\n",
              "      <td>according company updated strategy year baswar...</td>\n",
              "    </tr>\n",
              "  </tbody>\n",
              "</table>\n",
              "</div>"
            ],
            "text/plain": [
              "      label  ...                                 text_lemmatization\n",
              "0   neutral  ...  according gran company plan move production ru...\n",
              "1   neutral  ...  technopolis plan develop stage area le square ...\n",
              "2  negative  ...  international electronic industry company elco...\n",
              "3  positive  ...  new production plant company would increase ca...\n",
              "4  positive  ...  according company updated strategy year baswar...\n",
              "\n",
              "[5 rows x 3 columns]"
            ]
          },
          "metadata": {
            "tags": []
          },
          "execution_count": 11
        }
      ]
    },
    {
      "cell_type": "code",
      "metadata": {
        "id": "_sKeVsNS4ZSH"
      },
      "source": [
        "df1=df[df['label']=='positive']"
      ],
      "execution_count": 12,
      "outputs": []
    },
    {
      "cell_type": "code",
      "metadata": {
        "id": "vPlQ8ZKc5UmT"
      },
      "source": [
        "df2=df[df['label']=='negative']"
      ],
      "execution_count": 13,
      "outputs": []
    },
    {
      "cell_type": "code",
      "metadata": {
        "id": "ZcmRkVyGgxSb"
      },
      "source": [
        "df=pd.concat([df,df2,df1,df2,df2])"
      ],
      "execution_count": 14,
      "outputs": []
    },
    {
      "cell_type": "code",
      "metadata": {
        "colab": {
          "base_uri": "https://localhost:8080/",
          "height": 299
        },
        "id": "0d2MFJc-H0NP",
        "outputId": "1d487b2c-d184-4b5a-9530-210ad2767935"
      },
      "source": [
        "sns.countplot(x='label',data=df)"
      ],
      "execution_count": 15,
      "outputs": [
        {
          "output_type": "execute_result",
          "data": {
            "text/plain": [
              "<matplotlib.axes._subplots.AxesSubplot at 0x7fd37c8aef90>"
            ]
          },
          "metadata": {
            "tags": []
          },
          "execution_count": 15
        },
        {
          "output_type": "display_data",
          "data": {
            "image/png": "[encoded data removed]",
            "text/plain": [
              "<Figure size 432x288 with 1 Axes>"
            ]
          },
          "metadata": {
            "tags": [],
            "needs_background": "light"
          }
        }
      ]
    },
    {
      "cell_type": "code",
      "metadata": {
        "colab": {
          "base_uri": "https://localhost:8080/"
        },
        "id": "C6eJb51zXRO8",
        "outputId": "d0cd7008-1b59-432d-98e2-b5949d2c9824"
      },
      "source": [
        "# Creating the Bag of Words model\n",
        "from sklearn.feature_extraction.text import CountVectorizer\n",
        "vect=CountVectorizer()\n",
        "X=vect.fit_transform(df['text_lemmatization'])\n",
        "print(sorted(vect.vocabulary_))\n",
        "print(X.shape)\n",
        "print(X.toarray())"
      ],
      "execution_count": 16,
      "outputs": [
        {
          "output_type": "stream",
          "text": [
            "['aaland', 'aalborg', 'aalto', 'aaltonen', 'aaron', 'aava', 'aazhang', 'ab', 'abb', 'abbott', 'aberration', 'abidjan', 'ability', 'able', 'abloy', 'abn', 'aboavista', 'abp', 'abramov', 'abramovich', 'abroad', 'absentee', 'absolut', 'absorption', 'abu', 'ac', 'aca', 'acacia', 'acanb', 'acando', 'accelerate', 'accelerated', 'acceptance', 'accepted', 'access', 'accessible', 'accessory', 'accident', 'accommodate', 'accommodation', 'accomplish', 'accomplishing', 'accordance', 'according', 'accordingly', 'account', 'accountant', 'accounted', 'accounting', 'accumulate', 'accumulated', 'acg', 'achieve', 'achieved', 'achievement', 'achieving', 'acid', 'acknowledged', 'acnielsen', 'acquire', 'acquired', 'acquirer', 'acquires', 'acquiring', 'acquisition', 'acquitted', 'across', 'act', 'acted', 'acting', 'action', 'activate', 'activated', 'activating', 'activation', 'active', 'actively', 'activeness', 'activision', 'activity', 'actor', 'actual', 'actually', 'ad', 'adac', 'adak', 'adam', 'adanac', 'adapt', 'adaptation', 'adapter', 'adate', 'add', 'added', 'addiction', 'adding', 'addition', 'additional', 'additionally', 'address', 'addus', 'adequacy', 'adequate', 'adidas', 'adjacent', 'adjust', 'adjustable', 'adjusted', 'adjusting', 'adjustment', 'administered', 'administration', 'administrative', 'administrator', 'admired', 'admits', 'adopted', 'adopter', 'adopting', 'adoption', 'adp', 'adpnews', 'adr', 'adult', 'advance', 'advanced', 'advantage', 'advertised', 'advertisement', 'advertiser', 'advertising', 'advise', 'advised', 'advisor', 'advisory', 'aero', 'aeronautic', 'afe', 'affair', 'affarsvarlden', 'affect', 'affected', 'affecting', 'affecto', 'affectogenimap', 'affordable', 'aforementioned', 'africa', 'africaand', 'african', 'afternoon', 'afx', 'ag', 'age', 'agency', 'agenda', 'agent', 'aggregate', 'aggregator', 'aggressively', 'agitator', 'agj', 'agm', 'ago', 'agreed', 'agreeing', 'agreement', 'agrees', 'agricole', 'agricultural', 'agriculture', 'agro', 'ahead', 'ahl', 'ahlstrom', 'ahms', 'aho', 'ahola', 'ahold', 'ahvenainen', 'ailing', 'ailment', 'ailus', 'aim', 'aimed', 'aiming', 'air', 'airbaltic', 'airbus', 'aircraft', 'airline', 'airport', 'airspace', 'airtel', 'airvana', 'airway', 'aker', 'akseli', 'aktav', 'aktia', 'alabama', 'aladdin', 'alaj', 'alakoski', 'alandsbanken', 'albat', 'alberta', 'album', 'alcohol', 'ald', 'aldata', 'aleksandri', 'aleksanterinkatu', 'alert', 'alexander', 'alexandria', 'alfa', 'alfred', 'alholma', 'aligned', 'alike', 'alise', 'alleged', 'alliance', 'allocated', 'allocation', 'allonen', 'allotted', 'allow', 'allowance', 'allowed', 'allowing', 'allows', 'alloy', 'allure', 'alma', 'almaty', 'almost', 'aln', 'alone', 'along', 'alpina', 'alpine', 'alpro', 'already', 'also', 'altadis', 'altaienergosbyt', 'alteams', 'alter', 'alternately', 'alternative', 'although', 'altia', 'altima', 'altimo', 'altogether', 'altona', 'altra', 'alumina', 'aluminij', 'aluminium', 'aluminum', 'alus', 'always', 'am', 'amanda', 'ambassador', 'amber', 'ambulance', 'ameas', 'amending', 'amendment', 'amer', 'america', 'american', 'ameriprice', 'amex', 'amid', 'ammonia', 'among', 'amount', 'amounted', 'amounting', 'amplifier', 'amr', 'amro', 'amsterdam', 'analysis', 'analyst', 'analytics', 'analyzed', 'anasmotet', 'anchor', 'anchored', 'andalusia', 'andhra', 'andlinger', 'andrew', 'andrey', 'andrius', 'android', 'angeles', 'angler', 'animal', 'anjalankoski', 'anne', 'anneli', 'anniversary', 'announce', 'announced', 'announcement', 'announces', 'annual', 'annualised', 'annually', 'annulled', 'annum', 'annvik', 'anode', 'another', 'anrak', 'ansa', 'answer', 'antenna', 'anti', 'antibody', 'anticipated', 'anticipates', 'antniemi', 'antonio', 'antti', 'anttila', 'antwerp', 'aol', 'apac', 'apart', 'apartment', 'apetit', 'apiece', 'apollo', 'apoteket', 'app', 'apparatus', 'apparent', 'apparently', 'appeal', 'appealing', 'appear', 'appearing', 'appears', 'applauded', 'apple', 'appliance', 'applicable', 'applicant', 'application', 'applied', 'apply', 'applying', 'appoint', 'appointed', 'appointment', 'appreciation', 'approach', 'appropriate', 'approval', 'approve', 'approved', 'approx', 'approximately', 'apr', 'april', 'apsaugos', 'aptly', 'apwr', 'aqua', 'arab', 'arabia', 'arabized', 'arbidans', 'arcelormittal', 'archer', 'archestra', 'archicad', 'archipelago', 'architecture', 'archived', 'area', 'arena', 'areva', 'argentina', 'argentine', 'argument', 'arm', 'armada', 'army', 'arokarhu', 'around', 'arques', 'arranged', 'arrangement', 'arranger', 'arranging', 'arrive', 'arrived', 'art', 'artemis', 'artemyev', 'arteva', 'arthritis', 'article', 'artist', 'artistic', 'arto', 'arvo', 'arxikon', 'asa', 'asahi', 'ascs', 'asfaltti', 'ashley', 'ashutosh', 'asia', 'asian', 'aside', 'asimilar', 'ask', 'asked', 'asks', 'asm', 'asmi', 'asmobile', 'asokan', 'aspect', 'asphalt', 'aspiring', 'aspo', 'aspocomp', 'aspokem', 'assa', 'assembly', 'assessing', 'assessment', 'asset', 'assigned', 'assignment', 'assist', 'assistance', 'assistant', 'associate', 'associated', 'association', 'assume', 'assumed', 'assuming', 'assumption', 'assurance', 'astana', 'asthma', 'asx', 'atec', 'atlas', 'atom', 'atomic', 'atrium', 'attach', 'attached', 'attachment', 'attack', 'attacker', 'attempt', 'attend', 'attention', 'attract', 'attractive', 'attribute', 'attributed', 'atul', 'atvi', 'auburn', 'auction', 'audi', 'audience', 'audio', 'audit', 'auditing', 'auditor', 'aug', 'august', 'aulasmaa', 'aura', 'aussage', 'austin', 'australia', 'australian', 'austria', 'austrian', 'authentic', 'authentication', 'authorisation', 'authorise', 'authorised', 'authority', 'authorization', 'authorized', 'auto', 'automate', 'automated', 'automates', 'automatic', 'automatically', 'automation', 'automobile', 'automotive', 'autonomous', 'autotank', 'autumn', 'av', 'availability', 'available', 'avalon', 'avc', 'avena', 'avenue', 'average', 'avesta', 'avestapolarit', 'avi', 'aviation', 'avista', 'avoid', 'awaited', 'award', 'awarded', 'awareness', 'away', 'awkward', 'ax', 'axa', 'axe', 'axis', 'ayanambakkam', 'ba', 'babcock', 'baber', 'baby', 'back', 'backbone', 'backdrop', 'backed', 'backhaul', 'backlog', 'backup', 'bad', 'badly', 'bae', 'bag', 'bagdonas', 'bahia', 'bahr', 'bahrain', 'baked', 'baker', 'bakery', 'bakman', 'bakosch', 'balance', 'balanced', 'baldauf', 'bali', 'ball', 'ballast', 'balloon', 'balti', 'baltic', 'baltica', 'baltimore', 'ban', 'band', 'bangalore', 'bangkok', 'bank', 'banked', 'banken', 'banking', 'banned', 'bao', 'bar', 'barbeque', 'barc', 'barcelona', 'barclays', 'barents', 'bargain', 'bargaining', 'barge', 'bark', 'barley', 'barleycorn', 'barrel', 'barstow', 'barum', 'bascule', 'base', 'baseball', 'based', 'basel', 'basement', 'basf', 'basic', 'basis', 'basket', 'basketball', 'basware', 'batam', 'batch', 'bathroom', 'battery', 'bavaria', 'bavarian', 'bavelloni', 'bawag', 'bay', 'bbh', 'bbl', 'bcs', 'bctmp', 'beanie', 'bear', 'bearing', 'beat', 'beating', 'beatriz', 'beautifully', 'beauty', 'became', 'beckham', 'becky', 'become', 'becomes', 'becoming', 'bed', 'bedroom', 'beef', 'beeinflussen', 'beer', 'begin', 'beginner', 'beginning', 'behalf', 'behavior', 'behavioural', 'behind', 'behnaam', 'beijing', 'belarus', 'belchatow', 'beleaguered', 'belgian', 'belgium', 'belief', 'believe', 'belonging', 'beltton', 'belvedere', 'bench', 'benchmark', 'beneath', 'benecol', 'beneficial', 'beneficiary', 'benefit', 'benefon', 'benelux', 'bentos', 'bergqvist', 'bergvik', 'berlin', 'berling', 'bernhard', 'bertrand', 'beside', 'besides', 'best', 'bestseller', 'beta', 'beteiligungs', 'betoni', 'betonituote', 'better', 'beverage', 'beyond', 'bg', 'bhushan', 'bi', 'bia', 'bib', 'bicentenary', 'bicycle', 'bid', 'bidder', 'bidding', 'big', 'bigger', 'biggest', 'bilbao', 'bilfinger', 'bill', 'billing', 'billingham', 'billion', 'billionaire', 'bim', 'binding', 'bio', 'biobv', 'biocare', 'biodiesel', 'bioethanol', 'biofuel', 'biofuels', 'biography', 'bioheapleaching', 'biohit', 'biological', 'biologicals', 'biomass', 'biopharmaceutical', 'biotherapeutics', 'biotie', 'bioview', 'birch', 'birmingham', 'biscuit', 'bit', 'bitmapped', 'bj', 'bjorn', 'bk', 'black', 'blackberry', 'blackstone', 'blaming', 'blast', 'bleaching', 'blending', 'blind', 'bln', 'bloc', 'block', 'blocking', 'blog', 'blond', 'blood', 'bloomberg', 'blue', 'bluebird', 'bluegill', 'bluetooth', 'bluewin', 'blyk', 'bm', 'bn', 'bnamericas', 'bnpp', 'bns', 'bo', 'board', 'boardman', 'boat', 'boater', 'bochum', 'bockum', 'bodily', 'body', 'bofa', 'bogus', 'bohemia', 'boiler', 'bold', 'bollore', 'bolster', 'bom', 'bond', 'boni', 'bonus', 'book', 'booked', 'booking', 'bookrunners', 'boomed', 'boomerang', 'boomeranger', 'boost', 'boosted', 'boosting', 'boot', 'borba', 'bordeaux', 'border', 'bore', 'boring', 'borl', 'born', 'borrower', 'borrowing', 'bosch', 'bosnia', 'bosse', 'boston', 'bothnia', 'botnia', 'bottle', 'bottled', 'bottom', 'bought', 'bounced', 'boute', 'bovine', 'bow', 'bower', 'box', 'boxboard', 'boy', 'boycotting', 'bp', 'bps', 'bracing', 'braking', 'branch', 'brand', 'branded', 'brasil', 'brasiliensis', 'bratislava', 'bratsk', 'brazil', 'brazilian', 'bread', 'breadth', 'break', 'breakfast', 'breaking', 'breakup', 'breathe', 'breed', 'breeze', 'bretagne', 'brewer', 'brewerton', 'brewery', 'brian', 'brick', 'bridge', 'bridgestone', 'brief', 'bright', 'bring', 'bringing', 'brings', 'brinkab', 'brisk', 'brisker', 'brista', 'bristol', 'britain', 'british', 'brno', 'broad', 'broadband', 'broadcast', 'broadcaster', 'broader', 'broadsheet', 'brockpahler', 'broke', 'broker', 'brokerage', 'broking', 'brother', 'brought', 'browse', 'browser', 'browsing', 'bruce', 'bruk', 'brussels', 'bs', 'bts', 'btt', 'buckeye', 'bucking', 'budapest', 'budget', 'buenavista', 'build', 'builder', 'building', 'built', 'bukoba', 'bulgaria', 'bulk', 'bullet', 'bulletin', 'bullish', 'bullying', 'bunge', 'burdened', 'burgundy', 'burn', 'burning', 'burrill', 'burt', 'burton', 'bus', 'business', 'buster', 'button', 'buy', 'buyer', 'buying', 'buyout', 'bv', 'bylander', 'byline', 'bypass', 'ca', 'cabin', 'cable', 'cablevision', 'cableway', 'cabot', 'cad', 'cagr', 'cake', 'calafate', 'calais', 'calcination', 'calciners', 'calculate', 'calculated', 'calculates', 'calendar', 'calendered', 'calibrate', 'calibration', 'calif', 'california', 'call', 'called', 'caller', 'calling', 'camara', 'came', 'cameco', 'camera', 'campaign', 'campbell', 'campofrio', 'campomos', 'canada', 'canadian', 'canal', 'canceled', 'cancellation', 'cancer', 'candidate', 'canned', 'cannon', 'cant', 'canvas', 'cap', 'capability', 'capable', 'capacitor', 'capacity', 'capcom', 'capital', 'capitalize', 'capitel', 'capitex', 'capman', 'capped', 'capture', 'capturing', 'caput', 'car', 'carbon', 'card', 'cardiovascular', 'cardona', 'care', 'career', 'cargo', 'cargotec', 'carl', 'carlshamn', 'carmaker', 'carolina', 'carpark', 'carriage', 'carried', 'carrier', 'carrollton', 'carrot', 'carry', 'carrying', 'cartaria', 'cartel', 'carton', 'case', 'cash', 'casing', 'casper', 'cast', 'castecka', 'castell', 'casting', 'castle', 'casual', 'casualty', 'catalogue', 'catalyst', 'catalytic', 'catch', 'categorically', 'categorization', 'category', 'catering', 'cathay', 'cathode', 'cause', 'caused', 'causing', 'cautious', 'caverion', 'cayman', 'cba', 'cbd', 'cc', 'cd', 'cdli', 'cdma', 'cdp', 'ce', 'cease', 'cee', 'ceiling', 'celbi', 'celebrated', 'celebrates', 'cell', 'cellphone', 'cellular', 'cellulose', 'celtnieciba', 'celular', 'celulose', 'cement', 'cencorp', 'cent', 'center', 'centimeter', 'central', 'centralising', 'centralized', 'centrally', 'centre', 'centric', 'centricity', 'ceo', 'ceramic', 'cerberus', 'cereal', 'cerner', 'certain', 'certainly', 'certification', 'certified', 'cessation', 'cet', 'cf', 'cfo', 'cfr', 'cfsb', 'cgcbv', 'chaim', 'chain', 'chairman', 'chairmanship', 'challenge', 'challenger', 'challenging', 'chamber', 'chambersburg', 'chameleon', 'chance', 'chang', 'change', 'changed', 'changing', 'changshu', 'channel', 'chapter', 'characteristic', 'charge', 'charger', 'charging', 'chargz', 'charlotte', 'chart', 'charter', 'chartered', 'charting', 'chase', 'chassis', 'cheap', 'cheaper', 'cheapest', 'check', 'checked', 'checkpoint', 'cheered', 'cheerful', 'chelyabinsk', 'chemical', 'chennai', 'chf', 'chic', 'chicago', 'chichi', 'chief', 'chikunov', 'child', 'chile', 'chilled', 'china', 'chinese', 'chip', 'chipped', 'chipping', 'chirnside', 'chl', 'choice', 'cholesterol', 'choose', 'choosing', 'chopra', 'chore', 'chose', 'chosen', 'chp', 'christian', 'christine', 'christmas', 'christopher', 'chrome', 'chs', 'chu', 'chuck', 'churned', 'ci', 'cidco', 'cider', 'cido', 'cincinnati', 'cinema', 'cip', 'circle', 'circuit', 'circulating', 'circulation', 'cision', 'citadele', 'citi', 'citigroup', 'citing', 'city', 'citycon', 'citymarket', 'civil', 'cjsc', 'cl', 'claim', 'claiming', 'clamp', 'clarification', 'clarify', 'clarity', 'class', 'classic', 'classified', 'classroom', 'clausen', 'clean', 'cleaning', 'clear', 'clearer', 'clearly', 'clerical', 'click', 'clicked', 'clicking', 'client', 'clientele', 'cliffton', 'climate', 'climbed', 'climber', 'clinical', 'clock', 'close', 'closed', 'closely', 'closer', 'closing', 'closure', 'clothes', 'clothing', 'cloud', 'club', 'cm', 'cnc', 'cnl', 'co', 'coagulant', 'coal', 'coast', 'coaster', 'coat', 'coated', 'coating', 'coaxial', 'cobalt', 'coca', 'cockroft', 'cocktail', 'code', 'codetermination', 'coffee', 'cogeneration', 'cohen', 'coherent', 'coke', 'coker', 'cola', 'cold', 'collaborate', 'collaboration', 'collaborative', 'collar', 'collated', 'colleague', 'collect', 'collection', 'collective', 'collins', 'collision', 'color', 'colorado', 'colorful', 'colourful', 'columbia', 'com', 'combination', 'combine', 'combined', 'combining', 'come', 'comfort', 'comfortable', 'comfortably', 'coming', 'commanding', 'commence', 'commencing', 'comment', 'commented', 'commenting', 'commerce', 'commercial', 'commercially', 'commerzbank', 'commission', 'commissioned', 'commissioner', 'commissioning', 'commit', 'commiting', 'commitment', 'commits', 'committed', 'committee', 'commodity', 'common', 'communal', 'communicated', 'communication', 'community', 'compact', 'compagnie', 'companiesandmarkets', 'company', 'comparable', 'comparative', 'compare', 'compared', 'comparison', 'compass', 'compatible', 'compatriot', 'compensated', 'compensation', 'compete', 'competence', 'competency', 'competing', 'competition', 'competitive', 'competitiveness', 'competitor', 'compiling', 'complement', 'complemented', 'complete', 'completed', 'completely', 'completes', 'completion', 'complex', 'complexity', 'comply', 'complying', 'compnay', 'component', 'componenta', 'composite', 'composition', 'compound', 'comprehensive', 'compression', 'compressor', 'comprise', 'comprised', 'comprises', 'comprising', 'comptel', 'compulsory', 'computer', 'comtex', 'concentrate', 'concentrated', 'concentrating', 'concentrator', 'concept', 'conceptual', 'concern', 'concerned', 'concerning', 'conciliator', 'concluded', 'concludes', 'concrete', 'condition', 'conditioning', 'condominium', 'conduct', 'conducted', 'conducting', 'confectionery', 'conference', 'conferencing', 'confidence', 'confident', 'configuration', 'configured', 'confirmation', 'confirmed', 'confirming', 'conglomerate', 'congress', 'conjunction', 'connect', 'connected', 'connecting', 'connection', 'connectivity', 'connector', 'connects', 'consecutive', 'consensus', 'consent', 'consequence', 'conservative', 'consider', 'considerably', 'consideration', 'considered', 'considering', 'considers', 'consist', 'consistency', 'consistent', 'consisting', 'consists', 'consolidate', 'consolidated', 'consolidating', 'consolidation', 'consortium', 'conspiracy', 'constantly', 'constitute', 'constitutes', 'construct', 'constructed', 'construction', 'constructive', 'constructor', 'consulate', 'consultancy', 'consultant', 'consultation', 'consulting', 'consumer', 'consumption', 'contact', 'contacted', 'contain', 'contained', 'container', 'contains', 'contempus', 'content', 'contented', 'contest', 'contextual', 'continent', 'continental', 'continually', 'continuation', 'continue', 'continued', 'continues', 'continuing', 'continuous', 'continuously', 'contract', 'contracted', 'contracting', 'contractor', 'contrary', 'contrast', 'contribute', 'contributed', 'contribution', 'control', 'controlled', 'controller', 'controlling', 'convenience', 'convenient', 'converged', 'convergence', 'convergent', 'conversation', 'conversion', 'convert', 'converted', 'converter', 'convertible', 'converting', 'conveying', 'convinced', 'convincing', 'cool', 'cooling', 'cooper', 'cooperate', 'cooperating', 'cooperation', 'cooperationand', 'cooperative', 'coordinate', 'coordinated', 'copenhagen', 'copper', 'copy', 'copying', 'copyright', 'coq', 'core', 'corner', 'cornerstone', 'corp', 'corporate', 'corporation', 'corrected', 'correlation', 'corrensponds', 'correspond', 'corresponding', 'correspondingly', 'corresponds', 'corroborate', 'corrupt', 'cosco', 'coscom', 'cosmetic', 'cost', 'costanza', 'costly', 'costumer', 'could', 'council', 'count', 'countdown', 'counter', 'counterpart', 'countervalue', 'country', 'countryelements', 'county', 'couple', 'coupled', 'courier', 'course', 'court', 'courthouse', 'courtship', 'covenant', 'cover', 'coverage', 'covered', 'covering', 'cowboy', 'cowie', 'cph', 'cpps', 'cps', 'cra', 'cracker', 'craft', 'cramo', 'crane', 'crash', 'crazy', 'cream', 'create', 'created', 'creates', 'creating', 'creation', 'creativity', 'crecent', 'credit', 'creditor', 'crew', 'crisis', 'critch', 'criterion', 'critical', 'criticised', 'criticising', 'crocheted', 'crore', 'cross', 'crosscountry', 'crossing', 'crosstown', 'crown', 'crucially', 'crude', 'cruise', 'cruising', 'crushed', 'crushing', 'cry', 'crystal', 'cs', 'ct', 'cth', 'cto', 'cu', 'cuautitlan', 'cue', 'cukurova', 'cul', 'cultivation', 'culture', 'cumberland', 'cumerio', 'cumulative', 'cup', 'curator', 'curbed', 'curfew', 'curl', 'currency', 'current', 'currently', 'cursor', 'curve', 'cushion', 'custody', 'custom', 'customer', 'customised', 'customized', 'cut', 'cutlery', 'cutter', 'cutting', 'cv', 'cvc', 'cvd', 'cw', 'cxe', 'cybe', 'cybercom', 'cycle', 'cyclone', 'cymed', 'czech', 'czechrepublic', 'dagens', 'dahlstr', 'daily', 'dairy', 'dalborg', 'dallas', 'damage', 'damaged', 'damaging', 'dampened', 'danish', 'dans', 'danske', 'dark', 'dart', 'dartford', 'dash', 'data', 'database', 'date', 'dated', 'dave', 'daxtum', 'day', 'db', 'dc', 'dct', 'dcuc', 'dd', 'de', 'deadline', 'deal', 'dealer', 'dealership', 'dean', 'debenture', 'debt', 'debut', 'dec', 'decade', 'decaliter', 'december', 'decide', 'decided', 'decision', 'deck', 'decker', 'declare', 'decline', 'declined', 'declining', 'decor', 'decoration', 'decorative', 'decrease', 'decreased', 'dedicated', 'deducted', 'deemed', 'deep', 'deepwater', 'deer', 'deere', 'defence', 'defense', 'defined', 'definitely', 'definitive', 'degefors', 'degeneration', 'degerfors', 'degree', 'degridding', 'deka', 'delayed', 'delegation', 'delhaize', 'delhi', 'delight', 'delighted', 'delist', 'delisted', 'deliver', 'delivered', 'delivering', 'delivers', 'delivery', 'delta', 'demand', 'demanded', 'demanding', 'demerger', 'demographic', 'demolli', 'demonstrated', 'demonstrates', 'demonstrating', 'demonstration', 'den', 'denied', 'denies', 'denmark', 'denominated', 'density', 'dental', 'denver', 'deodorization', 'depart', 'department', 'departure', 'depend', 'depending', 'depends', 'deploy', 'deployment', 'deposit', 'depositary', 'depositor', 'depository', 'depot', 'depressed', 'depth', 'deputy', 'deramus', 'deregulatory', 'derive', 'derived', 'derives', 'deriving', 'derogating', 'derstr', 'desalination', 'desarrollo', 'described', 'design', 'designated', 'designation', 'designed', 'designer', 'designing', 'desk', 'desktop', 'despite', 'destia', 'destination', 'detached', 'detail', 'detailed', 'detailing', 'detect', 'detected', 'detection', 'detector', 'determine', 'determined', 'determining', 'detroit', 'deutsche', 'deutschland', 'devalue', 'develop', 'developed', 'developer', 'developing', 'development', 'develops', 'device', 'dhabi', 'diabetes', 'diagnosed', 'diagnostic', 'diagnostics', 'diagrid', 'dial', 'dialing', 'diameter', 'diapol', 'dibba', 'dictated', 'die', 'diego', 'diesel', 'dietz', 'differ', 'difference', 'different', 'differentiate', 'differs', 'difficult', 'difficulty', 'dig', 'digia', 'digicel', 'digital', 'digitalize', 'digitally', 'digitalmediaasia', 'diligence', 'dillon', 'diluted', 'dilution', 'dimension', 'diminished', 'dinh', 'dinmukhamet', 'dinner', 'dino', 'dinosaur', 'dioxide', 'dip', 'diploma', 'direct', 'directed', 'directional', 'directionality', 'directive', 'directly', 'director', 'directory', 'dirk', 'disagree', 'disagreement', 'disappear', 'disappeared', 'disappointing', 'disappointment', 'discipline', 'disciplined', 'disclaims', 'disclose', 'disclosed', 'disclosing', 'disclosure', 'discontinue', 'discontinued', 'discount', 'discounted', 'discovered', 'discus', 'discussed', 'discussion', 'disease', 'dish', 'disk', 'dismissal', 'dismissed', 'display', 'disposable', 'disposal', 'dispose', 'dispute', 'dissertation', 'dissolve', 'dissolved', 'distance', 'distinct', 'distinctive', 'distinctly', 'distinguished', 'distributable', 'distribute', 'distributed', 'distributes', 'distribution', 'distributor', 'district', 'diversified', 'diversify', 'divest', 'divested', 'divestment', 'divestments', 'divests', 'divide', 'divided', 'dividend', 'division', 'divisional', 'djsi', 'dkk', 'dma', 'dmasia', 'dna', 'dnb', 'docomo', 'doctor', 'doctoral', 'document', 'documentation', 'doering', 'dog', 'dohle', 'dok', 'doktas', 'dokumculuk', 'dokumentori', 'dolce', 'dollar', 'domain', 'domestic', 'domestically', 'dominated', 'dominating', 'donate', 'donation', 'done', 'dongguan', 'doobie', 'door', 'dopplr', 'doprava', 'doring', 'dormus', 'dos', 'dose', 'dosing', 'double', 'doubled', 'doubling', 'douglas', 'dover', 'dovre', 'dow', 'downgraded', 'download', 'downloadable', 'downloading', 'downstream', 'downtown', 'downturn', 'dozen', 'drafted', 'dragged', 'dragonfly', 'drainage', 'dramatic', 'dramatically', 'draught', 'drawing', 'drawn', 'dress', 'dried', 'drillisch', 'drink', 'drinking', 'drive', 'driven', 'driver', 'driving', 'drop', 'dropped', 'dropping', 'drought', 'drug', 'dry', 'drying', 'dso', 'dt', 'du', 'dual', 'dubai', 'dubbed', 'dubna', 'duckburg', 'due', 'duet', 'dukat', 'dulai', 'dumping', 'durability', 'duration', 'durham', 'dusseldorf', 'dutch', 'duty', 'dvb', 'dvd', 'dwt', 'dye', 'dyed', 'dynamic', 'dz', 'ea', 'eads', 'eager', 'eagle', 'earlier', 'earliest', 'early', 'earn', 'earned', 'earning', 'earnings', 'earns', 'ease', 'easier', 'easiest', 'east', 'easter', 'eastern', 'easy', 'eat', 'eataly', 'eaten', 'eaton', 'eb', 'eberl', 'ebg', 'ebit', 'ebita', 'ebitda', 'ebrd', 'ebusiness', 'ecb', 'eco', 'economic', 'economically', 'economics', 'economy', 'ecosystem', 'ecuador', 'edgar', 'edge', 'edging', 'edible', 'edita', 'editor', 'edmonds', 'education', 'ee', 'eek', 'eero', 'eesti', 'eet', 'effect', 'effected', 'effective', 'effectively', 'effectiveness', 'efficiency', 'efficient', 'effluent', 'effort', 'efi', 'efo', 'efore', 'egeszsegbolt', 'egg', 'egm', 'egypt', 'ehitus', 'ei', 'eidesvik', 'eigener', 'eight', 'eighteen', 'eijkens', 'eila', 'einvoices', 'eiof', 'either', 'ekaterinburg', 'eklund', 'ekono', 'elaborated', 'elcoteq', 'elect', 'elected', 'election', 'electric', 'electrical', 'electrically', 'electricity', 'electrification', 'electronic', 'electronically', 'electronics', 'electrowatt', 'elekter', 'elektrobit', 'elektros', 'element', 'eletric', 'elevated', 'elevator', 'eleven', 'eli', 'eligible', 'eliiv', 'elimaki', 'elisa', 'elite', 'ell', 'eloholma', 'elqav', 'else', 'elsewhere', 'em', 'email', 'emailed', 'embarked', 'embroiled', 'emergency', 'emerging', 'emi', 'emirate', 'emission', 'emmy', 'emphasis', 'emphasised', 'employ', 'employed', 'employee', 'employer', 'employing', 'employment', 'empresa', 'empt', 'emptive', 'empty', 'emsa', 'emt', 'emtn', 'en', 'enable', 'enables', 'enabling', 'enclosed', 'encompassing', 'encourage', 'end', 'ended', 'ending', 'endorsement', 'endowment', 'endustri', 'enefit', 'energia', 'energy', 'enexis', 'eng', 'engaged', 'engine', 'engineer', 'engineered', 'engineering', 'english', 'enhance', 'enhanced', 'enhances', 'enhancing', 'enjoy', 'enough', 'enp', 'enskilda', 'enso', 'ensure', 'ensuring', 'entail', 'enter', 'entered', 'entering', 'enterprise', 'enters', 'entertainment', 'enthusiasm', 'entice', 'entire', 'entirely', 'entirety', 'entitle', 'entitled', 'entitlement', 'entitles', 'entity', 'entreprenad', 'entreprenadmaskiner', 'entrepreneur', 'entreprenor', 'entry', 'environment', 'environmental', 'environmentally', 'envisaged', 'envisages', 'eos', 'eou', 'epa', 'ephc', 'epi', 'eps', 'eq', 'eqt', 'equal', 'equaling', 'equipment', 'equipped', 'equity', 'equivalent', 'er', 'era', 'ercols', 'ercs', 'erdenet', 'erection', 'ergo', 'ergonomic', 'erh', 'eric', 'ericsson', 'eriikka', 'erik', 'eriksson', 'erkki', 'eronen', 'erp', 'error', 'ervi', 'ervio', 'esa', 'escalator', 'eseries', 'esko', 'esl', 'espana', 'especially', 'espoo', 'espoon', 'essar', 'essent', 'essential', 'establish', 'established', 'establishes', 'establishing', 'establishment', 'estate', 'estimate', 'estimated', 'estimation', 'estonia', 'estonian', 'etc', 'etera', 'ethanol', 'ethernet', 'ethibel', 'etsi', 'etteplan', 'etth', 'etuovi', 'eu', 'eua', 'eucalyptus', 'eukor', 'eur', 'euribor', 'euro', 'eurobond', 'eurochem', 'euronext', 'europe', 'european', 'europolitan', 'ev', 'evacuate', 'evaluated', 'evaluation', 'evaporation', 'even', 'evening', 'event', 'eventim', 'ever', 'everest', 'every', 'everyday', 'everything', 'everywhere', 'evidence', 'evident', 'evidentiary', 'evil', 'evli', 'evolving', 'evp', 'evraz', 'exactly', 'examines', 'examining', 'example', 'exceed', 'exceeded', 'exceeds', 'excellence', 'excellent', 'excellently', 'except', 'excerpt', 'excess', 'excessive', 'exchange', 'excise', 'excited', 'exciting', 'excluding', 'exclusive', 'execute', 'executed', 'executing', 'execution', 'executive', 'exel', 'exempted', 'exempting', 'exercise', 'exercising', 'exert', 'exhibition', 'exist', 'existing', 'exists', 'exit', 'expand', 'expandable', 'expanded', 'expanding', 'expands', 'expansion', 'expect', 'expectation', 'expected', 'expecting', 'expects', 'expenditure', 'expense', 'expensive', 'experience', 'experiencing', 'experimenting', 'expert', 'expertise', 'expire', 'expired', 'expires', 'explained', 'explains', 'exploit', 'exploitation', 'exploited', 'exploration', 'explore', 'exploring', 'explosively', 'expo', 'export', 'exported', 'exporter', 'exporting', 'exposure', 'express', 'expressed', 'expression', 'expressly', 'ext', 'extend', 'extended', 'extending', 'extends', 'extension', 'extensive', 'extensively', 'extent', 'exterior', 'external', 'extra', 'extract', 'extracted', 'extraction', 'extraordinary', 'extremely', 'extrusion', 'eye', 'fab', 'fabric', 'fabrication', 'facade', 'face', 'facilitate', 'facilitates', 'facility', 'facing', 'fact', 'factor', 'factory', 'faculty', 'failed', 'failure', 'fair', 'fairly', 'fall', 'fallen', 'faller', 'falling', 'familiar', 'family', 'fancy', 'fantastic', 'fantuzzi', 'far', 'farm', 'farmer', 'fashion', 'fast', 'fasten', 'faster', 'fastest', 'fat', 'favor', 'favorable', 'favorite', 'favourable', 'favourably', 'fcc', 'fcu', 'fear', 'feasibility', 'feasible', 'feature', 'featured', 'featuring', 'feb', 'february', 'federal', 'federation', 'fee', 'feed', 'feedback', 'feeder', 'feedstock', 'feel', 'feeling', 'fell', 'felled', 'felt', 'femto', 'fencing', 'fenestra', 'fennia', 'fennovoima', 'ferguson', 'ferro', 'ferry', 'ferryboat', 'fertilizer', 'fesco', 'fewer', 'fgvoip', 'fh', 'fi', 'fia', 'fiber', 'fibre', 'fidelity', 'field', 'fierce', 'fifth', 'fiftieth', 'fight', 'figure', 'file', 'filed', 'filing', 'filipino', 'filippova', 'filling', 'film', 'filmiteollisuus', 'filter', 'filtrate', 'filtration', 'fim', 'fimentor', 'final', 'finale', 'finalize', 'finalized', 'finance', 'financed', 'financement', 'financial', 'financially', 'financialwire', 'financing', 'finans', 'finbow', 'fincantieri', 'find', 'findest', 'finding', 'fine', 'fined', 'finger', 'finieris', 'finish', 'finished', 'finisher', 'finishing', 'finlan', 'finland', 'finn', 'finnair', 'finncomm', 'finnegans', 'finnfund', 'finnish', 'finnishness', 'finnlines', 'finton', 'fire', 'fired', 'fireplace', 'firm', 'firmed', 'first', 'firstalert', 'firstquarter', 'fisa', 'fiscal', 'fischer', 'fish', 'fisher', 'fishing', 'fiskars', 'fit', 'fitch', 'fitness', 'fitzgerald', 'five', 'fixed', 'fixing', 'fki', 'fl', 'flag', 'flagging', 'flagship', 'flange', 'flat', 'flatiron', 'flavoured', 'fleet', 'flew', 'flex', 'flexi', 'flexibility', 'flexible', 'flexiblebaseloadoperation', 'flexibly', 'flexo', 'flight', 'float', 'flock', 'floor', 'floorball', 'flooring', 'floral', 'florida', 'flow', 'flsmidth', 'fluctuated', 'fluctuation', 'fluid', 'flurry', 'fly', 'flying', 'flykt', 'focus', 'focused', 'focusing', 'fold', 'folded', 'folding', 'follow', 'followed', 'following', 'follows', 'follum', 'foncier', 'food', 'foodservice', 'foot', 'footwear', 'force', 'forced', 'ford', 'forecast', 'forecasting', 'foreign', 'foremost', 'foresees', 'forest', 'forestal', 'forestry', 'forever', 'forging', 'fork', 'form', 'forma', 'formadehyde', 'formal', 'format', 'formation', 'formed', 'former', 'formerly', 'forming', 'formwork', 'forssa', 'forssan', 'forthcoming', 'fortitude', 'fortum', 'fortuna', 'fortune', 'forum', 'forward', 'forwarded', 'forwarders', 'forwarding', 'found', 'foundation', 'founded', 'founder', 'foundry', 'four', 'fourth', 'fox', 'fr', 'fradkov', 'fragmented', 'frame', 'framework', 'framing', 'franc', 'france', 'franchise', 'franchising', 'francisco', 'frank', 'frankfurt', 'franklin', 'fray', 'fredrik', 'free', 'freenet', 'freezing', 'frei', 'freight', 'freighter', 'fremantlemedia', 'french', 'frenzy', 'frequency', 'frequent', 'fresh', 'friday', 'friedlander', 'friend', 'friendly', 'friman', 'frn', 'froh', 'frolov', 'front', 'frost', 'frozen', 'fruit', 'ft', 'ftse', 'fttb', 'ftth', 'fttx', 'fuel', 'fueled', 'fuelled', 'fujairah', 'fujitsu', 'fulfil', 'fulfill', 'fulfilled', 'fulfilling', 'fulfillment', 'fulfilment', 'full', 'fully', 'fum', 'fun', 'function', 'functionality', 'functioning', 'fund', 'fundamental', 'funded', 'funding', 'furlough', 'furnace', 'furniture', 'furthermore', 'furusund', 'fusing', 'future', 'fzc', 'ga', 'gabbana', 'gage', 'gain', 'gained', 'galeria', 'galerie', 'gallerix', 'gallup', 'galvan', 'gama', 'gambling', 'gambro', 'game', 'gaming', 'gansu', 'gantry', 'gap', 'garage', 'garden', 'gardening', 'garmin', 'garner', 'garry', 'gartner', 'gas', 'gasco', 'gasconversions', 'gasoline', 'gatehouse', 'gateway', 'gather', 'gathered', 'gave', 'gavrilov', 'gawker', 'gb', 'gbx', 'gdf', 'gdp', 'ge', 'gear', 'gearing', 'geberit', 'geenrated', 'gemalto', 'general', 'generally', 'generate', 'generated', 'generates', 'generating', 'generation', 'generator', 'genesis', 'genetically', 'geneva', 'genius', 'genuine', 'genvec', 'geo', 'geographic', 'geographical', 'geographically', 'geography', 'geometric', 'geometrically', 'george', 'geosentric', 'geosolutions', 'gerber', 'german', 'germany', 'get', 'getinge', 'getting', 'ghana', 'ghg', 'ghz', 'giant', 'gibtelecom', 'gift', 'gilchrist', 'gill', 'girder', 'give', 'given', 'giving', 'gla', 'glad', 'glasgow', 'glass', 'glassfiber', 'glassworldex', 'glaston', 'glichkeit', 'glisten', 'global', 'globally', 'globe', 'gloriya', 'gloss', 'gmbh', 'gmo', 'gmt', 'go', 'goal', 'gogol', 'gohrsm', 'going', 'gold', 'golden', 'goldman', 'gone', 'good', 'goodwill', 'goodyear', 'goog', 'google', 'goran', 'gordon', 'gorelovo', 'got', 'gothenburg', 'gotta', 'governance', 'governed', 'governemtn', 'government', 'gprs', 'gps', 'graafiset', 'grabbing', 'grade', 'grading', 'gradually', 'grain', 'gram', 'gran', 'grand', 'grannan', 'grant', 'granted', 'granting', 'grapevine', 'graphic', 'grappling', 'grate', 'gratuitous', 'gray', 'graz', 'grc', 'grease', 'great', 'greater', 'greatest', 'green', 'greenhouse', 'greensmith', 'grew', 'grid', 'grieg', 'grievance', 'grill', 'grimaldi', 'grinding', 'grip', 'gro', 'grodno', 'groep', 'gross', 'ground', 'group', 'groupe', 'grow', 'growhow', 'growing', 'grown', 'grows', 'growth', 'grupe', 'gruppen', 'gsk', 'gsm', 'gts', 'guangdong', 'guard', 'guatemala', 'guder', 'guess', 'guidance', 'guide', 'guided', 'guinea', 'gulf', 'gunneflo', 'gunpoint', 'gustav', 'gw', 'gypsii', 'gypsum', 'haakon', 'haapakoski', 'haavisto', 'hack', 'hacker', 'hacking', 'haikarainen', 'haiti', 'half', 'hall', 'hallberg', 'hallein', 'halonen', 'halt', 'halted', 'halved', 'hamburg', 'hame', 'hameenlinna', 'hamina', 'hammaslaakarit', 'hampden', 'hampshire', 'han', 'hand', 'handelsbanken', 'handheld', 'handle', 'handled', 'handler', 'handli', 'handling', 'handoff', 'handset', 'hang', 'hangasjarvi', 'hankkija', 'hanko', 'hanna', 'hannaford', 'hanninen', 'hannu', 'hanoi', 'hansen', 'hantila', 'hapoel', 'happen', 'happened', 'happening', 'happens', 'happy', 'harald', 'harbor', 'harbour', 'hard', 'hardest', 'hardware', 'harju', 'harkonen', 'harness', 'harnosand', 'harold', 'harple', 'harri', 'hartford', 'hartwall', 'harvester', 'harvesting', 'hassela', 'hassinen', 'hassle', 'hasten', 'hat', 'hatch', 'haug', 'hauhio', 'hauling', 'hautaniemi', 'hayward', 'hbos', 'hd', 'hdi', 'hdo', 'head', 'headbox', 'headboxes', 'headcount', 'headed', 'heading', 'headline', 'headquarter', 'headquartered', 'headquarters', 'health', 'healthcare', 'healthier', 'healthy', 'hear', 'heard', 'hearing', 'hearst', 'heart', 'heat', 'heated', 'heathrow', 'heating', 'heatmasters', 'heavily', 'heavy', 'hectare', 'hedging', 'height', 'heikki', 'heikkil', 'heindlmeyer', 'heineken', 'heir', 'hel', 'helander', 'helasto', 'held', 'helir', 'helisnki', 'helmet', 'helokunnas', 'help', 'helped', 'helping', 'helsingborg', 'helsingin', 'helsinki', 'hence', 'henning', 'henrik', 'henry', 'hepatitis', 'heritage', 'herttaassa', 'hervy', 'herzegovina', 'heterogenous', 'hevea', 'hfc', 'hi', 'hiab', 'hienonen', 'hietanen', 'high', 'higher', 'highest', 'highlight', 'highlighted', 'highly', 'highrises', 'highway', 'hiidenheimo', 'hikauppa', 'hike', 'hilton', 'hintikka', 'hintze', 'hire', 'hired', 'hiring', 'historian', 'historic', 'history', 'hit', 'hitachi', 'hitting', 'hitura', 'hivakuutus', 'hk', 'hkscan', 'hkse', 'hle', 'hmi', 'hobby', 'hockey', 'hoist', 'hold', 'holder', 'holding', 'holiday', 'hollola', 'holmen', 'home', 'homemarkets', 'homeowner', 'homepage', 'homeware', 'honda', 'hong', 'hongmei', 'honka', 'honkajoki', 'honkamaa', 'honkarakenne', 'honolulu', 'honored', 'hook', 'hooked', 'hope', 'hoped', 'horizon', 'hormone', 'hornborg', 'hospital', 'hospitality', 'host', 'hosted', 'hostile', 'hosting', 'hot', 'hotel', 'hour', 'house', 'housed', 'household', 'housewares', 'housing', 'however', 'hoyer', 'hp', 'hr', 'hs', 'hsea', 'hspa', 'html', 'hu', 'hualu', 'huge', 'huh', 'huhtam', 'huhtamaki', 'hull', 'human', 'humo', 'hundred', 'hung', 'hungary', 'hunting', 'hurdle', 'hurt', 'husqvarna', 'hutchison', 'hybrid', 'hydraulics', 'hydro', 'hydrocarbon', 'hydrocopper', 'hydrogen', 'hydronic', 'hypotek', 'hyun', 'hyundai', 'hyvinkaa', 'ia', 'ibm', 'ice', 'iceland', 'icelandair', 'icis', 'iconic', 'ict', 'icy', 'id', 'idea', 'ideal', 'ideally', 'identical', 'identification', 'identified', 'identify', 'identifying', 'identity', 'idrisov', 'idzelis', 'ietf', 'ifrs', 'igen', 'iggesunds', 'ignatius', 'ignored', 'igor', 'ii', 'iii', 'iisalmi', 'iittala', 'iivrcl', 'il', 'ilim', 'ilk', 'ilkka', 'ill', 'illinois', 'illustration', 'illustrator', 'ilmarinen', 'ilyin', 'image', 'imaging', 'imalat', 'imap', 'imatra', 'imitates', 'immediate', 'immediately', 'immersive', 'impact', 'impacted', 'impacting', 'impairment', 'implement', 'implementation', 'implemented', 'implementing', 'implies', 'import', 'importance', 'important', 'imported', 'impress', 'impressive', 'improve', 'improved', 'improvement', 'improves', 'improving', 'impulse', 'imputed', 'imsm', 'inaugural', 'inaugurated', 'inaugurates', 'inaugurating', 'inbound', 'inc', 'incap', 'ince', 'incentive', 'inception', 'inch', 'incident', 'inclination', 'include', 'included', 'includes', 'including', 'inclusion', 'inclusive', 'income', 'inconsistent', 'incorporate', 'incorporates', 'incorporating', 'increase', 'increased', 'increasing', 'increasingly', 'inculding', 'incur', 'incurred', 'indebtedness', 'independence', 'independent', 'independently', 'index', 'india', 'indian', 'indiana', 'indicate', 'indicated', 'indication', 'indicator', 'indigo', 'indital', 'individual', 'individualising', 'individually', 'indo', 'indosat', 'industri', 'industria', 'industrial', 'industrialisation', 'industrialization', 'industrialsql', 'industriekapital', 'industry', 'inen', 'ineta', 'infected', 'inflatable', 'inflation', 'influence', 'info', 'inform', 'information', 'informed', 'infotainment', 'infra', 'infrastructure', 'ing', 'inga', 'inge', 'ingen', 'ingerois', 'inget', 'ingredient', 'inha', 'inhibitor', 'initial', 'initially', 'initiate', 'initiated', 'initiating', 'initiative', 'injection', 'injury', 'ink', 'inked', 'inkinen', 'inking', 'innofactor', 'innova', 'innovar', 'innovation', 'innovational', 'innovationsmanagement', 'innovative', 'innovator', 'innovest', 'inorganic', 'input', 'inregard', 'inrikes', 'inside', 'insight', 'insolvency', 'inspected', 'inspection', 'inspectorate', 'inspects', 'inspired', 'inspires', 'inspiring', 'install', 'installation', 'installed', 'installment', 'installs', 'instance', 'instead', 'insteel', 'institute', 'institution', 'institutional', 'instruction', 'instructional', 'instrument', 'instrumentation', 'insurance', 'insurer', 'intake', 'intangible', 'integrate', 'integrated', 'integrates', 'integration', 'intel', 'intellectual', 'intellibis', 'intelligence', 'intelligent', 'intellisync', 'intend', 'intended', 'intends', 'intensifying', 'intensity', 'intensive', 'intent', 'intention', 'inter', 'interaction', 'interactive', 'interavanti', 'interbancaria', 'interbank', 'interchange', 'interconnected', 'interconnection', 'interdigital', 'interest', 'interested', 'interesting', 'interface', 'interfax', 'interference', 'interim', 'interior', 'intermittently', 'intermodal', 'internal', 'international', 'internationalised', 'internationalizing', 'internationally', 'internet', 'interoperability', 'interrupted', 'intersection', 'intertek', 'intervention', 'interview', 'intouch', 'intravenously', 'intriguing', 'introduce', 'introduced', 'introduces', 'introducing', 'introduction', 'intubated', 'intuitive', 'invalid', 'invenergy', 'invented', 'invention', 'inventor', 'inventory', 'inverter', 'invest', 'invested', 'investigate', 'investigated', 'investigation', 'investigator', 'investinestonia', 'investing', 'investlesprom', 'investment', 'investor', 'investrend', 'invitation', 'invite', 'invoice', 'invoicing', 'involve', 'involved', 'involves', 'involving', 'ionphase', 'ipad', 'iphone', 'ipo', 'ipod', 'iptv', 'ipv', 'ir', 'iran', 'iraq', 'ireland', 'irish', 'iron', 'irrevocable', 'irrevocably', 'irritant', 'ise', 'isk', 'island', 'ism', 'iso', 'isoprene', 'isps', 'israel', 'israeli', 'issuance', 'issue', 'issued', 'issuer', 'issuing', 'isto', 'ita', 'italahdenkatu', 'italian', 'italy', 'itella', 'item', 'iterating', 'itg', 'itikka', 'itkonen', 'itonut', 'itunes', 'iv', 'ivan', 'ivarsson', 'ivd', 'ivory', 'ivrcl', 'ixonos', 'ja', 'jaakko', 'jacket', 'jackson', 'jacob', 'jaemsaenkoski', 'jalo', 'jam', 'jamnagar', 'jan', 'janhonen', 'janis', 'janno', 'january', 'japan', 'japanese', 'japrotek', 'jari', 'jarle', 'jarmo', 'jaroszowka', 'jarvenpaa', 'jarvinen', 'jason', 'jaston', 'java', 'jawad', 'jeambar', 'jean', 'jeder', 'jens', 'jensen', 'jeopardising', 'jerusalem', 'jet', 'jiang', 'jim', 'jimmy', 'jm', 'job', 'joe', 'johan', 'johanna', 'john', 'join', 'joined', 'joint', 'jointly', 'joki', 'jon', 'jones', 'jordan', 'jorgen', 'jorma', 'jortikka', 'jot', 'jouko', 'journalism', 'journalistic', 'journey', 'joyfully', 'jozef', 'jp', 'jpm', 'jpmorgan', 'jsc', 'jsco', 'judge', 'judgement', 'juergen', 'juha', 'juhani', 'jukka', 'jul', 'julia', 'july', 'jump', 'jumped', 'jun', 'junction', 'june', 'jung', 'juri', 'jussi', 'justified', 'justin', 'justly', 'jutland', 'juuka', 'jv', 'jvc', 'jydsk', 'jyv', 'jyvaeskylae', 'jyvaskyla', 'kaaja', 'kaare', 'kaarstroem', 'kahonen', 'kai', 'kaido', 'kaisanlahti', 'kaivo', 'kalajoki', 'kaleva', 'kalinisky', 'kalkkuna', 'kallasvuo', 'kallio', 'kallioranta', 'kalmar', 'kalnapilio', 'kalnapilis', 'kaluga', 'kan', 'kangasala', 'kansa', 'kapellskar', 'kapiteeli', 'kapthing', 'kapuli', 'karachi', 'karara', 'karczewicz', 'kardzhali', 'karelia', 'karhinen', 'karhu', 'karhula', 'kari', 'kariniemi', 'karkkila', 'karlstad', 'karppinen', 'karputer', 'karttakeskus', 'karvinen', 'kasak', 'kasei', 'kasola', 'kaspersky', 'katajavuori', 'katzman', 'kauhajoen', 'kauhajoki', 'kauhava', 'kauko', 'kaukomarkkinat', 'kaukopartio', 'kaunas', 'kauniskangas', 'kaunisvaara', 'kauno', 'kauppalehti', 'kaupthing', 'kaupunki', 'kaupunkin', 'kausta', 'kazakh', 'kazakhstan', 'kazan', 'kazgiprotsvetmet', 'kci', 'kcr', 'kd', 'kdg', 'kebab', 'kedia', 'keep', 'keiju', 'kel', 'kellokoski', 'kelly', 'kemian', 'kemij', 'kemijoki', 'kemira', 'kennedy', 'kenneth', 'kentucky', 'kept', 'kermansavi', 'kersberga', 'kershaw', 'kesbv', 'keskinen', 'kesko', 'keskuskatu', 'kevin', 'key', 'keyboard', 'keyloggers', 'keylogging', 'keyword', 'keywords', 'kft', 'kg', 'khanty', 'khopoli', 'ki', 'kia', 'kick', 'kicking', 'kid', 'kidnapped', 'kidnapping', 'kiikoinen', 'kiilto', 'kilo', 'kilogram', 'kilometer', 'kilometre', 'kim', 'kimmel', 'kimmo', 'kind', 'kindergarten', 'kiosk', 'kiran', 'kirkkonummi', 'kirsi', 'kiruna', 'kit', 'kitai', 'kitchen', 'kito', 'kitron', 'kivimeister', 'klabin', 'klo', 'km', 'knickerbockers', 'knife', 'knight', 'knot', 'know', 'knowhow', 'knowledge', 'known', 'koduextra', 'koff', 'kohtam', 'koistinen', 'koivisto', 'kolkata', 'kolkhoznitsa', 'kolnp', 'kolorit', 'kommerts', 'kone', 'konecranes', 'kong', 'kontturi', 'kopijyva', 'koponen', 'korea', 'korean', 'korhonen', 'korpinen', 'korteniemi', 'koskinen', 'koskull', 'kospa', 'kostenlos', 'kostiainen', 'kostroma', 'kotikokki', 'kotka', 'koulutuskuntayhtyma', 'kouvola', 'kpi', 'kpy', 'kra', 'kraft', 'kraftliner', 'krakeroy', 'kraski', 'krippl', 'krishna', 'krister', 'krogerus', 'kroksberg', 'krona', 'krone', 'kronor', 'krook', 'kroon', 'kuhmo', 'kuitu', 'kuitunen', 'kultalonkero', 'kuopio', 'kurkilahti', 'kurt', 'kustannus', 'kuula', 'kuuste', 'kuzaj', 'kveyt', 'kw', 'ky', 'kyivstar', 'kylas', 'kymi', 'kymmene', 'kyro', 'kyrolainen', 'kyronsalmi', 'kyroskoski', 'la', 'laakso', 'laamanen', 'laasanen', 'laavainen', 'lab', 'label', 'labor', 'laboratory', 'laborious', 'lacquered', 'ladle', 'lagardere', 'laguardia', 'lahden', 'lahti', 'lahtinen', 'laid', 'laine', 'laisi', 'laitinen', 'lake', 'lakeville', 'lakshmi', 'lamp', 'lampokasittely', 'lan', 'land', 'landed', 'landsbanken', 'lanebrook', 'lang', 'language', 'lankapaja', 'lansio', 'lansivayla', 'lanxess', 'lapin', 'lappeenranta', 'large', 'largely', 'larger', 'largest', 'larox', 'larsen', 'lasse', 'lassi', 'lassila', 'last', 'lat', 'late', 'later', 'latest', 'latin', 'latta', 'lattelecom', 'latter', 'latvenergo', 'latvia', 'latvian', 'latvijas', 'launch', 'launched', 'launching', 'laut', 'law', 'lawmaker', 'lay', 'layer', 'laying', 'layoff', 'lcc', 'lcd', 'lcs', 'le', 'leaching', 'lead', 'leader', 'leadership', 'leading', 'leaf', 'leak', 'leakage', 'leaked', 'lean', 'leaning', 'learn', 'learning', 'learns', 'leary', 'leasable', 'lease', 'leaseback', 'leased', 'leasing', 'least', 'leave', 'leaving', 'lebanon', 'led', 'lee', 'leed', 'left', 'legacy', 'legal', 'legislative', 'legrand', 'lehdentekijat', 'lehtiyhtyma', 'lehtonen', 'lei', 'leif', 'leipurin', 'leisure', 'lem', 'lember', 'lemcon', 'leminen', 'lemiste', 'lemmink', 'lemminkainen', 'lender', 'lending', 'lenenergo', 'length', 'leningrad', 'lennart', 'lennon', 'leskinen', 'lesprom', 'let', 'lettable', 'letter', 'level', 'leverage', 'lewa', 'lextel', 'lg', 'lgl', 'lgpl', 'lgu', 'liability', 'liberty', 'library', 'licence', 'license', 'licensing', 'liddell', 'lidl', 'lidskoe', 'lie', 'liechtenstein', 'lieksaare', 'lietuva', 'lietuvos', 'life', 'lifecycle', 'lifestyle', 'lifetime', 'lifetree', 'lift', 'lifted', 'lifting', 'light', 'lighter', 'lighting', 'lightning', 'lightsquared', 'lightweight', 'lihakombinaat', 'lihakunta', 'lihatoostus', 'lihir', 'liisa', 'liising', 'liitto', 'like', 'likely', 'liljeholmen', 'limestone', 'limit', 'limited', 'limiting', 'linde', 'linden', 'lindex', 'lindsey', 'line', 'liner', 'lining', 'link', 'linked', 'linking', 'linkspans', 'lion', 'liora', 'lip', 'lippupiste', 'liquefied', 'liquid', 'liquidated', 'liquide', 'liquidity', 'liquor', 'lisle', 'list', 'listed', 'listing', 'litas', 'liter', 'literature', 'lithuania', 'lithuanian', 'litre', 'litter', 'little', 'live', 'lived', 'living', 'lkab', 'llc', 'lmt', 'lng', 'lo', 'load', 'loader', 'loading', 'loan', 'local', 'localisation', 'locally', 'locate', 'located', 'location', 'locator', 'locatrix', 'lock', 'locomotive', 'lodged', 'log', 'logged', 'logging', 'logical', 'logistic', 'logistical', 'logistics', 'logo', 'logset', 'london', 'long', 'longer', 'lonnfors', 'look', 'looking', 'lookout', 'loop', 'loose', 'lordi', 'lorry', 'los', 'loses', 'losing', 'loss', 'lost', 'lot', 'lotus', 'loudeac', 'loudeye', 'louis', 'love', 'lovely', 'loviisa', 'low', 'lower', 'lowered', 'lowering', 'lowest', 'loyal', 'loyalty', 'lp', 'lr', 'lsc', 'lse', 'lt', 'ltd', 'ltda', 'lte', 'lubricant', 'luceplan', 'luhr', 'lukkoexpert', 'lule', 'lulea', 'lulu', 'lumberman', 'lumene', 'lump', 'luna', 'lunch', 'lundbeck', 'lundberg', 'lundmark', 'lure', 'lutterworth', 'luumaki', 'luxembourg', 'luxury', 'lvl', 'lxe', 'lye', 'lynch', 'lynn', 'maarten', 'maaseudun', 'maatalous', 'maatta', 'macgregor', 'machine', 'machinery', 'macintosh', 'maco', 'macro', 'made', 'madison', 'madoff', 'maemo', 'magazine', 'maggie', 'magistral', 'magnet', 'magnetic', 'magnetite', 'magney', 'magnus', 'maihak', 'maihaniemi', 'maija', 'mail', 'main', 'maine', 'maingate', 'mainly', 'mainor', 'mainstream', 'maintain', 'maintained', 'maintaining', 'maintains', 'maintenance', 'mainz', 'major', 'majority', 'mak', 'make', 'makeover', 'maker', 'making', 'makuisa', 'malaysia', 'malaysian', 'male', 'malinen', 'malkia', 'mall', 'maloney', 'maltider', 'malting', 'malware', 'mammila', 'man', 'manage', 'manageable', 'managed', 'management', 'manager', 'manages', 'managing', 'managment', 'manavigator', 'manchester', 'mandate', 'mandatory', 'manganese', 'manhattan', 'manhole', 'manipulator', 'manned', 'manner', 'mansi', 'mansner', 'mantsala', 'manturovo', 'manty', 'mantyharju', 'manufacture', 'manufactured', 'manufacturer', 'manufacturing', 'many', 'map', 'maple', 'mapping', 'mar', 'mara', 'marathon', 'marcel', 'march', 'marek', 'marela', 'margareta', 'margarine', 'margin', 'marieholm', 'marietta', 'marilyn', 'marimekko', 'marina', 'marinated', 'marine', 'maritim', 'maritime', 'marjo', 'mark', 'marked', 'markedly', 'market', 'marketed', 'marketing', 'marketplace', 'marketwatch', 'marking', 'markka', 'markku', 'marko', 'marshal', 'marski', 'marta', 'martela', 'martin', 'martina', 'martinez', 'marttiini', 'marubeni', 'maruti', 'maruy', 'mascara', 'maskinservice', 'mass', 'master', 'masterbulk', 'mastercard', 'mat', 'matador', 'match', 'matching', 'material', 'materialise', 'materiel', 'matinkyla', 'matka', 'matkatoimisto', 'matrix', 'matter', 'matti', 'mattila', 'mature', 'maturing', 'maturity', 'max', 'maxi', 'maximizes', 'maximum', 'may', 'maya', 'mayawas', 'maybe', 'mazzika', 'mba', 'mc', 'mcafee', 'mcalpine', 'mcc', 'mcdonald', 'mce', 'mcguire', 'md', 'mda', 'meadville', 'meal', 'mean', 'meaning', 'meant', 'meantime', 'meanwhile', 'measure', 'measured', 'measurement', 'measuring', 'meat', 'mechanic', 'mechanical', 'mechanically', 'mechanise', 'mechanism', 'mechanizace', 'med', 'mediaphones', 'mediation', 'medical', 'mediterranean', 'medium', 'medvezhyegorsk', 'meego', 'meet', 'meeting', 'mega', 'megabyte', 'megafon', 'megamart', 'megapixel', 'megawatt', 'meiklejohn', 'mejeri', 'melngailis', 'melody', 'meltdown', 'melting', 'member', 'membership', 'memorandum', 'memory', 'mena', 'mention', 'mentioned', 'meo', 'mercator', 'merchandise', 'merchandising', 'merchant', 'merely', 'merge', 'merged', 'merger', 'merges', 'merging', 'meri', 'merisatama', 'merko', 'merrill', 'mertano', 'message', 'messaging', 'met', 'metal', 'metallurgical', 'meteorological', 'meteorology', 'meter', 'method', 'metre', 'metric', 'metro', 'metropolitan', 'mets', 'metsa', 'metsaliitto', 'metsamasina', 'metso', 'meur', 'mexican', 'mexico', 'mezzanine', 'mformation', 'mg', 'mhi', 'mhs', 'mhz', 'mi', 'mich', 'michael', 'michelin', 'micro', 'microelectronic', 'microsoft', 'microwave', 'microwaveable', 'mid', 'middle', 'midnighttrader', 'mids', 'midwest', 'might', 'migration', 'mika', 'mikaapplication', 'mike', 'mikko', 'mikkonen', 'mikron', 'mikshis', 'milan', 'mildly', 'mile', 'milestone', 'military', 'mill', 'milled', 'millhouse', 'millilitre', 'millimetre', 'million', 'min', 'mind', 'mine', 'miner', 'minera', 'mineracao', 'mineral', 'miniature', 'minimize', 'minimum', 'mining', 'minister', 'ministerija', 'ministry', 'minivan', 'minn', 'minnetonka', 'minor', 'minority', 'minute', 'mirabela', 'miracle', 'misleading', 'mississippi', 'missouri', 'mistake', 'misurec', 'mitsubishi', 'mittal', 'mix', 'mixed', 'ml', 'mline', 'mln', 'mm', 'mmh', 'mmo', 'mmx', 'mn', 'mnc', 'mo', 'mobile', 'mobileid', 'mobility', 'modal', 'mode', 'model', 'modeling', 'modelling', 'modem', 'moderate', 'modern', 'modernisation', 'modernization', 'modification', 'modify', 'modular', 'module', 'mohammed', 'moisio', 'moisture', 'mold', 'molecule', 'molten', 'molub', 'molybdenum', 'moment', 'monate', 'monday', 'monetary', 'money', 'mongolia', 'monitor', 'monitoring', 'mono', 'monopoly', 'monospace', 'monroe', 'monster', 'montaj', 'montevideo', 'month', 'monthly', 'moody', 'moorestown', 'mooring', 'moorits', 'moran', 'moreover', 'morgan', 'morna', 'morning', 'morocco', 'moron', 'morris', 'mortar', 'mortgage', 'morvillars', 'moscow', 'mosenergosbytbody', 'moskovia', 'mosmetro', 'moss', 'mostar', 'mostly', 'motivate', 'motlanthe', 'motor', 'motorcyclist', 'motorola', 'mou', 'moulding', 'mount', 'mountain', 'mouse', 'movable', 'move', 'moved', 'movement', 'moventas', 'movie', 'moving', 'mp', 'mpra', 'mr', 'msn', 'mso', 'mssb', 'mt', 'mti', 'much', 'mud', 'mukkavilli', 'muling', 'multi', 'multichannel', 'multifunctional', 'multilingual', 'multimedia', 'multimediacard', 'multinational', 'multiplayer', 'multiple', 'multiplying', 'multiradio', 'multistorey', 'mumbai', 'munich', 'municipal', 'municipality', 'murmansk', 'mursula', 'museum', 'music', 'musoma', 'must', 'mustonen', 'mutual', 'mw', 'mwe', 'myllykoski', 'myllyla', 'myllypuro', 'mynet', 'myspace', 'nadarajah', 'nadu', 'nagoya', 'naimi', 'nalmefene', 'name', 'named', 'namely', 'namibia', 'naming', 'nancheng', 'nanjing', 'napoli', 'narrow', 'narrowed', 'narva', 'nasdaq', 'nastola', 'nasty', 'nation', 'national', 'nationally', 'nationwide', 'natlabs', 'natural', 'naturally', 'nau', 'naur', 'nausea', 'nav', 'navigability', 'navigation', 'navigator', 'navteq', 'ncc', 'nd', 'nda', 'ne', 'near', 'nearby', 'nearly', 'necessary', 'nederland', 'need', 'needed', 'nefarious', 'negative', 'negotiate', 'negotiated', 'negotiating', 'negotiation', 'neighborhood', 'neighboring', 'neighbouring', 'neither', 'nekilnojamas', 'nekoski', 'nembv', 'nen', 'nenonen', 'neomarkka', 'nepal', 'neste', 'net', 'netact', 'netanttila', 'netapp', 'netbooks', 'netcom', 'neteller', 'netherlands', 'netted', 'netweaver', 'network', 'networking', 'neudorf', 'neutral', 'nevada', 'nevertheless', 'nevsky', 'new', 'newark', 'newbury', 'newcomer', 'newest', 'newfound', 'newly', 'newpage', 'newport', 'news', 'newspaper', 'newsprint', 'newsroom', 'newstex', 'newswire', 'newswires', 'nexbtl', 'next', 'neya', 'nge', 'niam', 'niche', 'nickel', 'nicotine', 'nielsen', 'niemi', 'night', 'niiininoski', 'niina', 'nike', 'nikkei', 'nikkiso', 'niklas', 'nil', 'nine', 'nissan', 'nitrate', 'nitrite', 'nitrogen', 'nivala', 'njastein', 'nl', 'nm', 'nnen', 'noa', 'nobel', 'node', 'noise', 'nok', 'nokia', 'nokian', 'noma', 'nominal', 'nomination', 'non', 'nonbinding', 'noncore', 'nonwovens', 'noon', 'noop', 'noora', 'noponen', 'nord', 'nordalu', 'nordea', 'nordic', 'nordstjernan', 'norilsk', 'normal', 'normalises', 'normalized', 'normally', 'normandy', 'normark', 'normative', 'norske', 'norsun', 'nortel', 'north', 'northeast', 'northern', 'northernmost', 'northland', 'northwest', 'northwestern', 'norvestia', 'norway', 'norwegian', 'notably', 'note', 'noted', 'nothing', 'notice', 'noticeable', 'notification', 'notified', 'noting', 'noud', 'nov', 'novator', 'novel', 'november', 'novotel', 'nsi', 'nsn', 'nsr', 'nst', 'ntc', 'nter', 'ntsb', 'ntt', 'nuclear', 'nugget', 'number', 'numerous', 'nurminen', 'nursery', 'nursing', 'nutritional', 'nutzfahrzeuge', 'nv', 'nwc', 'nyberg', 'nyman', 'nyrstar', 'nyse', 'oao', 'oasis', 'oat', 'objective', 'objectively', 'oblast', 'obligated', 'oblivion', 'oborniki', 'observation', 'observed', 'observes', 'obstacle', 'obtained', 'occasion', 'occupancy', 'occupied', 'occupier', 'occupies', 'occupy', 'occurred', 'occurring', 'och', 'oct', 'october', 'odd', 'odell', 'odyssey', 'oefirstalert', 'oems', 'oesk', 'ofbodywhich', 'ofcramo', 'offenburg', 'offer', 'offered', 'offering', 'office', 'officer', 'official', 'offs', 'offset', 'offshore', 'oflemminkainen', 'often', 'ogden', 'ohio', 'oil', 'oja', 'ojala', 'oka', 'okhta', 'okm', 'okmetic', 'oko', 'oksanen', 'olavi', 'old', 'older', 'oldest', 'oleg', 'olive', 'olkiluoto', 'olli', 'ollikainen', 'olvi', 'olympic', 'omena', 'omeo', 'omitted', 'omx', 'omxn', 'onboard', 'one', 'onemed', 'oneworld', 'ongoing', 'online', 'onodi', 'onstar', 'onto', 'onwards', 'ooo', 'op', 'open', 'opened', 'opening', 'operate', 'operated', 'operates', 'operating', 'operation', 'operational', 'operative', 'operator', 'opinion', 'opk', 'opna', 'opportunity', 'optical', 'optiflex', 'optimisation', 'optimising', 'optimistic', 'optimistically', 'optimization', 'optimize', 'opting', 'option', 'optionally', 'opus', 'oral', 'orange', 'oras', 'orascom', 'orchard', 'ordabasy', 'order', 'ordered', 'ordinate', 'ore', 'oregon', 'organic', 'organically', 'organisational', 'organise', 'organised', 'organization', 'organize', 'organized', 'orhangazi', 'oriental', 'oriented', 'origin', 'original', 'originally', 'originated', 'oriola', 'orion', 'orkola', 'ornamental', 'ornav', 'os', 'osaka', 'osakeyhti', 'oscar', 'osl', 'oslo', 'osmium', 'osmo', 'ostrava', 'ostrobothnia', 'ostroleka', 'ostrom', 'osuuskauppa', 'osuuskunta', 'ote', 'oth', 'others', 'otherwise', 'otis', 'otto', 'oulu', 'ourmachinery', 'outbound', 'outcome', 'outdoor', 'outdoors', 'outfit', 'outgoing', 'outlet', 'outlook', 'outokumpu', 'outotec', 'outperform', 'outplacement', 'output', 'outright', 'outside', 'outsource', 'outsourced', 'outsourcing', 'outstanding', 'ovako', 'overall', 'overcharging', 'overlaid', 'overlapping', 'overnight', 'overseas', 'oversee', 'overshadowed', 'oversupply', 'overtime', 'overview', 'ovi', 'ovum', 'owing', 'owned', 'owner', 'ownership', 'owning', 'owns', 'oximeter', 'oxygen', 'oxyview', 'oy', 'oyj', 'oyname', 'ozk', 'pa', 'paatela', 'paavel', 'pacific', 'pack', 'package', 'packaging', 'packed', 'packet', 'packing', 'pact', 'pad', 'pagamentos', 'page', 'paid', 'paijat', 'paikallissanomat', 'painful', 'paint', 'painted', 'painting', 'paivaniemi', 'pakistan', 'palace', 'paldiski', 'palfinger', 'palin', 'palm', 'palmberg', 'palvelut', 'pan', 'panama', 'panamax', 'panda', 'panel', 'panfish', 'panies', 'pankaj', 'pankki', 'panostaja', 'papa', 'papel', 'paper', 'paperboard', 'paperlinx', 'papermaker', 'papua', 'par', 'paradoxical', 'parallel', 'parameter', 'paran', 'parchment', 'parent', 'paris', 'parity', 'park', 'parkano', 'parking', 'parliament', 'parnu', 'parquet', 'part', 'partial', 'partially', 'participant', 'participate', 'participated', 'participates', 'participating', 'participation', 'particle', 'particular', 'particularly', 'partihallsf', 'partihallsforbindelsen', 'partition', 'partly', 'partner', 'partnering', 'partnership', 'party', 'parvi', 'pas', 'passage', 'passed', 'passenger', 'password', 'past', 'patch', 'pate', 'patent', 'patented', 'path', 'pathana', 'pathological', 'patient', 'patja', 'patricia', 'patrick', 'patrik', 'patrizia', 'patronage', 'pattern', 'paul', 'paulig', 'pavara', 'pave', 'pavement', 'paviljonki', 'pay', 'payable', 'paycheck', 'paychex', 'paying', 'payment', 'payout', 'payphones', 'payroll', 'pb', 'pc', 'pcb', 'pcbs', 'pcmag', 'pct', 'pda', 'pde', 'peab', 'pear', 'pearl', 'peat', 'pecs', 'pedestrian', 'pedestrianised', 'pedometer', 'peeling', 'peer', 'pehu', 'peigs', 'pekka', 'pekkarinen', 'pekoni', 'pellet', 'pelletizing', 'pellissier', 'pellonpaja', 'peltola', 'peltonen', 'pending', 'pennsylvania', 'penny', 'pensioenfonds', 'pension', 'pensionable', 'pentik', 'pentti', 'penttil', 'penttila', 'people', 'pequot', 'per', 'percent', 'percentage', 'perch', 'perfect', 'perform', 'performance', 'performed', 'performing', 'peri', 'period', 'perkonoja', 'perlos', 'permanent', 'permanently', 'permission', 'permit', 'permitted', 'peroxide', 'perpendicular', 'persistently', 'person', 'personal', 'personalized', 'personally', 'personnel', 'perspective', 'perth', 'pertti', 'perttu', 'pervorouralsky', 'pesonen', 'pestka', 'pet', 'petcore', 'peter', 'petersburg', 'peterson', 'petition', 'petri', 'petrochemical', 'petrol', 'peugeot', 'pfizer', 'pge', 'pharma', 'pharmaceutical', 'pharmacodynamic', 'pharmacokinetic', 'pharmacokinetics', 'pharmacy', 'pharming', 'phase', 'phil', 'philadelphia', 'philip', 'philippine', 'phillip', 'phishing', 'phoenix', 'phone', 'phonebook', 'phosphate', 'phosphodiesterase', 'phosphorous', 'photo', 'photonium', 'physical', 'piano', 'pick', 'picked', 'picture', 'pie', 'piece', 'pietarsaari', 'pietiek', 'pietinalho', 'pig', 'piirainen', 'pilanesberg', 'pile', 'pilot', 'piloting', 'pine', 'pink', 'pioneer', 'pioneering', 'pipe', 'pipeline', 'pipette', 'pipettor', 'pipettors', 'pirelli', 'pirila', 'pirkka', 'pisa', 'pistachio', 'pit', 'pitching', 'pivo', 'pivotable', 'pkc', 'pl', 'place', 'placed', 'placement', 'plain', 'plan', 'planmill', 'planned', 'planning', 'plant', 'plantation', 'plaque', 'plast', 'plasterboard', 'plastic', 'plate', 'platen', 'platform', 'platinum', 'platts', 'play', 'playbook', 'played', 'player', 'plaza', 'plc', 'plccompany', 'please', 'pleased', 'pleasurable', 'pledged', 'plot', 'plug', 'plumbing', 'plummeted', 'plunged', 'plus', 'plx', 'plyfa', 'plyland', 'plywood', 'pm', 'pnaas', 'pnabs', 'pntz', 'pocketable', 'podcast', 'podlaska', 'poh', 'pohjantahti', 'pohjoa', 'pohjois', 'pohjola', 'pohjolan', 'point', 'pointing', 'pojlf', 'poland', 'pole', 'police', 'policy', 'polish', 'politician', 'polled', 'pollex', 'polya', 'polyolefin', 'polytechnic', 'pon', 'pond', 'ponsse', 'ponten', 'ponzi', 'pool', 'poor', 'poorest', 'pop', 'popular', 'popularity', 'populated', 'population', 'pori', 'port', 'portable', 'portal', 'portfolio', 'portion', 'portsmouth', 'portti', 'portugal', 'porvoo', 'posed', 'poseidon', 'poser', 'position', 'positioned', 'positioning', 'positive', 'possession', 'possibility', 'possible', 'possibly', 'post', 'posted', 'postel', 'postimees', 'posting', 'postponement', 'pot', 'potash', 'potato', 'potential', 'potentially', 'poultry', 'pound', 'poundstretcher', 'pourings', 'powder', 'power', 'powered', 'powerful', 'powerless', 'powerplant', 'poy', 'poyry', 'poznan', 'ppmi', 'practically', 'practice', 'practitioner', 'pradesh', 'prague', 'praise', 'praised', 'pre', 'precedex', 'preceding', 'precinct', 'precipitation', 'precision', 'precor', 'predefined', 'predict', 'predictability', 'prefab', 'prefer', 'preferably', 'preference', 'preferred', 'preliminary', 'premature', 'premedia', 'premier', 'premise', 'premium', 'prepaid', 'preparation', 'prepare', 'prepared', 'prepares', 'preparing', 'prerequisite', 'presence', 'present', 'presentation', 'presented', 'presently', 'preserved', 'president', 'press', 'pressed', 'pressplate', 'pressure', 'pressuring', 'pressurized', 'pretax', 'pretty', 'prevailing', 'prevention', 'previous', 'previously', 'price', 'priced', 'pricier', 'pricing', 'pride', 'priit', 'primarily', 'primary', 'prime', 'primer', 'principal', 'principally', 'principle', 'print', 'printed', 'printing', 'prior', 'priority', 'privacy', 'private', 'privately', 'privatisation', 'privatization', 'prnewswire', 'pro', 'proactive', 'probably', 'problem', 'procedural', 'procedure', 'proceed', 'proceeded', 'proceeds', 'process', 'processed', 'processguide', 'processing', 'processor', 'procurement', 'produce', 'produced', 'producer', 'producing', 'product', 'production', 'productional', 'productive', 'productivity', 'produkt', 'prof', 'professional', 'profile', 'profiling', 'profit', 'profitability', 'profitable', 'program', 'programming', 'progress', 'progressed', 'proha', 'prohaska', 'prohibited', 'prohouse', 'project', 'projected', 'projection', 'projektivuokraus', 'proline', 'prolongation', 'prolonged', 'prom', 'promise', 'promised', 'promising', 'promo', 'promote', 'promoting', 'promotion', 'proof', 'proofpoint', 'propeller', 'proper', 'propertos', 'property', 'proportion', 'proposal', 'propose', 'proposed', 'proposes', 'proposition', 'proprietary', 'propulsion', 'prosecutor', 'prosition', 'prospect', 'prospectus', 'prosperous', 'protalix', 'protect', 'protection', 'protects', 'protein', 'prothious', 'protocol', 'prototype', 'protrusion', 'proud', 'prove', 'proved', 'proven', 'provide', 'provided', 'provider', 'provides', 'providing', 'province', 'proving', 'provision', 'provisional', 'provisioning', 'psoriasis', 'psv', 'pt', 'pty', 'publ', 'public', 'publication', 'publish', 'published', 'publisher', 'publishes', 'publishing', 'puljonki', 'pulkovo', 'pulp', 'pulpwood', 'pulse', 'pump', 'punch', 'purchase', 'purchased', 'purchasing', 'pure', 'puro', 'purpose', 'purse', 'pursuant', 'pursue', 'pursues', 'pursuing', 'pursuit', 'push', 'pushed', 'pusher', 'pushing', 'put', 'putin', 'putting', 'pvt', 'pyszny', 'qatar', 'qcs', 'qi', 'qingyuan', 'qpr', 'qt', 'quadriga', 'quadrupled', 'qualcomm', 'qualified', 'quality', 'quantity', 'quartal', 'quarter', 'quarterended', 'quarterly', 'quarto', 'quatrocon', 'question', 'queue', 'quick', 'quickly', 'quipped', 'quite', 'quito', 'quitting', 'quote', 'quoted', 'ra', 'raab', 'raahe', 'rabbit', 'rabobank', 'rabochy', 'race', 'racked', 'radar', 'radiation', 'radio', 'radiosonde', 'radome', 'raffle', 'ragot', 'ragutis', 'raha', 'raiffeisen', 'rail', 'railroad', 'railway', 'rainbow', 'raise', 'raised', 'raisio', 'raiso', 'raivv', 'rajamaki', 'rakennuskonevuokraamo', 'rakvere', 'rally', 'ramirent', 'ramp', 'ramsey', 'rana', 'range', 'ranger', 'ranging', 'rani', 'rank', 'ranked', 'ranking', 'rannikkoseutu', 'rantakari', 'rantanen', 'rao', 'rap', 'rapala', 'rapid', 'rapidly', 'ratasmaki', 'rate', 'rated', 'rating', 'ratio', 'rationalization', 'rationalize', 'raty', 'rauma', 'rautakesko', 'rautakirja', 'rautalinko', 'rautaruukki', 'raute', 'raw', 'ray', 'rb', 'rbff', 'rbindelsen', 'rcp', 'reach', 'reached', 'reaching', 'reactive', 'reactor', 'read', 'reader', 'readership', 'reading', 'ready', 'readychex', 'reaffirmed', 'real', 'realignment', 'realistic', 'realize', 'realized', 'really', 'realprojekti', 'realtime', 'reason', 'reasonable', 'reasonably', 'rebate', 'rebound', 'rebounding', 'rebuild', 'rebuilds', 'rebuilt', 'recall', 'recalling', 'recari', 'receipt', 'receive', 'received', 'receives', 'receiving', 'recent', 'recently', 'recentlyvia', 'receptacle', 'reception', 'recession', 'recipient', 'reclaimed', 'recognize', 'recognized', 'recoil', 'recommencing', 'recommend', 'recommendable', 'recommendation', 'record', 'recorded', 'recording', 'recover', 'recovered', 'recovers', 'recovery', 'recruit', 'recruited', 'recruitment', 'rectifier', 'recurring', 'recycle', 'recycled', 'recycling', 'red', 'redeem', 'redeemed', 'redelivery', 'redesigned', 'redevelopment', 'reding', 'redistribution', 'reduce', 'reduced', 'reduces', 'reducing', 'reduction', 'redundancy', 'redundant', 'reel', 'reference', 'refinance', 'refinancing', 'refiner', 'refinery', 'refining', 'reflect', 'reflected', 'reflector', 'reflects', 'reform', 'refreshment', 'reftele', 'refund', 'refurbish', 'refurbishing', 'refurbishment', 'refused', 'refuted', 'regal', 'regard', 'regarded', 'regarding', 'regeneration', 'regenerative', 'regina', 'region', 'regional', 'regionally', 'register', 'registered', 'registration', 'regular', 'regulated', 'regulates', 'regulatory', 'rehabilitation', 'rehabilitative', 'rehu', 'reijo', 'reiljan', 'reimbursed', 'reinforce', 'reinforced', 'reinforcement', 'reino', 'reisholz', 'reiterated', 'reiterates', 'rejected', 'reka', 'relacom', 'related', 'relates', 'relating', 'relation', 'relationship', 'relative', 'relatively', 'relaunch', 'release', 'released', 'relevant', 'reliability', 'reliable', 'reliance', 'relinquishing', 'relocate', 'relocated', 'relocation', 'rely', 'remain', 'remainder', 'remained', 'remaining', 'remains', 'remarked', 'remind', 'remodeled', 'remote', 'remotely', 'removable', 'removal', 'removed', 'remuneration', 'renal', 'render', 'rendered', 'renesas', 'renew', 'renewable', 'renewables', 'renewal', 'renewed', 'renewing', 'reng', 'renison', 'renounce', 'renovate', 'renovated', 'renovation', 'rent', 'rentakran', 'rental', 'renzo', 'reopen', 'reorganisation', 'reorganised', 'reorganization', 'reorganizing', 'repaid', 'repair', 'repay', 'repayment', 'repeal', 'repeat', 'repeated', 'repeating', 'replace', 'replaced', 'replacement', 'replaces', 'replay', 'repo', 'report', 'reportable', 'reported', 'reportedly', 'reporter', 'reporting', 'repositioning', 'represent', 'representation', 'representative', 'represented', 'representing', 'represents', 'reproduction', 'republic', 'republication', 'repurchase', 'repurchased', 'request', 'requesting', 'require', 'required', 'requirement', 'requires', 'requisition', 'research', 'reseller', 'reservation', 'reserve', 'reserved', 'resettlement', 'reshuffled', 'residence', 'resident', 'residential', 'residentialconstruction', 'residue', 'resignation', 'resigned', 'resilience', 'resin', 'resolution', 'resolve', 'resolved', 'resort', 'resource', 'resourcing', 'respect', 'respecta', 'respective', 'respectively', 'respiratory', 'responded', 'respondent', 'response', 'responsibility', 'responsible', 'responsibly', 'responsive', 'resposnible', 'respublikos', 'rest', 'restart', 'restarting', 'restarts', 'restaurant', 'resting', 'restoration', 'restraining', 'restricted', 'restriction', 'restructured', 'restructuring', 'restructurings', 'result', 'resulted', 'resulting', 'resurrect', 'retail', 'retailed', 'retailer', 'retailing', 'retain', 'retained', 'retaining', 'retire', 'retired', 'retirement', 'retiring', 'retrieves', 'retrieving', 'retrofit', 'rettig', 'return', 'returned', 'reuters', 'rev', 'revamped', 'revealed', 'revenue', 'review', 'revise', 'revised', 'revolving', 'reward', 'rewarded', 'rf', 'rfc', 'rfid', 'rheumatoid', 'rhine', 'rhubarb', 'rib', 'rice', 'rich', 'ridge', 'rifd', 'riga', 'right', 'rightfully', 'rigid', 'rihko', 'riihim', 'rik', 'rim', 'rimi', 'rimvesta', 'ringman', 'rinkuskiai', 'rinne', 'rise', 'risen', 'risfelt', 'rising', 'risk', 'riskware', 'risto', 'rival', 'river', 'rk', 'rl', 'rmb', 'rme', 'rmg', 'rmr', 'rn', 'rnits', 'ro', 'road', 'roadmap', 'roadshow', 'roadway', 'roaster', 'robert', 'robot', 'robust', 'roce', 'rock', 'rocketed', 'rockwell', 'rod', 'roger', 'rohwedder', 'roi', 'role', 'roll', 'rolling', 'roman', 'romania', 'romanian', 'roof', 'roofing', 'room', 'rop', 'ropax', 'roro', 'rory', 'rosa', 'rosberg', 'rose', 'rosen', 'rosendal', 'rosenlew', 'roshan', 'rostelecom', 'rostov', 'rotana', 'rotation', 'rotterdam', 'rough', 'roughly', 'round', 'roundtable', 'roundwood', 'route', 'routine', 'routing', 'roving', 'royal', 'royalty', 'royce', 'rpk', 'rpm', 'rsa', 'rspo', 'rtch', 'rtg', 'rtkm', 'rtrks', 'rts', 'rtsil', 'ru', 'rubber', 'rubin', 'ruble', 'rug', 'rugby', 'ruin', 'rukax', 'rule', 'ruled', 'rumilly', 'rumor', 'run', 'runner', 'running', 'runway', 'ruokatalo', 'ruselprom', 'rush', 'rushydro', 'russia', 'russian', 'rutav', 'ruukki', 'ruuska', 'ruutana', 'ruwais', 'rvi', 'rvinen', 'rvr', 'ryobi', 'ryymin', 'sa', 'saa', 'saarelainen', 'saarijarvi', 'saarinen', 'saarioinen', 'saavalainen', 'sabah', 'sabbatical', 'sabharwal', 'sac', 'sacanfil', 'sachs', 'sadam', 'safe', 'safely', 'safety', 'safran', 'saha', 'sahavaara', 'sahlberg', 'said', 'saigon', 'sailed', 'saimaa', 'sains', 'saint', 'sakari', 'saku', 'sal', 'salaried', 'salary', 'salcomp', 'sale', 'salmi', 'salminen', 'salo', 'salokannel', 'salomon', 'salonen', 'salonius', 'salovaara', 'salt', 'saltonstall', 'salvor', 'samas', 'sami', 'sampo', 'samsung', 'samuel', 'san', 'sanayi', 'sanctuary', 'sand', 'sandal', 'sandanger', 'sandberg', 'sandwich', 'sanitas', 'sanitation', 'sankey', 'sanna', 'sanoma', 'sanomat', 'sanomawsoy', 'sanyo', 'sap', 'sappi', 'sarantel', 'saratovenergo', 'sardus', 'sare', 'sari', 'sarkamies', 'sastamala', 'sat', 'sata', 'satama', 'satellite', 'satin', 'satisfactorily', 'satisfied', 'satisfies', 'satlan', 'saturation', 'saudi', 'sauk', 'saunalahti', 'sausage', 'sav', 'savcor', 'save', 'saved', 'saving', 'savo', 'savon', 'savonlinna', 'savvy', 'saw', 'sawmill', 'sawn', 'say', 'saying', 'saysjouni', 'sbgrp', 'scaffolding', 'scala', 'scalable', 'scale', 'scamming', 'scan', 'scandic', 'scandinavia', 'scandinavian', 'scanfil', 'scania', 'scanned', 'scanning', 'scantrack', 'scenario', 'scene', 'scf', 'scheck', 'schedule', 'scheduled', 'scheduling', 'scheme', 'schindler', 'schmardin', 'scholarship', 'school', 'schuldschein', 'schulte', 'schultz', 'schultze', 'schwalm', 'sciard', 'science', 'scissor', 'scissors', 'scope', 'scopi', 'scorecard', 'scored', 'scoring', 'scotland', 'scott', 'scout', 'scrap', 'scrapped', 'screen', 'screening', 'screw', 'sculptural', 'sda', 'sdm', 'se', 'sea', 'seafood', 'seahawkdrilling', 'seal', 'sealed', 'seamless', 'search', 'searched', 'searching', 'season', 'seasonal', 'seat', 'seawind', 'seb', 'sechs', 'second', 'secondary', 'secretary', 'section', 'sector', 'secure', 'secured', 'securing', 'security', 'sedation', 'see', 'seeder', 'seek', 'seeking', 'seem', 'seemed', 'seems', 'seen', 'segment', 'segu', 'sehk', 'seidenberg', 'seikku', 'sein', 'seinajoki', 'seismic', 'seitovirta', 'sek', 'sel', 'select', 'selected', 'selection', 'selects', 'self', 'sell', 'seller', 'selling', 'semi', 'semiconductor', 'seminar', 'semiproducts', 'send', 'sending', 'seng', 'senior', 'sense', 'sensing', 'sensor', 'sent', 'sentera', 'sentiment', 'sentry', 'seoul', 'sep', 'sepa', 'separate', 'separated', 'separately', 'separating', 'separation', 'sepp', 'seppala', 'seppanen', 'seppo', 'sept', 'september', 'sequenced', 'serbia', 'serf', 'serial', 'series', 'serve', 'served', 'server', 'service', 'servicing', 'serving', 'servis', 'session', 'set', 'setting', 'settled', 'settlement', 'setv', 'seudun', 'seven', 'seventeen', 'seventh', 'seventy', 'several', 'sewed', 'sewer', 'sfd', 'sfi', 'sft', 'sh', 'shad', 'shade', 'shadow', 'shale', 'shalkiya', 'shall', 'shanahan', 'shane', 'shanghai', 'shape', 'share', 'shared', 'shareholder', 'shareholding', 'sharepoint', 'sharing', 'sharp', 'sharpest', 'sharply', 'shavlik', 'shb', 'shdsl', 'shed', 'shedding', 'sheet', 'sheffield', 'sheksna', 'shelf', 'shell', 'shelter', 'shelved', 'shenzhen', 'shielding', 'shift', 'shifted', 'shimano', 'ship', 'shipbuilder', 'shipbuilding', 'shipment', 'shipowner', 'shipping', 'shipyard', 'shish', 'shivakumar', 'shock', 'shoe', 'shooting', 'shop', 'shopped', 'shopper', 'shopping', 'shore', 'short', 'shorter', 'shortlisted', 'shot', 'show', 'showcase', 'showed', 'showroom', 'shrank', 'shse', 'shut', 'shuweihat', 'si', 'sick', 'side', 'sidewalk', 'siemens', 'sievi', 'sight', 'sign', 'signal', 'signaling', 'signature', 'signed', 'significance', 'significant', 'significantly', 'signifies', 'signing', 'sihvo', 'sihvonen', 'siilinjarvi', 'silicon', 'silja', 'silva', 'silvennoinen', 'silver', 'sim', 'simdax', 'similar', 'simmons', 'simon', 'simonsen', 'simonson', 'simple', 'simplifies', 'simplify', 'simply', 'simulating', 'simultaneously', 'sinappi', 'since', 'singapore', 'singaporean', 'singer', 'single', 'singulase', 'sinocast', 'sinter', 'sintered', 'sintering', 'sintra', 'sipponen', 'sir', 'sirkka', 'sister', 'site', 'sitra', 'sitronics', 'situated', 'situation', 'six', 'sixth', 'sizable', 'size', 'sized', 'sizing', 'sk', 'skaarer', 'skandinavian', 'skandinaviska', 'skanssi', 'skat', 'skf', 'ski', 'skier', 'skiing', 'skilled', 'skin', 'skog', 'skogberg', 'skogster', 'skr', 'sky', 'skyl', 'skyline', 'slash', 'slashed', 'slaughterhouse', 'slaughtering', 'slavery', 'sled', 'slice', 'slid', 'slide', 'slight', 'slightly', 'slipped', 'slipping', 'slitting', 'slo', 'slogan', 'slot', 'slovak', 'slovakia', 'slovenia', 'slow', 'slowed', 'slowing', 'sludge', 'slumped', 'sm', 'small', 'smaller', 'smarket', 'smart', 'smartphone', 'smartphones', 'smelt', 'smelter', 'smith', 'smithfield', 'smoke', 'smoking', 'smooth', 'smoothly', 'smt', 'sna', 'snack', 'snag', 'snapper', 'snapshot', 'sneed', 'snow', 'snowfall', 'snp', 'soapstone', 'soared', 'soaring', 'social', 'societe', 'society', 'sodium', 'sodra', 'sofa', 'soft', 'softball', 'software', 'sokonet', 'sokopro', 'solar', 'sold', 'sole', 'solel', 'solely', 'solid', 'solidium', 'solo', 'solteq', 'solution', 'solvay', 'solvency', 'somaxon', 'someone', 'something', 'somoncom', 'song', 'sonoco', 'sony', 'soon', 'soosalu', 'sophisticated', 'sophos', 'sort', 'sotkamo', 'sought', 'sound', 'source', 'sourced', 'sourcing', 'south', 'southaven', 'southeast', 'southeastern', 'southern', 'southfield', 'southwestern', 'soy', 'spa', 'space', 'spain', 'span', 'spanning', 'spare', 'sparebank', 'spark', 'sparsely', 'spc', 'speaker', 'speaking', 'speaks', 'special', 'specialised', 'specialises', 'specialising', 'specialist', 'speciality', 'specialization', 'specialize', 'specialized', 'specialty', 'specie', 'specific', 'specifically', 'specified', 'specifying', 'spectrum', 'speculative', 'speech', 'speed', 'speeded', 'spend', 'spending', 'spent', 'sphere', 'spin', 'spinning', 'spite', 'split', 'spoke', 'spokesman', 'spokesperson', 'spokeswoman', 'spolka', 'sponda', 'sponsor', 'sponsored', 'sponsoring', 'sponsorship', 'sport', 'sporting', 'spot', 'spout', 'spraying', 'spread', 'spreader', 'spring', 'spruce', 'spunlace', 'spyware', 'sq', 'square', 'sriperumbudur', 'srl', 'srv', 'ssh', 'ssl', 'st', 'stabilisation', 'stabilise', 'stabilised', 'stability', 'stable', 'stacker', 'stadigh', 'stadtverwaltung', 'staff', 'staffer', 'stage', 'stahlberg', 'stainless', 'stake', 'stakeholder', 'stamp', 'stan', 'stand', 'standalone', 'standard', 'standardised', 'standing', 'stanley', 'star', 'start', 'started', 'starting', 'startup', 'state', 'stated', 'statement', 'station', 'stationery', 'statistic', 'statistical', 'status', 'statutory', 'stavebni', 'stavo', 'stavokonsult', 'stay', 'stead', 'steadily', 'steady', 'stealing', 'sted', 'steek', 'steel', 'steelmaker', 'steer', 'stefan', 'stemming', 'sten', 'stena', 'step', 'stereotyping', 'sterling', 'sterv', 'steve', 'stewart', 'stichting', 'stick', 'stig', 'still', 'sto', 'stock', 'stockholm', 'stockmann', 'stole', 'stone', 'stonegate', 'stonesoft', 'stood', 'stop', 'stoppage', 'stopped', 'stora', 'storage', 'store', 'stored', 'storengy', 'storey', 'storing', 'storm', 'story', 'stove', 'stoxx', 'stq', 'straddle', 'straight', 'strait', 'strand', 'stranded', 'strapping', 'strategic', 'strategically', 'strategy', 'strawberry', 'streak', 'stream', 'streaming', 'streamline', 'streamlined', 'streamlining', 'street', 'strelny', 'strength', 'strengthen', 'strengthened', 'strengthening', 'strengthens', 'stressful', 'stretch', 'stricter', 'strictest', 'strictly', 'strike', 'strip', 'stripy', 'strive', 'stroi', 'strong', 'stronger', 'strongest', 'strongly', 'structural', 'structure', 'struggled', 'struggling', 'stt', 'stuck', 'student', 'study', 'studying', 'stuk', 'stuttgart', 'stx', 'style', 'styled', 'stylised', 'sub', 'subcontract', 'subcontractor', 'subdivision', 'subject', 'submission', 'submitted', 'subordinated', 'subscribe', 'subscribed', 'subscriber', 'subscription', 'subsequent', 'subsidiary', 'subsidy', 'substantial', 'substantially', 'substantiallyimproved', 'substation', 'substitute', 'suburb', 'suburban', 'succeed', 'succeeded', 'succeeds', 'success', 'successful', 'successfully', 'successor', 'suction', 'sue', 'suez', 'suffered', 'suffering', 'sufficient', 'sufix', 'suggest', 'suihko', 'suisse', 'suistio', 'suitable', 'suite', 'suited', 'suitor', 'sukhraj', 'sulfide', 'sullivan', 'sulphuric', 'sum', 'sumatra', 'summary', 'summed', 'summer', 'summit', 'sun', 'sunday', 'sunk', 'sunnuntai', 'sunrise', 'suomalainen', 'suomen', 'suomi', 'suominen', 'suomo', 'suomussalmi', 'suonenjoen', 'suovaniemi', 'super', 'supercalendered', 'superior', 'supermarket', 'supermercado', 'superstructure', 'supervise', 'supervision', 'supervisor', 'supervisory', 'supplement', 'supplemented', 'supplied', 'supplier', 'supply', 'supplying', 'support', 'supported', 'supporting', 'supposed', 'surcharge', 'sure', 'surf', 'surface', 'surfeit', 'surfer', 'surfing', 'surged', 'surmise', 'surpass', 'surpassing', 'surprise', 'surrounding', 'surveillance', 'survey', 'surveyed', 'suspect', 'suspected', 'suspend', 'sustainability', 'sustainable', 'suunto', 'suur', 'suutari', 'suv', 'suy', 'sveikatos', 'svenska', 'svensson', 'sverige', 'sveza', 'svh', 'svp', 'svyazinvest', 'svyturys', 'swap', 'swedbank', 'sweden', 'swedish', 'swift', 'swiftly', 'swing', 'swirled', 'swiss', 'switch', 'switchboard', 'switzerland', 'swoope', 'swot', 'swung', 'symantec', 'symbian', 'symbol', 'symphony', 'syndicate', 'syndicated', 'syndication', 'synergy', 'synonymous', 'synosia', 'syrj', 'sysopen', 'systeemitiimi', 'system', 'systemhaus', 'ta', 'tab', 'tablet', 'tabloid', 'tacked', 'tackle', 'tafks', 'tag', 'tahdet', 'tahko', 'tail', 'tailgate', 'tailor', 'tailored', 'taiwan', 'takanen', 'take', 'taken', 'takeover', 'taking', 'takoma', 'talentum', 'talermo', 'talk', 'talking', 'tallink', 'tallinn', 'tallinna', 'tallon', 'talo', 'talotekniikka', 'taloustutkimus', 'talv', 'talvik', 'talvivaara', 'tambov', 'tameer', 'tamfelt', 'tamglass', 'tamil', 'tammela', 'tamminen', 'tampere', 'taneli', 'tank', 'tanker', 'tanqia', 'tanzania', 'tap', 'tapani', 'tape', 'tapeks', 'taping', 'tapio', 'tapiola', 'tapped', 'tapro', 'tapuli', 'target', 'targeted', 'targeting', 'tariff', 'tarmo', 'tasb', 'tase', 'task', 'taste', 'tata', 'tatu', 'tauras', 'tauro', 'tax', 'taxpayer', 'tb', 'tco', 'tdd', 'te', 'teacher', 'team', 'teamed', 'teaming', 'tec', 'tech', 'technical', 'technically', 'technip', 'techno', 'technological', 'technologically', 'technology', 'technopark', 'technoparks', 'technopolis', 'technoports', 'tecnomen', 'tecnomens', 'tecnopolis', 'tecnotree', 'tectia', 'teenager', 'teho', 'tehtaat', 'tehuolto', 'tekes', 'tekla', 'tekmanni', 'teknos', 'teks', 'tel', 'telanne', 'telco', 'telcontar', 'tele', 'telecom', 'telecominvest', 'telecomms', 'telecommunication', 'telecomworldwire', 'telekom', 'telematics', 'telemig', 'telenor', 'telephone', 'teleste', 'television', 'telgua', 'telia', 'teliasonera', 'telko', 'tell', 'tellabs', 'telling', 'telpak', 'tem', 'temporarily', 'temporary', 'ten', 'tenant', 'tendency', 'tender', 'tendering', 'tent', 'tenth', 'teollisuuden', 'teppo', 'term', 'terminal', 'terminate', 'terminated', 'termination', 'terminator', 'tero', 'terrain', 'territory', 'terrorized', 'tesisleri', 'tesoro', 'test', 'testament', 'tester', 'testing', 'teterboro', 'tetroxide', 'teurastamokiinteistot', 'teus', 'teva', 'tex', 'texas', 'text', 'textile', 'tgk', 'th', 'thailand', 'thames', 'thank', 'thanks', 'thanksto', 'theagreement', 'thebault', 'theft', 'thegps', 'thelatest', 'theme', 'theodosopoulos', 'therapeutic', 'therapy', 'thereby', 'therefore', 'therein', 'thermal', 'thesecond', 'thesis', 'theutilization', 'thewartsila', 'theyre', 'thicker', 'thief', 'thin', 'thing', 'think', 'thinly', 'thinner', 'third', 'thirteen', 'thirty', 'thomas', 'thomson', 'thorwoste', 'though', 'thousand', 'threat', 'threatening', 'three', 'throughout', 'throughput', 'thursday', 'thus', 'thyssenkrupp', 'ticaret', 'ticket', 'tidningar', 'tie', 'tied', 'tielinja', 'tier', 'tieto', 'tietoenator', 'tietoenators', 'tight', 'tightened', 'tightening', 'tii', 'tiimari', 'tik', 'tikanoja', 'tikkakoski', 'tikkurila', 'tiled', 'till', 'tim', 'timber', 'timberjack', 'time', 'timeless', 'timetable', 'timo', 'tinyurl', 'tinyurls', 'tip', 'tire', 'tissue', 'title', 'tiusanen', 'tj', 'tkk', 'tlsn', 'tlt', 'tlv', 'tm', 'tmls', 'tn', 'tobacco', 'today', 'together', 'toilet', 'toivola', 'tokyo', 'told', 'tolerability', 'tolerated', 'tom', 'tomas', 'tomato', 'tomi', 'tommi', 'tomorrow', 'tomsk', 'tomtom', 'ton', 'tonnage', 'tonne', 'took', 'tool', 'toolonlahti', 'top', 'topic', 'topical', 'topped', 'toppled', 'toptronics', 'tornio', 'tornstrom', 'tortue', 'toshiba', 'tosno', 'total', 'totaled', 'totaling', 'totalled', 'totalling', 'totally', 'touch', 'tough', 'tougher', 'tour', 'tourist', 'tournament', 'toward', 'towards', 'tower', 'town', 'toxic', 'toy', 'tps', 'trace', 'traceability', 'traced', 'track', 'tracker', 'tracking', 'trade', 'traded', 'tradeka', 'trademark', 'trader', 'trading', 'tradition', 'traditional', 'traffic', 'trail', 'trailer', 'train', 'trained', 'trainee', 'trainer', 'training', 'transaction', 'transfer', 'transferable', 'transferred', 'transferring', 'transit', 'transmission', 'transplace', 'transport', 'transportation', 'transported', 'travel', 'traveler', 'traveling', 'traveller', 'treasury', 'treat', 'treating', 'treatment', 'treble', 'tree', 'tremendous', 'trend', 'trent', 'trh', 'trial', 'tried', 'triggered', 'trilateral', 'trim', 'trip', 'triple', 'tripled', 'trojan', 'trouble', 'troubled', 'trout', 'truck', 'true', 'truly', 'trust', 'trustworthy', 'try', 'trygvesta', 'trying', 'tse', 'tt', 'ttm', 'tube', 'tuesday', 'tuija', 'tukka', 'tulevaisuus', 'tulikivi', 'tulla', 'tulonen', 'tumbleweed', 'tumkur', 'tummy', 'tune', 'tunnel', 'tuomainen', 'tuomas', 'tuomo', 'turbine', 'turbo', 'turkcell', 'turkey', 'turkish', 'turku', 'turn', 'turned', 'turning', 'turnkey', 'turnover', 'turntable', 'turtas', 'turun', 'tusa', 'tutkimuksen', 'tuuri', 'tv', 'tver', 'tvo', 'tweeple', 'tweet', 'twelve', 'twenty', 'twh', 'twice', 'twig', 'twist', 'two', 'twofold', 'tyo', 'type', 'typed', 'typical', 'typically', 'tyre', 'tyred', 'tyrv', 'tyrvaan', 'tyumen', 'uab', 'uae', 'ubs', 'ucell', 'udlejning', 'ues', 'ufa', 'ufj', 'ugglarp', 'uh', 'ui', 'uio', 'uk', 'ukmerge', 'ukonaho', 'ukraine', 'ulefos', 'ulitsa', 'ulm', 'ultra', 'ultrascan', 'umbrella', 'umo', 'umts', 'unanimous', 'unaudited', 'unbanked', 'unbelievably', 'unbroken', 'unc', 'uncertain', 'uncertainty', 'unchanged', 'uncoated', 'uncommonly', 'unconfirmed', 'und', 'underground', 'underlying', 'underperf', 'underperform', 'understand', 'understanding', 'understood', 'undertaken', 'undertaking', 'underutilisation', 'underweight', 'underwent', 'undisclosed', 'undisturbed', 'unfortunately', 'unibrew', 'unicom', 'unified', 'unify', 'uniglass', 'unikko', 'unilever', 'unimilk', 'union', 'uniontown', 'unique', 'unit', 'unite', 'united', 'uniting', 'universal', 'universiti', 'university', 'unknown', 'unless', 'unlike', 'unlimited', 'unlisted', 'unloader', 'unmanned', 'unnamed', 'unprofitable', 'unquoted', 'unr', 'unrivalled', 'unsecured', 'unstable', 'unveil', 'unveiled', 'unveils', 'upcoming', 'update', 'updated', 'updating', 'upfront', 'upgrade', 'upgraded', 'upgrading', 'uplift', 'upload', 'upm', 'upon', 'uponor', 'ups', 'upset', 'upstaged', 'upstream', 'uranium', 'urban', 'urbanizing', 'urbano', 'url', 'uruguay', 'uruguayan', 'us', 'usa', 'usage', 'usd', 'use', 'used', 'user', 'using', 'usko', 'usmanov', 'usp', 'ustjug', 'usual', 'usually', 'utah', 'utenos', 'utilisation', 'utilise', 'utilised', 'utilises', 'utilising', 'utility', 'utilizing', 'utm', 'uusimaki', 'uutiset', 'uutislehti', 'uv', 'uwe', 'uzbek', 'va', 'vaahto', 'vaalipalvelu', 'vaasa', 'vac', 'vacancy', 'vacant', 'vaccination', 'vaccine', 'vacon', 'vacuum', 'vahur', 'vaias', 'vaisala', 'valdor', 'valga', 'valid', 'validating', 'validation', 'valio', 'valkama', 'valkeakoski', 'valley', 'valmet', 'valuable', 'valuation', 'value', 'valued', 'valve', 'van', 'vana', 'vanhanen', 'vantaa', 'vantaan', 'vantage', 'vap', 'varesvuo', 'variant', 'variety', 'various', 'varkaus', 'varma', 'varnishing', 'varpaisj', 'vartan', 'vary', 'vasantha', 'vashi', 'vast', 'vastse', 'vat', 'vataja', 'vauramo', 'vcp', 'vdw', 'veda', 'veeger', 'vega', 'vegetable', 'vehicle', 'vehvil', 'vehvilainen', 'veidekke', 'veikko', 'veil', 'vekka', 'veli', 'veliky', 'velta', 'vendor', 'veneer', 'venezuel', 'ventilated', 'venture', 'ver', 'veracel', 'verbund', 'verification', 'verifying', 'verizon', 'versatile', 'version', 'versus', 'vertical', 'vesa', 'vessel', 'vga', 'via', 'viable', 'vianor', 'vibe', 'vibrocompactors', 'vice', 'vicinity', 'victoria', 'video', 'vie', 'vietnam', 'view', 'viewed', 'viewing', 'viewpoint', 'viiala', 'viii', 'viisas', 'viitaniemi', 'viitasaari', 'vijver', 'viking', 'village', 'vilo', 'vimpelcom', 'vimpeli', 'vinachem', 'vintage', 'violated', 'virala', 'virent', 'virgin', 'virkkala', 'viro', 'virpi', 'virsuliskes', 'virtual', 'virus', 'virve', 'visa', 'viscaria', 'vishakapatnam', 'visibility', 'visible', 'vision', 'visit', 'visited', 'visitor', 'vista', 'visual', 'vitamin', 'vitim', 'vivid', 'vizag', 'vladimir', 'vladivostok', 'vmc', 'vnh', 'vocal', 'vocollect', 'vodafone', 'voice', 'voiced', 'voicemail', 'voima', 'voimatel', 'voip', 'volkswagen', 'vologda', 'volotinen', 'voltage', 'volume', 'voluntary', 'volunteer', 'volvo', 'von', 'vorota', 'vosstaniya', 'vostochny', 'vostok', 'vote', 'voting', 'votorantim', 'vp', 'vpn', 'vr', 'vridi', 'vsevolozhsk', 'vtb', 'vtm', 'vuokatti', 'vuolteenaho', 'vuorenmaa', 'vuosaari', 'vv', 'vwr', 'wackiness', 'wafer', 'wage', 'wagon', 'wahlroos', 'wait', 'waiting', 'waiving', 'walby', 'walden', 'walker', 'walki', 'walking', 'wall', 'wallenberg', 'wallhamn', 'walter', 'walvis', 'want', 'wanted', 'wap', 'warehouse', 'warehousing', 'warmly', 'warned', 'warner', 'warning', 'warrant', 'warranty', 'warsaw', 'wartsila', 'washable', 'washing', 'washington', 'waste', 'wastewater', 'wat', 'watch', 'watching', 'watchtower', 'water', 'waterborne', 'watermark', 'waterqueen', 'watertight', 'wave', 'wax', 'way', 'wayne', 'wcdma', 'weak', 'weakened', 'weakening', 'weaker', 'weakness', 'weather', 'weatherdeck', 'web', 'webcast', 'weber', 'weblogs', 'websense', 'website', 'weckstr', 'wednesday', 'week', 'weekday', 'weekend', 'weekly', 'weert', 'weighing', 'weighs', 'weight', 'weighted', 'welcome', 'welding', 'welfare', 'well', 'wellbeing', 'wellingborough', 'wellmont', 'wellness', 'welsh', 'wenchong', 'went', 'west', 'westend', 'westerlund', 'western', 'westpac', 'westphalia', 'westward', 'wet', 'wheat', 'whereas', 'whereby', 'wherever', 'whether', 'whilst', 'white', 'whitefield', 'whitehall', 'whole', 'wholesale', 'wholesaler', 'wholly', 'whose', 'wi', 'wide', 'widen', 'widened', 'wider', 'width', 'wife', 'wig', 'wiio', 'wiklof', 'williams', 'williamson', 'willich', 'willingness', 'wilson', 'wimax', 'win', 'wind', 'winded', 'winder', 'window', 'winner', 'winning', 'wintek', 'winter', 'wipe', 'wipro', 'wire', 'wireless', 'wirsam', 'wisa', 'wisconsin', 'wise', 'wish', 'withdrawing', 'withdrawn', 'within', 'without', 'withviking', 'wo', 'wolf', 'wolverine', 'woman', 'wonderful', 'wonderware', 'wood', 'wooden', 'woodlock', 'woodworking', 'wording', 'wore', 'work', 'workday', 'worked', 'worker', 'workflow', 'workforce', 'workforse', 'working', 'workout', 'workshop', 'world', 'worldwide', 'worm', 'worn', 'woro', 'worried', 'worrying', 'worse', 'worth', 'would', 'wrapped', 'wrapping', 'write', 'writer', 'writing', 'written', 'wrote', 'wrt', 'wt', 'wtc', 'wwd', 'www', 'wynne', 'wysockiego', 'xdsl', 'xerox', 'xfn', 'xm', 'xns', 'xpower', 'xpress', 'xvi', 'xx', 'ya', 'yahoo', 'yakima', 'yamskogo', 'yankov', 'yara', 'yard', 'yaroslavl', 'yea', 'year', 'yearly', 'yekaterinburg', 'yellow', 'yen', 'yesterday', 'yet', 'yhteishyv', 'yhtym', 'yhtyma', 'yield', 'yiliang', 'yinhe', 'yit', 'yitgroup', 'ylinen', 'yliopistonrinne', 'ylivieska', 'yokohama', 'york', 'young', 'youtube', 'yr', 'yry', 'ystok', 'yty', 'yuval', 'yvonne', 'zahariev', 'zaharova', 'zain', 'zainalabedin', 'zanadvorov', 'zandvliet', 'zao', 'zapadnye', 'zealand', 'zepro', 'zero', 'zgody', 'zinc', 'zip', 'zloty', 'zoltan', 'zone', 'zoo', 'zte', 'zu']\n",
            "(8021, 8098)\n",
            "[[0 0 0 ... 0 0 0]\n",
            " [0 0 0 ... 0 0 0]\n",
            " [0 0 0 ... 0 0 0]\n",
            " ...\n",
            " [0 0 0 ... 0 0 0]\n",
            " [0 0 0 ... 0 0 0]\n",
            " [0 0 0 ... 0 0 0]]\n"
          ],
          "name": "stdout"
        }
      ]
    },
    {
      "cell_type": "code",
      "metadata": {
        "colab": {
          "base_uri": "https://localhost:8080/",
          "height": 279
        },
        "id": "R6ByPFlZIC3T",
        "outputId": "f85b134e-e73e-44a7-bff3-c8df6f5199e0"
      },
      "source": [
        "# Creating the TF-IDF model\n",
        "from sklearn.feature_extraction.text import TfidfVectorizer\n",
        "import pandas as pd\n",
        "vect=TfidfVectorizer()\n",
        "tfidf_matrix=vect.fit_transform(df['text_lemmatization'])\n",
        "print(vect.get_feature_names())\n",
        "print(tfidf_matrix.shape)\n",
        "df1=pd.DataFrame(tfidf_matrix.toarray(),columns=vect.get_feature_names())\n",
        "df1.head()"
      ],
      "execution_count": 17,
      "outputs": [
        {
          "output_type": "stream",
          "text": [
            "['aaland', 'aalborg', 'aalto', 'aaltonen', 'aaron', 'aava', 'aazhang', 'ab', 'abb', 'abbott', 'aberration', 'abidjan', 'ability', 'able', 'abloy', 'abn', 'aboavista', 'abp', 'abramov', 'abramovich', 'abroad', 'absentee', 'absolut', 'absorption', 'abu', 'ac', 'aca', 'acacia', 'acanb', 'acando', 'accelerate', 'accelerated', 'acceptance', 'accepted', 'access', 'accessible', 'accessory', 'accident', 'accommodate', 'accommodation', 'accomplish', 'accomplishing', 'accordance', 'according', 'accordingly', 'account', 'accountant', 'accounted', 'accounting', 'accumulate', 'accumulated', 'acg', 'achieve', 'achieved', 'achievement', 'achieving', 'acid', 'acknowledged', 'acnielsen', 'acquire', 'acquired', 'acquirer', 'acquires', 'acquiring', 'acquisition', 'acquitted', 'across', 'act', 'acted', 'acting', 'action', 'activate', 'activated', 'activating', 'activation', 'active', 'actively', 'activeness', 'activision', 'activity', 'actor', 'actual', 'actually', 'ad', 'adac', 'adak', 'adam', 'adanac', 'adapt', 'adaptation', 'adapter', 'adate', 'add', 'added', 'addiction', 'adding', 'addition', 'additional', 'additionally', 'address', 'addus', 'adequacy', 'adequate', 'adidas', 'adjacent', 'adjust', 'adjustable', 'adjusted', 'adjusting', 'adjustment', 'administered', 'administration', 'administrative', 'administrator', 'admired', 'admits', 'adopted', 'adopter', 'adopting', 'adoption', 'adp', 'adpnews', 'adr', 'adult', 'advance', 'advanced', 'advantage', 'advertised', 'advertisement', 'advertiser', 'advertising', 'advise', 'advised', 'advisor', 'advisory', 'aero', 'aeronautic', 'afe', 'affair', 'affarsvarlden', 'affect', 'affected', 'affecting', 'affecto', 'affectogenimap', 'affordable', 'aforementioned', 'africa', 'africaand', 'african', 'afternoon', 'afx', 'ag', 'age', 'agency', 'agenda', 'agent', 'aggregate', 'aggregator', 'aggressively', 'agitator', 'agj', 'agm', 'ago', 'agreed', 'agreeing', 'agreement', 'agrees', 'agricole', 'agricultural', 'agriculture', 'agro', 'ahead', 'ahl', 'ahlstrom', 'ahms', 'aho', 'ahola', 'ahold', 'ahvenainen', 'ailing', 'ailment', 'ailus', 'aim', 'aimed', 'aiming', 'air', 'airbaltic', 'airbus', 'aircraft', 'airline', 'airport', 'airspace', 'airtel', 'airvana', 'airway', 'aker', 'akseli', 'aktav', 'aktia', 'alabama', 'aladdin', 'alaj', 'alakoski', 'alandsbanken', 'albat', 'alberta', 'album', 'alcohol', 'ald', 'aldata', 'aleksandri', 'aleksanterinkatu', 'alert', 'alexander', 'alexandria', 'alfa', 'alfred', 'alholma', 'aligned', 'alike', 'alise', 'alleged', 'alliance', 'allocated', 'allocation', 'allonen', 'allotted', 'allow', 'allowance', 'allowed', 'allowing', 'allows', 'alloy', 'allure', 'alma', 'almaty', 'almost', 'aln', 'alone', 'along', 'alpina', 'alpine', 'alpro', 'already', 'also', 'altadis', 'altaienergosbyt', 'alteams', 'alter', 'alternately', 'alternative', 'although', 'altia', 'altima', 'altimo', 'altogether', 'altona', 'altra', 'alumina', 'aluminij', 'aluminium', 'aluminum', 'alus', 'always', 'am', 'amanda', 'ambassador', 'amber', 'ambulance', 'ameas', 'amending', 'amendment', 'amer', 'america', 'american', 'ameriprice', 'amex', 'amid', 'ammonia', 'among', 'amount', 'amounted', 'amounting', 'amplifier', 'amr', 'amro', 'amsterdam', 'analysis', 'analyst', 'analytics', 'analyzed', 'anasmotet', 'anchor', 'anchored', 'andalusia', 'andhra', 'andlinger', 'andrew', 'andrey', 'andrius', 'android', 'angeles', 'angler', 'animal', 'anjalankoski', 'anne', 'anneli', 'anniversary', 'announce', 'announced', 'announcement', 'announces', 'annual', 'annualised', 'annually', 'annulled', 'annum', 'annvik', 'anode', 'another', 'anrak', 'ansa', 'answer', 'antenna', 'anti', 'antibody', 'anticipated', 'anticipates', 'antniemi', 'antonio', 'antti', 'anttila', 'antwerp', 'aol', 'apac', 'apart', 'apartment', 'apetit', 'apiece', 'apollo', 'apoteket', 'app', 'apparatus', 'apparent', 'apparently', 'appeal', 'appealing', 'appear', 'appearing', 'appears', 'applauded', 'apple', 'appliance', 'applicable', 'applicant', 'application', 'applied', 'apply', 'applying', 'appoint', 'appointed', 'appointment', 'appreciation', 'approach', 'appropriate', 'approval', 'approve', 'approved', 'approx', 'approximately', 'apr', 'april', 'apsaugos', 'aptly', 'apwr', 'aqua', 'arab', 'arabia', 'arabized', 'arbidans', 'arcelormittal', 'archer', 'archestra', 'archicad', 'archipelago', 'architecture', 'archived', 'area', 'arena', 'areva', 'argentina', 'argentine', 'argument', 'arm', 'armada', 'army', 'arokarhu', 'around', 'arques', 'arranged', 'arrangement', 'arranger', 'arranging', 'arrive', 'arrived', 'art', 'artemis', 'artemyev', 'arteva', 'arthritis', 'article', 'artist', 'artistic', 'arto', 'arvo', 'arxikon', 'asa', 'asahi', 'ascs', 'asfaltti', 'ashley', 'ashutosh', 'asia', 'asian', 'aside', 'asimilar', 'ask', 'asked', 'asks', 'asm', 'asmi', 'asmobile', 'asokan', 'aspect', 'asphalt', 'aspiring', 'aspo', 'aspocomp', 'aspokem', 'assa', 'assembly', 'assessing', 'assessment', 'asset', 'assigned', 'assignment', 'assist', 'assistance', 'assistant', 'associate', 'associated', 'association', 'assume', 'assumed', 'assuming', 'assumption', 'assurance', 'astana', 'asthma', 'asx', 'atec', 'atlas', 'atom', 'atomic', 'atrium', 'attach', 'attached', 'attachment', 'attack', 'attacker', 'attempt', 'attend', 'attention', 'attract', 'attractive', 'attribute', 'attributed', 'atul', 'atvi', 'auburn', 'auction', 'audi', 'audience', 'audio', 'audit', 'auditing', 'auditor', 'aug', 'august', 'aulasmaa', 'aura', 'aussage', 'austin', 'australia', 'australian', 'austria', 'austrian', 'authentic', 'authentication', 'authorisation', 'authorise', 'authorised', 'authority', 'authorization', 'authorized', 'auto', 'automate', 'automated', 'automates', 'automatic', 'automatically', 'automation', 'automobile', 'automotive', 'autonomous', 'autotank', 'autumn', 'av', 'availability', 'available', 'avalon', 'avc', 'avena', 'avenue', 'average', 'avesta', 'avestapolarit', 'avi', 'aviation', 'avista', 'avoid', 'awaited', 'award', 'awarded', 'awareness', 'away', 'awkward', 'ax', 'axa', 'axe', 'axis', 'ayanambakkam', 'ba', 'babcock', 'baber', 'baby', 'back', 'backbone', 'backdrop', 'backed', 'backhaul', 'backlog', 'backup', 'bad', 'badly', 'bae', 'bag', 'bagdonas', 'bahia', 'bahr', 'bahrain', 'baked', 'baker', 'bakery', 'bakman', 'bakosch', 'balance', 'balanced', 'baldauf', 'bali', 'ball', 'ballast', 'balloon', 'balti', 'baltic', 'baltica', 'baltimore', 'ban', 'band', 'bangalore', 'bangkok', 'bank', 'banked', 'banken', 'banking', 'banned', 'bao', 'bar', 'barbeque', 'barc', 'barcelona', 'barclays', 'barents', 'bargain', 'bargaining', 'barge', 'bark', 'barley', 'barleycorn', 'barrel', 'barstow', 'barum', 'bascule', 'base', 'baseball', 'based', 'basel', 'basement', 'basf', 'basic', 'basis', 'basket', 'basketball', 'basware', 'batam', 'batch', 'bathroom', 'battery', 'bavaria', 'bavarian', 'bavelloni', 'bawag', 'bay', 'bbh', 'bbl', 'bcs', 'bctmp', 'beanie', 'bear', 'bearing', 'beat', 'beating', 'beatriz', 'beautifully', 'beauty', 'became', 'beckham', 'becky', 'become', 'becomes', 'becoming', 'bed', 'bedroom', 'beef', 'beeinflussen', 'beer', 'begin', 'beginner', 'beginning', 'behalf', 'behavior', 'behavioural', 'behind', 'behnaam', 'beijing', 'belarus', 'belchatow', 'beleaguered', 'belgian', 'belgium', 'belief', 'believe', 'belonging', 'beltton', 'belvedere', 'bench', 'benchmark', 'beneath', 'benecol', 'beneficial', 'beneficiary', 'benefit', 'benefon', 'benelux', 'bentos', 'bergqvist', 'bergvik', 'berlin', 'berling', 'bernhard', 'bertrand', 'beside', 'besides', 'best', 'bestseller', 'beta', 'beteiligungs', 'betoni', 'betonituote', 'better', 'beverage', 'beyond', 'bg', 'bhushan', 'bi', 'bia', 'bib', 'bicentenary', 'bicycle', 'bid', 'bidder', 'bidding', 'big', 'bigger', 'biggest', 'bilbao', 'bilfinger', 'bill', 'billing', 'billingham', 'billion', 'billionaire', 'bim', 'binding', 'bio', 'biobv', 'biocare', 'biodiesel', 'bioethanol', 'biofuel', 'biofuels', 'biography', 'bioheapleaching', 'biohit', 'biological', 'biologicals', 'biomass', 'biopharmaceutical', 'biotherapeutics', 'biotie', 'bioview', 'birch', 'birmingham', 'biscuit', 'bit', 'bitmapped', 'bj', 'bjorn', 'bk', 'black', 'blackberry', 'blackstone', 'blaming', 'blast', 'bleaching', 'blending', 'blind', 'bln', 'bloc', 'block', 'blocking', 'blog', 'blond', 'blood', 'bloomberg', 'blue', 'bluebird', 'bluegill', 'bluetooth', 'bluewin', 'blyk', 'bm', 'bn', 'bnamericas', 'bnpp', 'bns', 'bo', 'board', 'boardman', 'boat', 'boater', 'bochum', 'bockum', 'bodily', 'body', 'bofa', 'bogus', 'bohemia', 'boiler', 'bold', 'bollore', 'bolster', 'bom', 'bond', 'boni', 'bonus', 'book', 'booked', 'booking', 'bookrunners', 'boomed', 'boomerang', 'boomeranger', 'boost', 'boosted', 'boosting', 'boot', 'borba', 'bordeaux', 'border', 'bore', 'boring', 'borl', 'born', 'borrower', 'borrowing', 'bosch', 'bosnia', 'bosse', 'boston', 'bothnia', 'botnia', 'bottle', 'bottled', 'bottom', 'bought', 'bounced', 'boute', 'bovine', 'bow', 'bower', 'box', 'boxboard', 'boy', 'boycotting', 'bp', 'bps', 'bracing', 'braking', 'branch', 'brand', 'branded', 'brasil', 'brasiliensis', 'bratislava', 'bratsk', 'brazil', 'brazilian', 'bread', 'breadth', 'break', 'breakfast', 'breaking', 'breakup', 'breathe', 'breed', 'breeze', 'bretagne', 'brewer', 'brewerton', 'brewery', 'brian', 'brick', 'bridge', 'bridgestone', 'brief', 'bright', 'bring', 'bringing', 'brings', 'brinkab', 'brisk', 'brisker', 'brista', 'bristol', 'britain', 'british', 'brno', 'broad', 'broadband', 'broadcast', 'broadcaster', 'broader', 'broadsheet', 'brockpahler', 'broke', 'broker', 'brokerage', 'broking', 'brother', 'brought', 'browse', 'browser', 'browsing', 'bruce', 'bruk', 'brussels', 'bs', 'bts', 'btt', 'buckeye', 'bucking', 'budapest', 'budget', 'buenavista', 'build', 'builder', 'building', 'built', 'bukoba', 'bulgaria', 'bulk', 'bullet', 'bulletin', 'bullish', 'bullying', 'bunge', 'burdened', 'burgundy', 'burn', 'burning', 'burrill', 'burt', 'burton', 'bus', 'business', 'buster', 'button', 'buy', 'buyer', 'buying', 'buyout', 'bv', 'bylander', 'byline', 'bypass', 'ca', 'cabin', 'cable', 'cablevision', 'cableway', 'cabot', 'cad', 'cagr', 'cake', 'calafate', 'calais', 'calcination', 'calciners', 'calculate', 'calculated', 'calculates', 'calendar', 'calendered', 'calibrate', 'calibration', 'calif', 'california', 'call', 'called', 'caller', 'calling', 'camara', 'came', 'cameco', 'camera', 'campaign', 'campbell', 'campofrio', 'campomos', 'canada', 'canadian', 'canal', 'canceled', 'cancellation', 'cancer', 'candidate', 'canned', 'cannon', 'cant', 'canvas', 'cap', 'capability', 'capable', 'capacitor', 'capacity', 'capcom', 'capital', 'capitalize', 'capitel', 'capitex', 'capman', 'capped', 'capture', 'capturing', 'caput', 'car', 'carbon', 'card', 'cardiovascular', 'cardona', 'care', 'career', 'cargo', 'cargotec', 'carl', 'carlshamn', 'carmaker', 'carolina', 'carpark', 'carriage', 'carried', 'carrier', 'carrollton', 'carrot', 'carry', 'carrying', 'cartaria', 'cartel', 'carton', 'case', 'cash', 'casing', 'casper', 'cast', 'castecka', 'castell', 'casting', 'castle', 'casual', 'casualty', 'catalogue', 'catalyst', 'catalytic', 'catch', 'categorically', 'categorization', 'category', 'catering', 'cathay', 'cathode', 'cause', 'caused', 'causing', 'cautious', 'caverion', 'cayman', 'cba', 'cbd', 'cc', 'cd', 'cdli', 'cdma', 'cdp', 'ce', 'cease', 'cee', 'ceiling', 'celbi', 'celebrated', 'celebrates', 'cell', 'cellphone', 'cellular', 'cellulose', 'celtnieciba', 'celular', 'celulose', 'cement', 'cencorp', 'cent', 'center', 'centimeter', 'central', 'centralising', 'centralized', 'centrally', 'centre', 'centric', 'centricity', 'ceo', 'ceramic', 'cerberus', 'cereal', 'cerner', 'certain', 'certainly', 'certification', 'certified', 'cessation', 'cet', 'cf', 'cfo', 'cfr', 'cfsb', 'cgcbv', 'chaim', 'chain', 'chairman', 'chairmanship', 'challenge', 'challenger', 'challenging', 'chamber', 'chambersburg', 'chameleon', 'chance', 'chang', 'change', 'changed', 'changing', 'changshu', 'channel', 'chapter', 'characteristic', 'charge', 'charger', 'charging', 'chargz', 'charlotte', 'chart', 'charter', 'chartered', 'charting', 'chase', 'chassis', 'cheap', 'cheaper', 'cheapest', 'check', 'checked', 'checkpoint', 'cheered', 'cheerful', 'chelyabinsk', 'chemical', 'chennai', 'chf', 'chic', 'chicago', 'chichi', 'chief', 'chikunov', 'child', 'chile', 'chilled', 'china', 'chinese', 'chip', 'chipped', 'chipping', 'chirnside', 'chl', 'choice', 'cholesterol', 'choose', 'choosing', 'chopra', 'chore', 'chose', 'chosen', 'chp', 'christian', 'christine', 'christmas', 'christopher', 'chrome', 'chs', 'chu', 'chuck', 'churned', 'ci', 'cidco', 'cider', 'cido', 'cincinnati', 'cinema', 'cip', 'circle', 'circuit', 'circulating', 'circulation', 'cision', 'citadele', 'citi', 'citigroup', 'citing', 'city', 'citycon', 'citymarket', 'civil', 'cjsc', 'cl', 'claim', 'claiming', 'clamp', 'clarification', 'clarify', 'clarity', 'class', 'classic', 'classified', 'classroom', 'clausen', 'clean', 'cleaning', 'clear', 'clearer', 'clearly', 'clerical', 'click', 'clicked', 'clicking', 'client', 'clientele', 'cliffton', 'climate', 'climbed', 'climber', 'clinical', 'clock', 'close', 'closed', 'closely', 'closer', 'closing', 'closure', 'clothes', 'clothing', 'cloud', 'club', 'cm', 'cnc', 'cnl', 'co', 'coagulant', 'coal', 'coast', 'coaster', 'coat', 'coated', 'coating', 'coaxial', 'cobalt', 'coca', 'cockroft', 'cocktail', 'code', 'codetermination', 'coffee', 'cogeneration', 'cohen', 'coherent', 'coke', 'coker', 'cola', 'cold', 'collaborate', 'collaboration', 'collaborative', 'collar', 'collated', 'colleague', 'collect', 'collection', 'collective', 'collins', 'collision', 'color', 'colorado', 'colorful', 'colourful', 'columbia', 'com', 'combination', 'combine', 'combined', 'combining', 'come', 'comfort', 'comfortable', 'comfortably', 'coming', 'commanding', 'commence', 'commencing', 'comment', 'commented', 'commenting', 'commerce', 'commercial', 'commercially', 'commerzbank', 'commission', 'commissioned', 'commissioner', 'commissioning', 'commit', 'commiting', 'commitment', 'commits', 'committed', 'committee', 'commodity', 'common', 'communal', 'communicated', 'communication', 'community', 'compact', 'compagnie', 'companiesandmarkets', 'company', 'comparable', 'comparative', 'compare', 'compared', 'comparison', 'compass', 'compatible', 'compatriot', 'compensated', 'compensation', 'compete', 'competence', 'competency', 'competing', 'competition', 'competitive', 'competitiveness', 'competitor', 'compiling', 'complement', 'complemented', 'complete', 'completed', 'completely', 'completes', 'completion', 'complex', 'complexity', 'comply', 'complying', 'compnay', 'component', 'componenta', 'composite', 'composition', 'compound', 'comprehensive', 'compression', 'compressor', 'comprise', 'comprised', 'comprises', 'comprising', 'comptel', 'compulsory', 'computer', 'comtex', 'concentrate', 'concentrated', 'concentrating', 'concentrator', 'concept', 'conceptual', 'concern', 'concerned', 'concerning', 'conciliator', 'concluded', 'concludes', 'concrete', 'condition', 'conditioning', 'condominium', 'conduct', 'conducted', 'conducting', 'confectionery', 'conference', 'conferencing', 'confidence', 'confident', 'configuration', 'configured', 'confirmation', 'confirmed', 'confirming', 'conglomerate', 'congress', 'conjunction', 'connect', 'connected', 'connecting', 'connection', 'connectivity', 'connector', 'connects', 'consecutive', 'consensus', 'consent', 'consequence', 'conservative', 'consider', 'considerably', 'consideration', 'considered', 'considering', 'considers', 'consist', 'consistency', 'consistent', 'consisting', 'consists', 'consolidate', 'consolidated', 'consolidating', 'consolidation', 'consortium', 'conspiracy', 'constantly', 'constitute', 'constitutes', 'construct', 'constructed', 'construction', 'constructive', 'constructor', 'consulate', 'consultancy', 'consultant', 'consultation', 'consulting', 'consumer', 'consumption', 'contact', 'contacted', 'contain', 'contained', 'container', 'contains', 'contempus', 'content', 'contented', 'contest', 'contextual', 'continent', 'continental', 'continually', 'continuation', 'continue', 'continued', 'continues', 'continuing', 'continuous', 'continuously', 'contract', 'contracted', 'contracting', 'contractor', 'contrary', 'contrast', 'contribute', 'contributed', 'contribution', 'control', 'controlled', 'controller', 'controlling', 'convenience', 'convenient', 'converged', 'convergence', 'convergent', 'conversation', 'conversion', 'convert', 'converted', 'converter', 'convertible', 'converting', 'conveying', 'convinced', 'convincing', 'cool', 'cooling', 'cooper', 'cooperate', 'cooperating', 'cooperation', 'cooperationand', 'cooperative', 'coordinate', 'coordinated', 'copenhagen', 'copper', 'copy', 'copying', 'copyright', 'coq', 'core', 'corner', 'cornerstone', 'corp', 'corporate', 'corporation', 'corrected', 'correlation', 'corrensponds', 'correspond', 'corresponding', 'correspondingly', 'corresponds', 'corroborate', 'corrupt', 'cosco', 'coscom', 'cosmetic', 'cost', 'costanza', 'costly', 'costumer', 'could', 'council', 'count', 'countdown', 'counter', 'counterpart', 'countervalue', 'country', 'countryelements', 'county', 'couple', 'coupled', 'courier', 'course', 'court', 'courthouse', 'courtship', 'covenant', 'cover', 'coverage', 'covered', 'covering', 'cowboy', 'cowie', 'cph', 'cpps', 'cps', 'cra', 'cracker', 'craft', 'cramo', 'crane', 'crash', 'crazy', 'cream', 'create', 'created', 'creates', 'creating', 'creation', 'creativity', 'crecent', 'credit', 'creditor', 'crew', 'crisis', 'critch', 'criterion', 'critical', 'criticised', 'criticising', 'crocheted', 'crore', 'cross', 'crosscountry', 'crossing', 'crosstown', 'crown', 'crucially', 'crude', 'cruise', 'cruising', 'crushed', 'crushing', 'cry', 'crystal', 'cs', 'ct', 'cth', 'cto', 'cu', 'cuautitlan', 'cue', 'cukurova', 'cul', 'cultivation', 'culture', 'cumberland', 'cumerio', 'cumulative', 'cup', 'curator', 'curbed', 'curfew', 'curl', 'currency', 'current', 'currently', 'cursor', 'curve', 'cushion', 'custody', 'custom', 'customer', 'customised', 'customized', 'cut', 'cutlery', 'cutter', 'cutting', 'cv', 'cvc', 'cvd', 'cw', 'cxe', 'cybe', 'cybercom', 'cycle', 'cyclone', 'cymed', 'czech', 'czechrepublic', 'dagens', 'dahlstr', 'daily', 'dairy', 'dalborg', 'dallas', 'damage', 'damaged', 'damaging', 'dampened', 'danish', 'dans', 'danske', 'dark', 'dart', 'dartford', 'dash', 'data', 'database', 'date', 'dated', 'dave', 'daxtum', 'day', 'db', 'dc', 'dct', 'dcuc', 'dd', 'de', 'deadline', 'deal', 'dealer', 'dealership', 'dean', 'debenture', 'debt', 'debut', 'dec', 'decade', 'decaliter', 'december', 'decide', 'decided', 'decision', 'deck', 'decker', 'declare', 'decline', 'declined', 'declining', 'decor', 'decoration', 'decorative', 'decrease', 'decreased', 'dedicated', 'deducted', 'deemed', 'deep', 'deepwater', 'deer', 'deere', 'defence', 'defense', 'defined', 'definitely', 'definitive', 'degefors', 'degeneration', 'degerfors', 'degree', 'degridding', 'deka', 'delayed', 'delegation', 'delhaize', 'delhi', 'delight', 'delighted', 'delist', 'delisted', 'deliver', 'delivered', 'delivering', 'delivers', 'delivery', 'delta', 'demand', 'demanded', 'demanding', 'demerger', 'demographic', 'demolli', 'demonstrated', 'demonstrates', 'demonstrating', 'demonstration', 'den', 'denied', 'denies', 'denmark', 'denominated', 'density', 'dental', 'denver', 'deodorization', 'depart', 'department', 'departure', 'depend', 'depending', 'depends', 'deploy', 'deployment', 'deposit', 'depositary', 'depositor', 'depository', 'depot', 'depressed', 'depth', 'deputy', 'deramus', 'deregulatory', 'derive', 'derived', 'derives', 'deriving', 'derogating', 'derstr', 'desalination', 'desarrollo', 'described', 'design', 'designated', 'designation', 'designed', 'designer', 'designing', 'desk', 'desktop', 'despite', 'destia', 'destination', 'detached', 'detail', 'detailed', 'detailing', 'detect', 'detected', 'detection', 'detector', 'determine', 'determined', 'determining', 'detroit', 'deutsche', 'deutschland', 'devalue', 'develop', 'developed', 'developer', 'developing', 'development', 'develops', 'device', 'dhabi', 'diabetes', 'diagnosed', 'diagnostic', 'diagnostics', 'diagrid', 'dial', 'dialing', 'diameter', 'diapol', 'dibba', 'dictated', 'die', 'diego', 'diesel', 'dietz', 'differ', 'difference', 'different', 'differentiate', 'differs', 'difficult', 'difficulty', 'dig', 'digia', 'digicel', 'digital', 'digitalize', 'digitally', 'digitalmediaasia', 'diligence', 'dillon', 'diluted', 'dilution', 'dimension', 'diminished', 'dinh', 'dinmukhamet', 'dinner', 'dino', 'dinosaur', 'dioxide', 'dip', 'diploma', 'direct', 'directed', 'directional', 'directionality', 'directive', 'directly', 'director', 'directory', 'dirk', 'disagree', 'disagreement', 'disappear', 'disappeared', 'disappointing', 'disappointment', 'discipline', 'disciplined', 'disclaims', 'disclose', 'disclosed', 'disclosing', 'disclosure', 'discontinue', 'discontinued', 'discount', 'discounted', 'discovered', 'discus', 'discussed', 'discussion', 'disease', 'dish', 'disk', 'dismissal', 'dismissed', 'display', 'disposable', 'disposal', 'dispose', 'dispute', 'dissertation', 'dissolve', 'dissolved', 'distance', 'distinct', 'distinctive', 'distinctly', 'distinguished', 'distributable', 'distribute', 'distributed', 'distributes', 'distribution', 'distributor', 'district', 'diversified', 'diversify', 'divest', 'divested', 'divestment', 'divestments', 'divests', 'divide', 'divided', 'dividend', 'division', 'divisional', 'djsi', 'dkk', 'dma', 'dmasia', 'dna', 'dnb', 'docomo', 'doctor', 'doctoral', 'document', 'documentation', 'doering', 'dog', 'dohle', 'dok', 'doktas', 'dokumculuk', 'dokumentori', 'dolce', 'dollar', 'domain', 'domestic', 'domestically', 'dominated', 'dominating', 'donate', 'donation', 'done', 'dongguan', 'doobie', 'door', 'dopplr', 'doprava', 'doring', 'dormus', 'dos', 'dose', 'dosing', 'double', 'doubled', 'doubling', 'douglas', 'dover', 'dovre', 'dow', 'downgraded', 'download', 'downloadable', 'downloading', 'downstream', 'downtown', 'downturn', 'dozen', 'drafted', 'dragged', 'dragonfly', 'drainage', 'dramatic', 'dramatically', 'draught', 'drawing', 'drawn', 'dress', 'dried', 'drillisch', 'drink', 'drinking', 'drive', 'driven', 'driver', 'driving', 'drop', 'dropped', 'dropping', 'drought', 'drug', 'dry', 'drying', 'dso', 'dt', 'du', 'dual', 'dubai', 'dubbed', 'dubna', 'duckburg', 'due', 'duet', 'dukat', 'dulai', 'dumping', 'durability', 'duration', 'durham', 'dusseldorf', 'dutch', 'duty', 'dvb', 'dvd', 'dwt', 'dye', 'dyed', 'dynamic', 'dz', 'ea', 'eads', 'eager', 'eagle', 'earlier', 'earliest', 'early', 'earn', 'earned', 'earning', 'earnings', 'earns', 'ease', 'easier', 'easiest', 'east', 'easter', 'eastern', 'easy', 'eat', 'eataly', 'eaten', 'eaton', 'eb', 'eberl', 'ebg', 'ebit', 'ebita', 'ebitda', 'ebrd', 'ebusiness', 'ecb', 'eco', 'economic', 'economically', 'economics', 'economy', 'ecosystem', 'ecuador', 'edgar', 'edge', 'edging', 'edible', 'edita', 'editor', 'edmonds', 'education', 'ee', 'eek', 'eero', 'eesti', 'eet', 'effect', 'effected', 'effective', 'effectively', 'effectiveness', 'efficiency', 'efficient', 'effluent', 'effort', 'efi', 'efo', 'efore', 'egeszsegbolt', 'egg', 'egm', 'egypt', 'ehitus', 'ei', 'eidesvik', 'eigener', 'eight', 'eighteen', 'eijkens', 'eila', 'einvoices', 'eiof', 'either', 'ekaterinburg', 'eklund', 'ekono', 'elaborated', 'elcoteq', 'elect', 'elected', 'election', 'electric', 'electrical', 'electrically', 'electricity', 'electrification', 'electronic', 'electronically', 'electronics', 'electrowatt', 'elekter', 'elektrobit', 'elektros', 'element', 'eletric', 'elevated', 'elevator', 'eleven', 'eli', 'eligible', 'eliiv', 'elimaki', 'elisa', 'elite', 'ell', 'eloholma', 'elqav', 'else', 'elsewhere', 'em', 'email', 'emailed', 'embarked', 'embroiled', 'emergency', 'emerging', 'emi', 'emirate', 'emission', 'emmy', 'emphasis', 'emphasised', 'employ', 'employed', 'employee', 'employer', 'employing', 'employment', 'empresa', 'empt', 'emptive', 'empty', 'emsa', 'emt', 'emtn', 'en', 'enable', 'enables', 'enabling', 'enclosed', 'encompassing', 'encourage', 'end', 'ended', 'ending', 'endorsement', 'endowment', 'endustri', 'enefit', 'energia', 'energy', 'enexis', 'eng', 'engaged', 'engine', 'engineer', 'engineered', 'engineering', 'english', 'enhance', 'enhanced', 'enhances', 'enhancing', 'enjoy', 'enough', 'enp', 'enskilda', 'enso', 'ensure', 'ensuring', 'entail', 'enter', 'entered', 'entering', 'enterprise', 'enters', 'entertainment', 'enthusiasm', 'entice', 'entire', 'entirely', 'entirety', 'entitle', 'entitled', 'entitlement', 'entitles', 'entity', 'entreprenad', 'entreprenadmaskiner', 'entrepreneur', 'entreprenor', 'entry', 'environment', 'environmental', 'environmentally', 'envisaged', 'envisages', 'eos', 'eou', 'epa', 'ephc', 'epi', 'eps', 'eq', 'eqt', 'equal', 'equaling', 'equipment', 'equipped', 'equity', 'equivalent', 'er', 'era', 'ercols', 'ercs', 'erdenet', 'erection', 'ergo', 'ergonomic', 'erh', 'eric', 'ericsson', 'eriikka', 'erik', 'eriksson', 'erkki', 'eronen', 'erp', 'error', 'ervi', 'ervio', 'esa', 'escalator', 'eseries', 'esko', 'esl', 'espana', 'especially', 'espoo', 'espoon', 'essar', 'essent', 'essential', 'establish', 'established', 'establishes', 'establishing', 'establishment', 'estate', 'estimate', 'estimated', 'estimation', 'estonia', 'estonian', 'etc', 'etera', 'ethanol', 'ethernet', 'ethibel', 'etsi', 'etteplan', 'etth', 'etuovi', 'eu', 'eua', 'eucalyptus', 'eukor', 'eur', 'euribor', 'euro', 'eurobond', 'eurochem', 'euronext', 'europe', 'european', 'europolitan', 'ev', 'evacuate', 'evaluated', 'evaluation', 'evaporation', 'even', 'evening', 'event', 'eventim', 'ever', 'everest', 'every', 'everyday', 'everything', 'everywhere', 'evidence', 'evident', 'evidentiary', 'evil', 'evli', 'evolving', 'evp', 'evraz', 'exactly', 'examines', 'examining', 'example', 'exceed', 'exceeded', 'exceeds', 'excellence', 'excellent', 'excellently', 'except', 'excerpt', 'excess', 'excessive', 'exchange', 'excise', 'excited', 'exciting', 'excluding', 'exclusive', 'execute', 'executed', 'executing', 'execution', 'executive', 'exel', 'exempted', 'exempting', 'exercise', 'exercising', 'exert', 'exhibition', 'exist', 'existing', 'exists', 'exit', 'expand', 'expandable', 'expanded', 'expanding', 'expands', 'expansion', 'expect', 'expectation', 'expected', 'expecting', 'expects', 'expenditure', 'expense', 'expensive', 'experience', 'experiencing', 'experimenting', 'expert', 'expertise', 'expire', 'expired', 'expires', 'explained', 'explains', 'exploit', 'exploitation', 'exploited', 'exploration', 'explore', 'exploring', 'explosively', 'expo', 'export', 'exported', 'exporter', 'exporting', 'exposure', 'express', 'expressed', 'expression', 'expressly', 'ext', 'extend', 'extended', 'extending', 'extends', 'extension', 'extensive', 'extensively', 'extent', 'exterior', 'external', 'extra', 'extract', 'extracted', 'extraction', 'extraordinary', 'extremely', 'extrusion', 'eye', 'fab', 'fabric', 'fabrication', 'facade', 'face', 'facilitate', 'facilitates', 'facility', 'facing', 'fact', 'factor', 'factory', 'faculty', 'failed', 'failure', 'fair', 'fairly', 'fall', 'fallen', 'faller', 'falling', 'familiar', 'family', 'fancy', 'fantastic', 'fantuzzi', 'far', 'farm', 'farmer', 'fashion', 'fast', 'fasten', 'faster', 'fastest', 'fat', 'favor', 'favorable', 'favorite', 'favourable', 'favourably', 'fcc', 'fcu', 'fear', 'feasibility', 'feasible', 'feature', 'featured', 'featuring', 'feb', 'february', 'federal', 'federation', 'fee', 'feed', 'feedback', 'feeder', 'feedstock', 'feel', 'feeling', 'fell', 'felled', 'felt', 'femto', 'fencing', 'fenestra', 'fennia', 'fennovoima', 'ferguson', 'ferro', 'ferry', 'ferryboat', 'fertilizer', 'fesco', 'fewer', 'fgvoip', 'fh', 'fi', 'fia', 'fiber', 'fibre', 'fidelity', 'field', 'fierce', 'fifth', 'fiftieth', 'fight', 'figure', 'file', 'filed', 'filing', 'filipino', 'filippova', 'filling', 'film', 'filmiteollisuus', 'filter', 'filtrate', 'filtration', 'fim', 'fimentor', 'final', 'finale', 'finalize', 'finalized', 'finance', 'financed', 'financement', 'financial', 'financially', 'financialwire', 'financing', 'finans', 'finbow', 'fincantieri', 'find', 'findest', 'finding', 'fine', 'fined', 'finger', 'finieris', 'finish', 'finished', 'finisher', 'finishing', 'finlan', 'finland', 'finn', 'finnair', 'finncomm', 'finnegans', 'finnfund', 'finnish', 'finnishness', 'finnlines', 'finton', 'fire', 'fired', 'fireplace', 'firm', 'firmed', 'first', 'firstalert', 'firstquarter', 'fisa', 'fiscal', 'fischer', 'fish', 'fisher', 'fishing', 'fiskars', 'fit', 'fitch', 'fitness', 'fitzgerald', 'five', 'fixed', 'fixing', 'fki', 'fl', 'flag', 'flagging', 'flagship', 'flange', 'flat', 'flatiron', 'flavoured', 'fleet', 'flew', 'flex', 'flexi', 'flexibility', 'flexible', 'flexiblebaseloadoperation', 'flexibly', 'flexo', 'flight', 'float', 'flock', 'floor', 'floorball', 'flooring', 'floral', 'florida', 'flow', 'flsmidth', 'fluctuated', 'fluctuation', 'fluid', 'flurry', 'fly', 'flying', 'flykt', 'focus', 'focused', 'focusing', 'fold', 'folded', 'folding', 'follow', 'followed', 'following', 'follows', 'follum', 'foncier', 'food', 'foodservice', 'foot', 'footwear', 'force', 'forced', 'ford', 'forecast', 'forecasting', 'foreign', 'foremost', 'foresees', 'forest', 'forestal', 'forestry', 'forever', 'forging', 'fork', 'form', 'forma', 'formadehyde', 'formal', 'format', 'formation', 'formed', 'former', 'formerly', 'forming', 'formwork', 'forssa', 'forssan', 'forthcoming', 'fortitude', 'fortum', 'fortuna', 'fortune', 'forum', 'forward', 'forwarded', 'forwarders', 'forwarding', 'found', 'foundation', 'founded', 'founder', 'foundry', 'four', 'fourth', 'fox', 'fr', 'fradkov', 'fragmented', 'frame', 'framework', 'framing', 'franc', 'france', 'franchise', 'franchising', 'francisco', 'frank', 'frankfurt', 'franklin', 'fray', 'fredrik', 'free', 'freenet', 'freezing', 'frei', 'freight', 'freighter', 'fremantlemedia', 'french', 'frenzy', 'frequency', 'frequent', 'fresh', 'friday', 'friedlander', 'friend', 'friendly', 'friman', 'frn', 'froh', 'frolov', 'front', 'frost', 'frozen', 'fruit', 'ft', 'ftse', 'fttb', 'ftth', 'fttx', 'fuel', 'fueled', 'fuelled', 'fujairah', 'fujitsu', 'fulfil', 'fulfill', 'fulfilled', 'fulfilling', 'fulfillment', 'fulfilment', 'full', 'fully', 'fum', 'fun', 'function', 'functionality', 'functioning', 'fund', 'fundamental', 'funded', 'funding', 'furlough', 'furnace', 'furniture', 'furthermore', 'furusund', 'fusing', 'future', 'fzc', 'ga', 'gabbana', 'gage', 'gain', 'gained', 'galeria', 'galerie', 'gallerix', 'gallup', 'galvan', 'gama', 'gambling', 'gambro', 'game', 'gaming', 'gansu', 'gantry', 'gap', 'garage', 'garden', 'gardening', 'garmin', 'garner', 'garry', 'gartner', 'gas', 'gasco', 'gasconversions', 'gasoline', 'gatehouse', 'gateway', 'gather', 'gathered', 'gave', 'gavrilov', 'gawker', 'gb', 'gbx', 'gdf', 'gdp', 'ge', 'gear', 'gearing', 'geberit', 'geenrated', 'gemalto', 'general', 'generally', 'generate', 'generated', 'generates', 'generating', 'generation', 'generator', 'genesis', 'genetically', 'geneva', 'genius', 'genuine', 'genvec', 'geo', 'geographic', 'geographical', 'geographically', 'geography', 'geometric', 'geometrically', 'george', 'geosentric', 'geosolutions', 'gerber', 'german', 'germany', 'get', 'getinge', 'getting', 'ghana', 'ghg', 'ghz', 'giant', 'gibtelecom', 'gift', 'gilchrist', 'gill', 'girder', 'give', 'given', 'giving', 'gla', 'glad', 'glasgow', 'glass', 'glassfiber', 'glassworldex', 'glaston', 'glichkeit', 'glisten', 'global', 'globally', 'globe', 'gloriya', 'gloss', 'gmbh', 'gmo', 'gmt', 'go', 'goal', 'gogol', 'gohrsm', 'going', 'gold', 'golden', 'goldman', 'gone', 'good', 'goodwill', 'goodyear', 'goog', 'google', 'goran', 'gordon', 'gorelovo', 'got', 'gothenburg', 'gotta', 'governance', 'governed', 'governemtn', 'government', 'gprs', 'gps', 'graafiset', 'grabbing', 'grade', 'grading', 'gradually', 'grain', 'gram', 'gran', 'grand', 'grannan', 'grant', 'granted', 'granting', 'grapevine', 'graphic', 'grappling', 'grate', 'gratuitous', 'gray', 'graz', 'grc', 'grease', 'great', 'greater', 'greatest', 'green', 'greenhouse', 'greensmith', 'grew', 'grid', 'grieg', 'grievance', 'grill', 'grimaldi', 'grinding', 'grip', 'gro', 'grodno', 'groep', 'gross', 'ground', 'group', 'groupe', 'grow', 'growhow', 'growing', 'grown', 'grows', 'growth', 'grupe', 'gruppen', 'gsk', 'gsm', 'gts', 'guangdong', 'guard', 'guatemala', 'guder', 'guess', 'guidance', 'guide', 'guided', 'guinea', 'gulf', 'gunneflo', 'gunpoint', 'gustav', 'gw', 'gypsii', 'gypsum', 'haakon', 'haapakoski', 'haavisto', 'hack', 'hacker', 'hacking', 'haikarainen', 'haiti', 'half', 'hall', 'hallberg', 'hallein', 'halonen', 'halt', 'halted', 'halved', 'hamburg', 'hame', 'hameenlinna', 'hamina', 'hammaslaakarit', 'hampden', 'hampshire', 'han', 'hand', 'handelsbanken', 'handheld', 'handle', 'handled', 'handler', 'handli', 'handling', 'handoff', 'handset', 'hang', 'hangasjarvi', 'hankkija', 'hanko', 'hanna', 'hannaford', 'hanninen', 'hannu', 'hanoi', 'hansen', 'hantila', 'hapoel', 'happen', 'happened', 'happening', 'happens', 'happy', 'harald', 'harbor', 'harbour', 'hard', 'hardest', 'hardware', 'harju', 'harkonen', 'harness', 'harnosand', 'harold', 'harple', 'harri', 'hartford', 'hartwall', 'harvester', 'harvesting', 'hassela', 'hassinen', 'hassle', 'hasten', 'hat', 'hatch', 'haug', 'hauhio', 'hauling', 'hautaniemi', 'hayward', 'hbos', 'hd', 'hdi', 'hdo', 'head', 'headbox', 'headboxes', 'headcount', 'headed', 'heading', 'headline', 'headquarter', 'headquartered', 'headquarters', 'health', 'healthcare', 'healthier', 'healthy', 'hear', 'heard', 'hearing', 'hearst', 'heart', 'heat', 'heated', 'heathrow', 'heating', 'heatmasters', 'heavily', 'heavy', 'hectare', 'hedging', 'height', 'heikki', 'heikkil', 'heindlmeyer', 'heineken', 'heir', 'hel', 'helander', 'helasto', 'held', 'helir', 'helisnki', 'helmet', 'helokunnas', 'help', 'helped', 'helping', 'helsingborg', 'helsingin', 'helsinki', 'hence', 'henning', 'henrik', 'henry', 'hepatitis', 'heritage', 'herttaassa', 'hervy', 'herzegovina', 'heterogenous', 'hevea', 'hfc', 'hi', 'hiab', 'hienonen', 'hietanen', 'high', 'higher', 'highest', 'highlight', 'highlighted', 'highly', 'highrises', 'highway', 'hiidenheimo', 'hikauppa', 'hike', 'hilton', 'hintikka', 'hintze', 'hire', 'hired', 'hiring', 'historian', 'historic', 'history', 'hit', 'hitachi', 'hitting', 'hitura', 'hivakuutus', 'hk', 'hkscan', 'hkse', 'hle', 'hmi', 'hobby', 'hockey', 'hoist', 'hold', 'holder', 'holding', 'holiday', 'hollola', 'holmen', 'home', 'homemarkets', 'homeowner', 'homepage', 'homeware', 'honda', 'hong', 'hongmei', 'honka', 'honkajoki', 'honkamaa', 'honkarakenne', 'honolulu', 'honored', 'hook', 'hooked', 'hope', 'hoped', 'horizon', 'hormone', 'hornborg', 'hospital', 'hospitality', 'host', 'hosted', 'hostile', 'hosting', 'hot', 'hotel', 'hour', 'house', 'housed', 'household', 'housewares', 'housing', 'however', 'hoyer', 'hp', 'hr', 'hs', 'hsea', 'hspa', 'html', 'hu', 'hualu', 'huge', 'huh', 'huhtam', 'huhtamaki', 'hull', 'human', 'humo', 'hundred', 'hung', 'hungary', 'hunting', 'hurdle', 'hurt', 'husqvarna', 'hutchison', 'hybrid', 'hydraulics', 'hydro', 'hydrocarbon', 'hydrocopper', 'hydrogen', 'hydronic', 'hypotek', 'hyun', 'hyundai', 'hyvinkaa', 'ia', 'ibm', 'ice', 'iceland', 'icelandair', 'icis', 'iconic', 'ict', 'icy', 'id', 'idea', 'ideal', 'ideally', 'identical', 'identification', 'identified', 'identify', 'identifying', 'identity', 'idrisov', 'idzelis', 'ietf', 'ifrs', 'igen', 'iggesunds', 'ignatius', 'ignored', 'igor', 'ii', 'iii', 'iisalmi', 'iittala', 'iivrcl', 'il', 'ilim', 'ilk', 'ilkka', 'ill', 'illinois', 'illustration', 'illustrator', 'ilmarinen', 'ilyin', 'image', 'imaging', 'imalat', 'imap', 'imatra', 'imitates', 'immediate', 'immediately', 'immersive', 'impact', 'impacted', 'impacting', 'impairment', 'implement', 'implementation', 'implemented', 'implementing', 'implies', 'import', 'importance', 'important', 'imported', 'impress', 'impressive', 'improve', 'improved', 'improvement', 'improves', 'improving', 'impulse', 'imputed', 'imsm', 'inaugural', 'inaugurated', 'inaugurates', 'inaugurating', 'inbound', 'inc', 'incap', 'ince', 'incentive', 'inception', 'inch', 'incident', 'inclination', 'include', 'included', 'includes', 'including', 'inclusion', 'inclusive', 'income', 'inconsistent', 'incorporate', 'incorporates', 'incorporating', 'increase', 'increased', 'increasing', 'increasingly', 'inculding', 'incur', 'incurred', 'indebtedness', 'independence', 'independent', 'independently', 'index', 'india', 'indian', 'indiana', 'indicate', 'indicated', 'indication', 'indicator', 'indigo', 'indital', 'individual', 'individualising', 'individually', 'indo', 'indosat', 'industri', 'industria', 'industrial', 'industrialisation', 'industrialization', 'industrialsql', 'industriekapital', 'industry', 'inen', 'ineta', 'infected', 'inflatable', 'inflation', 'influence', 'info', 'inform', 'information', 'informed', 'infotainment', 'infra', 'infrastructure', 'ing', 'inga', 'inge', 'ingen', 'ingerois', 'inget', 'ingredient', 'inha', 'inhibitor', 'initial', 'initially', 'initiate', 'initiated', 'initiating', 'initiative', 'injection', 'injury', 'ink', 'inked', 'inkinen', 'inking', 'innofactor', 'innova', 'innovar', 'innovation', 'innovational', 'innovationsmanagement', 'innovative', 'innovator', 'innovest', 'inorganic', 'input', 'inregard', 'inrikes', 'inside', 'insight', 'insolvency', 'inspected', 'inspection', 'inspectorate', 'inspects', 'inspired', 'inspires', 'inspiring', 'install', 'installation', 'installed', 'installment', 'installs', 'instance', 'instead', 'insteel', 'institute', 'institution', 'institutional', 'instruction', 'instructional', 'instrument', 'instrumentation', 'insurance', 'insurer', 'intake', 'intangible', 'integrate', 'integrated', 'integrates', 'integration', 'intel', 'intellectual', 'intellibis', 'intelligence', 'intelligent', 'intellisync', 'intend', 'intended', 'intends', 'intensifying', 'intensity', 'intensive', 'intent', 'intention', 'inter', 'interaction', 'interactive', 'interavanti', 'interbancaria', 'interbank', 'interchange', 'interconnected', 'interconnection', 'interdigital', 'interest', 'interested', 'interesting', 'interface', 'interfax', 'interference', 'interim', 'interior', 'intermittently', 'intermodal', 'internal', 'international', 'internationalised', 'internationalizing', 'internationally', 'internet', 'interoperability', 'interrupted', 'intersection', 'intertek', 'intervention', 'interview', 'intouch', 'intravenously', 'intriguing', 'introduce', 'introduced', 'introduces', 'introducing', 'introduction', 'intubated', 'intuitive', 'invalid', 'invenergy', 'invented', 'invention', 'inventor', 'inventory', 'inverter', 'invest', 'invested', 'investigate', 'investigated', 'investigation', 'investigator', 'investinestonia', 'investing', 'investlesprom', 'investment', 'investor', 'investrend', 'invitation', 'invite', 'invoice', 'invoicing', 'involve', 'involved', 'involves', 'involving', 'ionphase', 'ipad', 'iphone', 'ipo', 'ipod', 'iptv', 'ipv', 'ir', 'iran', 'iraq', 'ireland', 'irish', 'iron', 'irrevocable', 'irrevocably', 'irritant', 'ise', 'isk', 'island', 'ism', 'iso', 'isoprene', 'isps', 'israel', 'israeli', 'issuance', 'issue', 'issued', 'issuer', 'issuing', 'isto', 'ita', 'italahdenkatu', 'italian', 'italy', 'itella', 'item', 'iterating', 'itg', 'itikka', 'itkonen', 'itonut', 'itunes', 'iv', 'ivan', 'ivarsson', 'ivd', 'ivory', 'ivrcl', 'ixonos', 'ja', 'jaakko', 'jacket', 'jackson', 'jacob', 'jaemsaenkoski', 'jalo', 'jam', 'jamnagar', 'jan', 'janhonen', 'janis', 'janno', 'january', 'japan', 'japanese', 'japrotek', 'jari', 'jarle', 'jarmo', 'jaroszowka', 'jarvenpaa', 'jarvinen', 'jason', 'jaston', 'java', 'jawad', 'jeambar', 'jean', 'jeder', 'jens', 'jensen', 'jeopardising', 'jerusalem', 'jet', 'jiang', 'jim', 'jimmy', 'jm', 'job', 'joe', 'johan', 'johanna', 'john', 'join', 'joined', 'joint', 'jointly', 'joki', 'jon', 'jones', 'jordan', 'jorgen', 'jorma', 'jortikka', 'jot', 'jouko', 'journalism', 'journalistic', 'journey', 'joyfully', 'jozef', 'jp', 'jpm', 'jpmorgan', 'jsc', 'jsco', 'judge', 'judgement', 'juergen', 'juha', 'juhani', 'jukka', 'jul', 'julia', 'july', 'jump', 'jumped', 'jun', 'junction', 'june', 'jung', 'juri', 'jussi', 'justified', 'justin', 'justly', 'jutland', 'juuka', 'jv', 'jvc', 'jydsk', 'jyv', 'jyvaeskylae', 'jyvaskyla', 'kaaja', 'kaare', 'kaarstroem', 'kahonen', 'kai', 'kaido', 'kaisanlahti', 'kaivo', 'kalajoki', 'kaleva', 'kalinisky', 'kalkkuna', 'kallasvuo', 'kallio', 'kallioranta', 'kalmar', 'kalnapilio', 'kalnapilis', 'kaluga', 'kan', 'kangasala', 'kansa', 'kapellskar', 'kapiteeli', 'kapthing', 'kapuli', 'karachi', 'karara', 'karczewicz', 'kardzhali', 'karelia', 'karhinen', 'karhu', 'karhula', 'kari', 'kariniemi', 'karkkila', 'karlstad', 'karppinen', 'karputer', 'karttakeskus', 'karvinen', 'kasak', 'kasei', 'kasola', 'kaspersky', 'katajavuori', 'katzman', 'kauhajoen', 'kauhajoki', 'kauhava', 'kauko', 'kaukomarkkinat', 'kaukopartio', 'kaunas', 'kauniskangas', 'kaunisvaara', 'kauno', 'kauppalehti', 'kaupthing', 'kaupunki', 'kaupunkin', 'kausta', 'kazakh', 'kazakhstan', 'kazan', 'kazgiprotsvetmet', 'kci', 'kcr', 'kd', 'kdg', 'kebab', 'kedia', 'keep', 'keiju', 'kel', 'kellokoski', 'kelly', 'kemian', 'kemij', 'kemijoki', 'kemira', 'kennedy', 'kenneth', 'kentucky', 'kept', 'kermansavi', 'kersberga', 'kershaw', 'kesbv', 'keskinen', 'kesko', 'keskuskatu', 'kevin', 'key', 'keyboard', 'keyloggers', 'keylogging', 'keyword', 'keywords', 'kft', 'kg', 'khanty', 'khopoli', 'ki', 'kia', 'kick', 'kicking', 'kid', 'kidnapped', 'kidnapping', 'kiikoinen', 'kiilto', 'kilo', 'kilogram', 'kilometer', 'kilometre', 'kim', 'kimmel', 'kimmo', 'kind', 'kindergarten', 'kiosk', 'kiran', 'kirkkonummi', 'kirsi', 'kiruna', 'kit', 'kitai', 'kitchen', 'kito', 'kitron', 'kivimeister', 'klabin', 'klo', 'km', 'knickerbockers', 'knife', 'knight', 'knot', 'know', 'knowhow', 'knowledge', 'known', 'koduextra', 'koff', 'kohtam', 'koistinen', 'koivisto', 'kolkata', 'kolkhoznitsa', 'kolnp', 'kolorit', 'kommerts', 'kone', 'konecranes', 'kong', 'kontturi', 'kopijyva', 'koponen', 'korea', 'korean', 'korhonen', 'korpinen', 'korteniemi', 'koskinen', 'koskull', 'kospa', 'kostenlos', 'kostiainen', 'kostroma', 'kotikokki', 'kotka', 'koulutuskuntayhtyma', 'kouvola', 'kpi', 'kpy', 'kra', 'kraft', 'kraftliner', 'krakeroy', 'kraski', 'krippl', 'krishna', 'krister', 'krogerus', 'kroksberg', 'krona', 'krone', 'kronor', 'krook', 'kroon', 'kuhmo', 'kuitu', 'kuitunen', 'kultalonkero', 'kuopio', 'kurkilahti', 'kurt', 'kustannus', 'kuula', 'kuuste', 'kuzaj', 'kveyt', 'kw', 'ky', 'kyivstar', 'kylas', 'kymi', 'kymmene', 'kyro', 'kyrolainen', 'kyronsalmi', 'kyroskoski', 'la', 'laakso', 'laamanen', 'laasanen', 'laavainen', 'lab', 'label', 'labor', 'laboratory', 'laborious', 'lacquered', 'ladle', 'lagardere', 'laguardia', 'lahden', 'lahti', 'lahtinen', 'laid', 'laine', 'laisi', 'laitinen', 'lake', 'lakeville', 'lakshmi', 'lamp', 'lampokasittely', 'lan', 'land', 'landed', 'landsbanken', 'lanebrook', 'lang', 'language', 'lankapaja', 'lansio', 'lansivayla', 'lanxess', 'lapin', 'lappeenranta', 'large', 'largely', 'larger', 'largest', 'larox', 'larsen', 'lasse', 'lassi', 'lassila', 'last', 'lat', 'late', 'later', 'latest', 'latin', 'latta', 'lattelecom', 'latter', 'latvenergo', 'latvia', 'latvian', 'latvijas', 'launch', 'launched', 'launching', 'laut', 'law', 'lawmaker', 'lay', 'layer', 'laying', 'layoff', 'lcc', 'lcd', 'lcs', 'le', 'leaching', 'lead', 'leader', 'leadership', 'leading', 'leaf', 'leak', 'leakage', 'leaked', 'lean', 'leaning', 'learn', 'learning', 'learns', 'leary', 'leasable', 'lease', 'leaseback', 'leased', 'leasing', 'least', 'leave', 'leaving', 'lebanon', 'led', 'lee', 'leed', 'left', 'legacy', 'legal', 'legislative', 'legrand', 'lehdentekijat', 'lehtiyhtyma', 'lehtonen', 'lei', 'leif', 'leipurin', 'leisure', 'lem', 'lember', 'lemcon', 'leminen', 'lemiste', 'lemmink', 'lemminkainen', 'lender', 'lending', 'lenenergo', 'length', 'leningrad', 'lennart', 'lennon', 'leskinen', 'lesprom', 'let', 'lettable', 'letter', 'level', 'leverage', 'lewa', 'lextel', 'lg', 'lgl', 'lgpl', 'lgu', 'liability', 'liberty', 'library', 'licence', 'license', 'licensing', 'liddell', 'lidl', 'lidskoe', 'lie', 'liechtenstein', 'lieksaare', 'lietuva', 'lietuvos', 'life', 'lifecycle', 'lifestyle', 'lifetime', 'lifetree', 'lift', 'lifted', 'lifting', 'light', 'lighter', 'lighting', 'lightning', 'lightsquared', 'lightweight', 'lihakombinaat', 'lihakunta', 'lihatoostus', 'lihir', 'liisa', 'liising', 'liitto', 'like', 'likely', 'liljeholmen', 'limestone', 'limit', 'limited', 'limiting', 'linde', 'linden', 'lindex', 'lindsey', 'line', 'liner', 'lining', 'link', 'linked', 'linking', 'linkspans', 'lion', 'liora', 'lip', 'lippupiste', 'liquefied', 'liquid', 'liquidated', 'liquide', 'liquidity', 'liquor', 'lisle', 'list', 'listed', 'listing', 'litas', 'liter', 'literature', 'lithuania', 'lithuanian', 'litre', 'litter', 'little', 'live', 'lived', 'living', 'lkab', 'llc', 'lmt', 'lng', 'lo', 'load', 'loader', 'loading', 'loan', 'local', 'localisation', 'locally', 'locate', 'located', 'location', 'locator', 'locatrix', 'lock', 'locomotive', 'lodged', 'log', 'logged', 'logging', 'logical', 'logistic', 'logistical', 'logistics', 'logo', 'logset', 'london', 'long', 'longer', 'lonnfors', 'look', 'looking', 'lookout', 'loop', 'loose', 'lordi', 'lorry', 'los', 'loses', 'losing', 'loss', 'lost', 'lot', 'lotus', 'loudeac', 'loudeye', 'louis', 'love', 'lovely', 'loviisa', 'low', 'lower', 'lowered', 'lowering', 'lowest', 'loyal', 'loyalty', 'lp', 'lr', 'lsc', 'lse', 'lt', 'ltd', 'ltda', 'lte', 'lubricant', 'luceplan', 'luhr', 'lukkoexpert', 'lule', 'lulea', 'lulu', 'lumberman', 'lumene', 'lump', 'luna', 'lunch', 'lundbeck', 'lundberg', 'lundmark', 'lure', 'lutterworth', 'luumaki', 'luxembourg', 'luxury', 'lvl', 'lxe', 'lye', 'lynch', 'lynn', 'maarten', 'maaseudun', 'maatalous', 'maatta', 'macgregor', 'machine', 'machinery', 'macintosh', 'maco', 'macro', 'made', 'madison', 'madoff', 'maemo', 'magazine', 'maggie', 'magistral', 'magnet', 'magnetic', 'magnetite', 'magney', 'magnus', 'maihak', 'maihaniemi', 'maija', 'mail', 'main', 'maine', 'maingate', 'mainly', 'mainor', 'mainstream', 'maintain', 'maintained', 'maintaining', 'maintains', 'maintenance', 'mainz', 'major', 'majority', 'mak', 'make', 'makeover', 'maker', 'making', 'makuisa', 'malaysia', 'malaysian', 'male', 'malinen', 'malkia', 'mall', 'maloney', 'maltider', 'malting', 'malware', 'mammila', 'man', 'manage', 'manageable', 'managed', 'management', 'manager', 'manages', 'managing', 'managment', 'manavigator', 'manchester', 'mandate', 'mandatory', 'manganese', 'manhattan', 'manhole', 'manipulator', 'manned', 'manner', 'mansi', 'mansner', 'mantsala', 'manturovo', 'manty', 'mantyharju', 'manufacture', 'manufactured', 'manufacturer', 'manufacturing', 'many', 'map', 'maple', 'mapping', 'mar', 'mara', 'marathon', 'marcel', 'march', 'marek', 'marela', 'margareta', 'margarine', 'margin', 'marieholm', 'marietta', 'marilyn', 'marimekko', 'marina', 'marinated', 'marine', 'maritim', 'maritime', 'marjo', 'mark', 'marked', 'markedly', 'market', 'marketed', 'marketing', 'marketplace', 'marketwatch', 'marking', 'markka', 'markku', 'marko', 'marshal', 'marski', 'marta', 'martela', 'martin', 'martina', 'martinez', 'marttiini', 'marubeni', 'maruti', 'maruy', 'mascara', 'maskinservice', 'mass', 'master', 'masterbulk', 'mastercard', 'mat', 'matador', 'match', 'matching', 'material', 'materialise', 'materiel', 'matinkyla', 'matka', 'matkatoimisto', 'matrix', 'matter', 'matti', 'mattila', 'mature', 'maturing', 'maturity', 'max', 'maxi', 'maximizes', 'maximum', 'may', 'maya', 'mayawas', 'maybe', 'mazzika', 'mba', 'mc', 'mcafee', 'mcalpine', 'mcc', 'mcdonald', 'mce', 'mcguire', 'md', 'mda', 'meadville', 'meal', 'mean', 'meaning', 'meant', 'meantime', 'meanwhile', 'measure', 'measured', 'measurement', 'measuring', 'meat', 'mechanic', 'mechanical', 'mechanically', 'mechanise', 'mechanism', 'mechanizace', 'med', 'mediaphones', 'mediation', 'medical', 'mediterranean', 'medium', 'medvezhyegorsk', 'meego', 'meet', 'meeting', 'mega', 'megabyte', 'megafon', 'megamart', 'megapixel', 'megawatt', 'meiklejohn', 'mejeri', 'melngailis', 'melody', 'meltdown', 'melting', 'member', 'membership', 'memorandum', 'memory', 'mena', 'mention', 'mentioned', 'meo', 'mercator', 'merchandise', 'merchandising', 'merchant', 'merely', 'merge', 'merged', 'merger', 'merges', 'merging', 'meri', 'merisatama', 'merko', 'merrill', 'mertano', 'message', 'messaging', 'met', 'metal', 'metallurgical', 'meteorological', 'meteorology', 'meter', 'method', 'metre', 'metric', 'metro', 'metropolitan', 'mets', 'metsa', 'metsaliitto', 'metsamasina', 'metso', 'meur', 'mexican', 'mexico', 'mezzanine', 'mformation', 'mg', 'mhi', 'mhs', 'mhz', 'mi', 'mich', 'michael', 'michelin', 'micro', 'microelectronic', 'microsoft', 'microwave', 'microwaveable', 'mid', 'middle', 'midnighttrader', 'mids', 'midwest', 'might', 'migration', 'mika', 'mikaapplication', 'mike', 'mikko', 'mikkonen', 'mikron', 'mikshis', 'milan', 'mildly', 'mile', 'milestone', 'military', 'mill', 'milled', 'millhouse', 'millilitre', 'millimetre', 'million', 'min', 'mind', 'mine', 'miner', 'minera', 'mineracao', 'mineral', 'miniature', 'minimize', 'minimum', 'mining', 'minister', 'ministerija', 'ministry', 'minivan', 'minn', 'minnetonka', 'minor', 'minority', 'minute', 'mirabela', 'miracle', 'misleading', 'mississippi', 'missouri', 'mistake', 'misurec', 'mitsubishi', 'mittal', 'mix', 'mixed', 'ml', 'mline', 'mln', 'mm', 'mmh', 'mmo', 'mmx', 'mn', 'mnc', 'mo', 'mobile', 'mobileid', 'mobility', 'modal', 'mode', 'model', 'modeling', 'modelling', 'modem', 'moderate', 'modern', 'modernisation', 'modernization', 'modification', 'modify', 'modular', 'module', 'mohammed', 'moisio', 'moisture', 'mold', 'molecule', 'molten', 'molub', 'molybdenum', 'moment', 'monate', 'monday', 'monetary', 'money', 'mongolia', 'monitor', 'monitoring', 'mono', 'monopoly', 'monospace', 'monroe', 'monster', 'montaj', 'montevideo', 'month', 'monthly', 'moody', 'moorestown', 'mooring', 'moorits', 'moran', 'moreover', 'morgan', 'morna', 'morning', 'morocco', 'moron', 'morris', 'mortar', 'mortgage', 'morvillars', 'moscow', 'mosenergosbytbody', 'moskovia', 'mosmetro', 'moss', 'mostar', 'mostly', 'motivate', 'motlanthe', 'motor', 'motorcyclist', 'motorola', 'mou', 'moulding', 'mount', 'mountain', 'mouse', 'movable', 'move', 'moved', 'movement', 'moventas', 'movie', 'moving', 'mp', 'mpra', 'mr', 'msn', 'mso', 'mssb', 'mt', 'mti', 'much', 'mud', 'mukkavilli', 'muling', 'multi', 'multichannel', 'multifunctional', 'multilingual', 'multimedia', 'multimediacard', 'multinational', 'multiplayer', 'multiple', 'multiplying', 'multiradio', 'multistorey', 'mumbai', 'munich', 'municipal', 'municipality', 'murmansk', 'mursula', 'museum', 'music', 'musoma', 'must', 'mustonen', 'mutual', 'mw', 'mwe', 'myllykoski', 'myllyla', 'myllypuro', 'mynet', 'myspace', 'nadarajah', 'nadu', 'nagoya', 'naimi', 'nalmefene', 'name', 'named', 'namely', 'namibia', 'naming', 'nancheng', 'nanjing', 'napoli', 'narrow', 'narrowed', 'narva', 'nasdaq', 'nastola', 'nasty', 'nation', 'national', 'nationally', 'nationwide', 'natlabs', 'natural', 'naturally', 'nau', 'naur', 'nausea', 'nav', 'navigability', 'navigation', 'navigator', 'navteq', 'ncc', 'nd', 'nda', 'ne', 'near', 'nearby', 'nearly', 'necessary', 'nederland', 'need', 'needed', 'nefarious', 'negative', 'negotiate', 'negotiated', 'negotiating', 'negotiation', 'neighborhood', 'neighboring', 'neighbouring', 'neither', 'nekilnojamas', 'nekoski', 'nembv', 'nen', 'nenonen', 'neomarkka', 'nepal', 'neste', 'net', 'netact', 'netanttila', 'netapp', 'netbooks', 'netcom', 'neteller', 'netherlands', 'netted', 'netweaver', 'network', 'networking', 'neudorf', 'neutral', 'nevada', 'nevertheless', 'nevsky', 'new', 'newark', 'newbury', 'newcomer', 'newest', 'newfound', 'newly', 'newpage', 'newport', 'news', 'newspaper', 'newsprint', 'newsroom', 'newstex', 'newswire', 'newswires', 'nexbtl', 'next', 'neya', 'nge', 'niam', 'niche', 'nickel', 'nicotine', 'nielsen', 'niemi', 'night', 'niiininoski', 'niina', 'nike', 'nikkei', 'nikkiso', 'niklas', 'nil', 'nine', 'nissan', 'nitrate', 'nitrite', 'nitrogen', 'nivala', 'njastein', 'nl', 'nm', 'nnen', 'noa', 'nobel', 'node', 'noise', 'nok', 'nokia', 'nokian', 'noma', 'nominal', 'nomination', 'non', 'nonbinding', 'noncore', 'nonwovens', 'noon', 'noop', 'noora', 'noponen', 'nord', 'nordalu', 'nordea', 'nordic', 'nordstjernan', 'norilsk', 'normal', 'normalises', 'normalized', 'normally', 'normandy', 'normark', 'normative', 'norske', 'norsun', 'nortel', 'north', 'northeast', 'northern', 'northernmost', 'northland', 'northwest', 'northwestern', 'norvestia', 'norway', 'norwegian', 'notably', 'note', 'noted', 'nothing', 'notice', 'noticeable', 'notification', 'notified', 'noting', 'noud', 'nov', 'novator', 'novel', 'november', 'novotel', 'nsi', 'nsn', 'nsr', 'nst', 'ntc', 'nter', 'ntsb', 'ntt', 'nuclear', 'nugget', 'number', 'numerous', 'nurminen', 'nursery', 'nursing', 'nutritional', 'nutzfahrzeuge', 'nv', 'nwc', 'nyberg', 'nyman', 'nyrstar', 'nyse', 'oao', 'oasis', 'oat', 'objective', 'objectively', 'oblast', 'obligated', 'oblivion', 'oborniki', 'observation', 'observed', 'observes', 'obstacle', 'obtained', 'occasion', 'occupancy', 'occupied', 'occupier', 'occupies', 'occupy', 'occurred', 'occurring', 'och', 'oct', 'october', 'odd', 'odell', 'odyssey', 'oefirstalert', 'oems', 'oesk', 'ofbodywhich', 'ofcramo', 'offenburg', 'offer', 'offered', 'offering', 'office', 'officer', 'official', 'offs', 'offset', 'offshore', 'oflemminkainen', 'often', 'ogden', 'ohio', 'oil', 'oja', 'ojala', 'oka', 'okhta', 'okm', 'okmetic', 'oko', 'oksanen', 'olavi', 'old', 'older', 'oldest', 'oleg', 'olive', 'olkiluoto', 'olli', 'ollikainen', 'olvi', 'olympic', 'omena', 'omeo', 'omitted', 'omx', 'omxn', 'onboard', 'one', 'onemed', 'oneworld', 'ongoing', 'online', 'onodi', 'onstar', 'onto', 'onwards', 'ooo', 'op', 'open', 'opened', 'opening', 'operate', 'operated', 'operates', 'operating', 'operation', 'operational', 'operative', 'operator', 'opinion', 'opk', 'opna', 'opportunity', 'optical', 'optiflex', 'optimisation', 'optimising', 'optimistic', 'optimistically', 'optimization', 'optimize', 'opting', 'option', 'optionally', 'opus', 'oral', 'orange', 'oras', 'orascom', 'orchard', 'ordabasy', 'order', 'ordered', 'ordinate', 'ore', 'oregon', 'organic', 'organically', 'organisational', 'organise', 'organised', 'organization', 'organize', 'organized', 'orhangazi', 'oriental', 'oriented', 'origin', 'original', 'originally', 'originated', 'oriola', 'orion', 'orkola', 'ornamental', 'ornav', 'os', 'osaka', 'osakeyhti', 'oscar', 'osl', 'oslo', 'osmium', 'osmo', 'ostrava', 'ostrobothnia', 'ostroleka', 'ostrom', 'osuuskauppa', 'osuuskunta', 'ote', 'oth', 'others', 'otherwise', 'otis', 'otto', 'oulu', 'ourmachinery', 'outbound', 'outcome', 'outdoor', 'outdoors', 'outfit', 'outgoing', 'outlet', 'outlook', 'outokumpu', 'outotec', 'outperform', 'outplacement', 'output', 'outright', 'outside', 'outsource', 'outsourced', 'outsourcing', 'outstanding', 'ovako', 'overall', 'overcharging', 'overlaid', 'overlapping', 'overnight', 'overseas', 'oversee', 'overshadowed', 'oversupply', 'overtime', 'overview', 'ovi', 'ovum', 'owing', 'owned', 'owner', 'ownership', 'owning', 'owns', 'oximeter', 'oxygen', 'oxyview', 'oy', 'oyj', 'oyname', 'ozk', 'pa', 'paatela', 'paavel', 'pacific', 'pack', 'package', 'packaging', 'packed', 'packet', 'packing', 'pact', 'pad', 'pagamentos', 'page', 'paid', 'paijat', 'paikallissanomat', 'painful', 'paint', 'painted', 'painting', 'paivaniemi', 'pakistan', 'palace', 'paldiski', 'palfinger', 'palin', 'palm', 'palmberg', 'palvelut', 'pan', 'panama', 'panamax', 'panda', 'panel', 'panfish', 'panies', 'pankaj', 'pankki', 'panostaja', 'papa', 'papel', 'paper', 'paperboard', 'paperlinx', 'papermaker', 'papua', 'par', 'paradoxical', 'parallel', 'parameter', 'paran', 'parchment', 'parent', 'paris', 'parity', 'park', 'parkano', 'parking', 'parliament', 'parnu', 'parquet', 'part', 'partial', 'partially', 'participant', 'participate', 'participated', 'participates', 'participating', 'participation', 'particle', 'particular', 'particularly', 'partihallsf', 'partihallsforbindelsen', 'partition', 'partly', 'partner', 'partnering', 'partnership', 'party', 'parvi', 'pas', 'passage', 'passed', 'passenger', 'password', 'past', 'patch', 'pate', 'patent', 'patented', 'path', 'pathana', 'pathological', 'patient', 'patja', 'patricia', 'patrick', 'patrik', 'patrizia', 'patronage', 'pattern', 'paul', 'paulig', 'pavara', 'pave', 'pavement', 'paviljonki', 'pay', 'payable', 'paycheck', 'paychex', 'paying', 'payment', 'payout', 'payphones', 'payroll', 'pb', 'pc', 'pcb', 'pcbs', 'pcmag', 'pct', 'pda', 'pde', 'peab', 'pear', 'pearl', 'peat', 'pecs', 'pedestrian', 'pedestrianised', 'pedometer', 'peeling', 'peer', 'pehu', 'peigs', 'pekka', 'pekkarinen', 'pekoni', 'pellet', 'pelletizing', 'pellissier', 'pellonpaja', 'peltola', 'peltonen', 'pending', 'pennsylvania', 'penny', 'pensioenfonds', 'pension', 'pensionable', 'pentik', 'pentti', 'penttil', 'penttila', 'people', 'pequot', 'per', 'percent', 'percentage', 'perch', 'perfect', 'perform', 'performance', 'performed', 'performing', 'peri', 'period', 'perkonoja', 'perlos', 'permanent', 'permanently', 'permission', 'permit', 'permitted', 'peroxide', 'perpendicular', 'persistently', 'person', 'personal', 'personalized', 'personally', 'personnel', 'perspective', 'perth', 'pertti', 'perttu', 'pervorouralsky', 'pesonen', 'pestka', 'pet', 'petcore', 'peter', 'petersburg', 'peterson', 'petition', 'petri', 'petrochemical', 'petrol', 'peugeot', 'pfizer', 'pge', 'pharma', 'pharmaceutical', 'pharmacodynamic', 'pharmacokinetic', 'pharmacokinetics', 'pharmacy', 'pharming', 'phase', 'phil', 'philadelphia', 'philip', 'philippine', 'phillip', 'phishing', 'phoenix', 'phone', 'phonebook', 'phosphate', 'phosphodiesterase', 'phosphorous', 'photo', 'photonium', 'physical', 'piano', 'pick', 'picked', 'picture', 'pie', 'piece', 'pietarsaari', 'pietiek', 'pietinalho', 'pig', 'piirainen', 'pilanesberg', 'pile', 'pilot', 'piloting', 'pine', 'pink', 'pioneer', 'pioneering', 'pipe', 'pipeline', 'pipette', 'pipettor', 'pipettors', 'pirelli', 'pirila', 'pirkka', 'pisa', 'pistachio', 'pit', 'pitching', 'pivo', 'pivotable', 'pkc', 'pl', 'place', 'placed', 'placement', 'plain', 'plan', 'planmill', 'planned', 'planning', 'plant', 'plantation', 'plaque', 'plast', 'plasterboard', 'plastic', 'plate', 'platen', 'platform', 'platinum', 'platts', 'play', 'playbook', 'played', 'player', 'plaza', 'plc', 'plccompany', 'please', 'pleased', 'pleasurable', 'pledged', 'plot', 'plug', 'plumbing', 'plummeted', 'plunged', 'plus', 'plx', 'plyfa', 'plyland', 'plywood', 'pm', 'pnaas', 'pnabs', 'pntz', 'pocketable', 'podcast', 'podlaska', 'poh', 'pohjantahti', 'pohjoa', 'pohjois', 'pohjola', 'pohjolan', 'point', 'pointing', 'pojlf', 'poland', 'pole', 'police', 'policy', 'polish', 'politician', 'polled', 'pollex', 'polya', 'polyolefin', 'polytechnic', 'pon', 'pond', 'ponsse', 'ponten', 'ponzi', 'pool', 'poor', 'poorest', 'pop', 'popular', 'popularity', 'populated', 'population', 'pori', 'port', 'portable', 'portal', 'portfolio', 'portion', 'portsmouth', 'portti', 'portugal', 'porvoo', 'posed', 'poseidon', 'poser', 'position', 'positioned', 'positioning', 'positive', 'possession', 'possibility', 'possible', 'possibly', 'post', 'posted', 'postel', 'postimees', 'posting', 'postponement', 'pot', 'potash', 'potato', 'potential', 'potentially', 'poultry', 'pound', 'poundstretcher', 'pourings', 'powder', 'power', 'powered', 'powerful', 'powerless', 'powerplant', 'poy', 'poyry', 'poznan', 'ppmi', 'practically', 'practice', 'practitioner', 'pradesh', 'prague', 'praise', 'praised', 'pre', 'precedex', 'preceding', 'precinct', 'precipitation', 'precision', 'precor', 'predefined', 'predict', 'predictability', 'prefab', 'prefer', 'preferably', 'preference', 'preferred', 'preliminary', 'premature', 'premedia', 'premier', 'premise', 'premium', 'prepaid', 'preparation', 'prepare', 'prepared', 'prepares', 'preparing', 'prerequisite', 'presence', 'present', 'presentation', 'presented', 'presently', 'preserved', 'president', 'press', 'pressed', 'pressplate', 'pressure', 'pressuring', 'pressurized', 'pretax', 'pretty', 'prevailing', 'prevention', 'previous', 'previously', 'price', 'priced', 'pricier', 'pricing', 'pride', 'priit', 'primarily', 'primary', 'prime', 'primer', 'principal', 'principally', 'principle', 'print', 'printed', 'printing', 'prior', 'priority', 'privacy', 'private', 'privately', 'privatisation', 'privatization', 'prnewswire', 'pro', 'proactive', 'probably', 'problem', 'procedural', 'procedure', 'proceed', 'proceeded', 'proceeds', 'process', 'processed', 'processguide', 'processing', 'processor', 'procurement', 'produce', 'produced', 'producer', 'producing', 'product', 'production', 'productional', 'productive', 'productivity', 'produkt', 'prof', 'professional', 'profile', 'profiling', 'profit', 'profitability', 'profitable', 'program', 'programming', 'progress', 'progressed', 'proha', 'prohaska', 'prohibited', 'prohouse', 'project', 'projected', 'projection', 'projektivuokraus', 'proline', 'prolongation', 'prolonged', 'prom', 'promise', 'promised', 'promising', 'promo', 'promote', 'promoting', 'promotion', 'proof', 'proofpoint', 'propeller', 'proper', 'propertos', 'property', 'proportion', 'proposal', 'propose', 'proposed', 'proposes', 'proposition', 'proprietary', 'propulsion', 'prosecutor', 'prosition', 'prospect', 'prospectus', 'prosperous', 'protalix', 'protect', 'protection', 'protects', 'protein', 'prothious', 'protocol', 'prototype', 'protrusion', 'proud', 'prove', 'proved', 'proven', 'provide', 'provided', 'provider', 'provides', 'providing', 'province', 'proving', 'provision', 'provisional', 'provisioning', 'psoriasis', 'psv', 'pt', 'pty', 'publ', 'public', 'publication', 'publish', 'published', 'publisher', 'publishes', 'publishing', 'puljonki', 'pulkovo', 'pulp', 'pulpwood', 'pulse', 'pump', 'punch', 'purchase', 'purchased', 'purchasing', 'pure', 'puro', 'purpose', 'purse', 'pursuant', 'pursue', 'pursues', 'pursuing', 'pursuit', 'push', 'pushed', 'pusher', 'pushing', 'put', 'putin', 'putting', 'pvt', 'pyszny', 'qatar', 'qcs', 'qi', 'qingyuan', 'qpr', 'qt', 'quadriga', 'quadrupled', 'qualcomm', 'qualified', 'quality', 'quantity', 'quartal', 'quarter', 'quarterended', 'quarterly', 'quarto', 'quatrocon', 'question', 'queue', 'quick', 'quickly', 'quipped', 'quite', 'quito', 'quitting', 'quote', 'quoted', 'ra', 'raab', 'raahe', 'rabbit', 'rabobank', 'rabochy', 'race', 'racked', 'radar', 'radiation', 'radio', 'radiosonde', 'radome', 'raffle', 'ragot', 'ragutis', 'raha', 'raiffeisen', 'rail', 'railroad', 'railway', 'rainbow', 'raise', 'raised', 'raisio', 'raiso', 'raivv', 'rajamaki', 'rakennuskonevuokraamo', 'rakvere', 'rally', 'ramirent', 'ramp', 'ramsey', 'rana', 'range', 'ranger', 'ranging', 'rani', 'rank', 'ranked', 'ranking', 'rannikkoseutu', 'rantakari', 'rantanen', 'rao', 'rap', 'rapala', 'rapid', 'rapidly', 'ratasmaki', 'rate', 'rated', 'rating', 'ratio', 'rationalization', 'rationalize', 'raty', 'rauma', 'rautakesko', 'rautakirja', 'rautalinko', 'rautaruukki', 'raute', 'raw', 'ray', 'rb', 'rbff', 'rbindelsen', 'rcp', 'reach', 'reached', 'reaching', 'reactive', 'reactor', 'read', 'reader', 'readership', 'reading', 'ready', 'readychex', 'reaffirmed', 'real', 'realignment', 'realistic', 'realize', 'realized', 'really', 'realprojekti', 'realtime', 'reason', 'reasonable', 'reasonably', 'rebate', 'rebound', 'rebounding', 'rebuild', 'rebuilds', 'rebuilt', 'recall', 'recalling', 'recari', 'receipt', 'receive', 'received', 'receives', 'receiving', 'recent', 'recently', 'recentlyvia', 'receptacle', 'reception', 'recession', 'recipient', 'reclaimed', 'recognize', 'recognized', 'recoil', 'recommencing', 'recommend', 'recommendable', 'recommendation', 'record', 'recorded', 'recording', 'recover', 'recovered', 'recovers', 'recovery', 'recruit', 'recruited', 'recruitment', 'rectifier', 'recurring', 'recycle', 'recycled', 'recycling', 'red', 'redeem', 'redeemed', 'redelivery', 'redesigned', 'redevelopment', 'reding', 'redistribution', 'reduce', 'reduced', 'reduces', 'reducing', 'reduction', 'redundancy', 'redundant', 'reel', 'reference', 'refinance', 'refinancing', 'refiner', 'refinery', 'refining', 'reflect', 'reflected', 'reflector', 'reflects', 'reform', 'refreshment', 'reftele', 'refund', 'refurbish', 'refurbishing', 'refurbishment', 'refused', 'refuted', 'regal', 'regard', 'regarded', 'regarding', 'regeneration', 'regenerative', 'regina', 'region', 'regional', 'regionally', 'register', 'registered', 'registration', 'regular', 'regulated', 'regulates', 'regulatory', 'rehabilitation', 'rehabilitative', 'rehu', 'reijo', 'reiljan', 'reimbursed', 'reinforce', 'reinforced', 'reinforcement', 'reino', 'reisholz', 'reiterated', 'reiterates', 'rejected', 'reka', 'relacom', 'related', 'relates', 'relating', 'relation', 'relationship', 'relative', 'relatively', 'relaunch', 'release', 'released', 'relevant', 'reliability', 'reliable', 'reliance', 'relinquishing', 'relocate', 'relocated', 'relocation', 'rely', 'remain', 'remainder', 'remained', 'remaining', 'remains', 'remarked', 'remind', 'remodeled', 'remote', 'remotely', 'removable', 'removal', 'removed', 'remuneration', 'renal', 'render', 'rendered', 'renesas', 'renew', 'renewable', 'renewables', 'renewal', 'renewed', 'renewing', 'reng', 'renison', 'renounce', 'renovate', 'renovated', 'renovation', 'rent', 'rentakran', 'rental', 'renzo', 'reopen', 'reorganisation', 'reorganised', 'reorganization', 'reorganizing', 'repaid', 'repair', 'repay', 'repayment', 'repeal', 'repeat', 'repeated', 'repeating', 'replace', 'replaced', 'replacement', 'replaces', 'replay', 'repo', 'report', 'reportable', 'reported', 'reportedly', 'reporter', 'reporting', 'repositioning', 'represent', 'representation', 'representative', 'represented', 'representing', 'represents', 'reproduction', 'republic', 'republication', 'repurchase', 'repurchased', 'request', 'requesting', 'require', 'required', 'requirement', 'requires', 'requisition', 'research', 'reseller', 'reservation', 'reserve', 'reserved', 'resettlement', 'reshuffled', 'residence', 'resident', 'residential', 'residentialconstruction', 'residue', 'resignation', 'resigned', 'resilience', 'resin', 'resolution', 'resolve', 'resolved', 'resort', 'resource', 'resourcing', 'respect', 'respecta', 'respective', 'respectively', 'respiratory', 'responded', 'respondent', 'response', 'responsibility', 'responsible', 'responsibly', 'responsive', 'resposnible', 'respublikos', 'rest', 'restart', 'restarting', 'restarts', 'restaurant', 'resting', 'restoration', 'restraining', 'restricted', 'restriction', 'restructured', 'restructuring', 'restructurings', 'result', 'resulted', 'resulting', 'resurrect', 'retail', 'retailed', 'retailer', 'retailing', 'retain', 'retained', 'retaining', 'retire', 'retired', 'retirement', 'retiring', 'retrieves', 'retrieving', 'retrofit', 'rettig', 'return', 'returned', 'reuters', 'rev', 'revamped', 'revealed', 'revenue', 'review', 'revise', 'revised', 'revolving', 'reward', 'rewarded', 'rf', 'rfc', 'rfid', 'rheumatoid', 'rhine', 'rhubarb', 'rib', 'rice', 'rich', 'ridge', 'rifd', 'riga', 'right', 'rightfully', 'rigid', 'rihko', 'riihim', 'rik', 'rim', 'rimi', 'rimvesta', 'ringman', 'rinkuskiai', 'rinne', 'rise', 'risen', 'risfelt', 'rising', 'risk', 'riskware', 'risto', 'rival', 'river', 'rk', 'rl', 'rmb', 'rme', 'rmg', 'rmr', 'rn', 'rnits', 'ro', 'road', 'roadmap', 'roadshow', 'roadway', 'roaster', 'robert', 'robot', 'robust', 'roce', 'rock', 'rocketed', 'rockwell', 'rod', 'roger', 'rohwedder', 'roi', 'role', 'roll', 'rolling', 'roman', 'romania', 'romanian', 'roof', 'roofing', 'room', 'rop', 'ropax', 'roro', 'rory', 'rosa', 'rosberg', 'rose', 'rosen', 'rosendal', 'rosenlew', 'roshan', 'rostelecom', 'rostov', 'rotana', 'rotation', 'rotterdam', 'rough', 'roughly', 'round', 'roundtable', 'roundwood', 'route', 'routine', 'routing', 'roving', 'royal', 'royalty', 'royce', 'rpk', 'rpm', 'rsa', 'rspo', 'rtch', 'rtg', 'rtkm', 'rtrks', 'rts', 'rtsil', 'ru', 'rubber', 'rubin', 'ruble', 'rug', 'rugby', 'ruin', 'rukax', 'rule', 'ruled', 'rumilly', 'rumor', 'run', 'runner', 'running', 'runway', 'ruokatalo', 'ruselprom', 'rush', 'rushydro', 'russia', 'russian', 'rutav', 'ruukki', 'ruuska', 'ruutana', 'ruwais', 'rvi', 'rvinen', 'rvr', 'ryobi', 'ryymin', 'sa', 'saa', 'saarelainen', 'saarijarvi', 'saarinen', 'saarioinen', 'saavalainen', 'sabah', 'sabbatical', 'sabharwal', 'sac', 'sacanfil', 'sachs', 'sadam', 'safe', 'safely', 'safety', 'safran', 'saha', 'sahavaara', 'sahlberg', 'said', 'saigon', 'sailed', 'saimaa', 'sains', 'saint', 'sakari', 'saku', 'sal', 'salaried', 'salary', 'salcomp', 'sale', 'salmi', 'salminen', 'salo', 'salokannel', 'salomon', 'salonen', 'salonius', 'salovaara', 'salt', 'saltonstall', 'salvor', 'samas', 'sami', 'sampo', 'samsung', 'samuel', 'san', 'sanayi', 'sanctuary', 'sand', 'sandal', 'sandanger', 'sandberg', 'sandwich', 'sanitas', 'sanitation', 'sankey', 'sanna', 'sanoma', 'sanomat', 'sanomawsoy', 'sanyo', 'sap', 'sappi', 'sarantel', 'saratovenergo', 'sardus', 'sare', 'sari', 'sarkamies', 'sastamala', 'sat', 'sata', 'satama', 'satellite', 'satin', 'satisfactorily', 'satisfied', 'satisfies', 'satlan', 'saturation', 'saudi', 'sauk', 'saunalahti', 'sausage', 'sav', 'savcor', 'save', 'saved', 'saving', 'savo', 'savon', 'savonlinna', 'savvy', 'saw', 'sawmill', 'sawn', 'say', 'saying', 'saysjouni', 'sbgrp', 'scaffolding', 'scala', 'scalable', 'scale', 'scamming', 'scan', 'scandic', 'scandinavia', 'scandinavian', 'scanfil', 'scania', 'scanned', 'scanning', 'scantrack', 'scenario', 'scene', 'scf', 'scheck', 'schedule', 'scheduled', 'scheduling', 'scheme', 'schindler', 'schmardin', 'scholarship', 'school', 'schuldschein', 'schulte', 'schultz', 'schultze', 'schwalm', 'sciard', 'science', 'scissor', 'scissors', 'scope', 'scopi', 'scorecard', 'scored', 'scoring', 'scotland', 'scott', 'scout', 'scrap', 'scrapped', 'screen', 'screening', 'screw', 'sculptural', 'sda', 'sdm', 'se', 'sea', 'seafood', 'seahawkdrilling', 'seal', 'sealed', 'seamless', 'search', 'searched', 'searching', 'season', 'seasonal', 'seat', 'seawind', 'seb', 'sechs', 'second', 'secondary', 'secretary', 'section', 'sector', 'secure', 'secured', 'securing', 'security', 'sedation', 'see', 'seeder', 'seek', 'seeking', 'seem', 'seemed', 'seems', 'seen', 'segment', 'segu', 'sehk', 'seidenberg', 'seikku', 'sein', 'seinajoki', 'seismic', 'seitovirta', 'sek', 'sel', 'select', 'selected', 'selection', 'selects', 'self', 'sell', 'seller', 'selling', 'semi', 'semiconductor', 'seminar', 'semiproducts', 'send', 'sending', 'seng', 'senior', 'sense', 'sensing', 'sensor', 'sent', 'sentera', 'sentiment', 'sentry', 'seoul', 'sep', 'sepa', 'separate', 'separated', 'separately', 'separating', 'separation', 'sepp', 'seppala', 'seppanen', 'seppo', 'sept', 'september', 'sequenced', 'serbia', 'serf', 'serial', 'series', 'serve', 'served', 'server', 'service', 'servicing', 'serving', 'servis', 'session', 'set', 'setting', 'settled', 'settlement', 'setv', 'seudun', 'seven', 'seventeen', 'seventh', 'seventy', 'several', 'sewed', 'sewer', 'sfd', 'sfi', 'sft', 'sh', 'shad', 'shade', 'shadow', 'shale', 'shalkiya', 'shall', 'shanahan', 'shane', 'shanghai', 'shape', 'share', 'shared', 'shareholder', 'shareholding', 'sharepoint', 'sharing', 'sharp', 'sharpest', 'sharply', 'shavlik', 'shb', 'shdsl', 'shed', 'shedding', 'sheet', 'sheffield', 'sheksna', 'shelf', 'shell', 'shelter', 'shelved', 'shenzhen', 'shielding', 'shift', 'shifted', 'shimano', 'ship', 'shipbuilder', 'shipbuilding', 'shipment', 'shipowner', 'shipping', 'shipyard', 'shish', 'shivakumar', 'shock', 'shoe', 'shooting', 'shop', 'shopped', 'shopper', 'shopping', 'shore', 'short', 'shorter', 'shortlisted', 'shot', 'show', 'showcase', 'showed', 'showroom', 'shrank', 'shse', 'shut', 'shuweihat', 'si', 'sick', 'side', 'sidewalk', 'siemens', 'sievi', 'sight', 'sign', 'signal', 'signaling', 'signature', 'signed', 'significance', 'significant', 'significantly', 'signifies', 'signing', 'sihvo', 'sihvonen', 'siilinjarvi', 'silicon', 'silja', 'silva', 'silvennoinen', 'silver', 'sim', 'simdax', 'similar', 'simmons', 'simon', 'simonsen', 'simonson', 'simple', 'simplifies', 'simplify', 'simply', 'simulating', 'simultaneously', 'sinappi', 'since', 'singapore', 'singaporean', 'singer', 'single', 'singulase', 'sinocast', 'sinter', 'sintered', 'sintering', 'sintra', 'sipponen', 'sir', 'sirkka', 'sister', 'site', 'sitra', 'sitronics', 'situated', 'situation', 'six', 'sixth', 'sizable', 'size', 'sized', 'sizing', 'sk', 'skaarer', 'skandinavian', 'skandinaviska', 'skanssi', 'skat', 'skf', 'ski', 'skier', 'skiing', 'skilled', 'skin', 'skog', 'skogberg', 'skogster', 'skr', 'sky', 'skyl', 'skyline', 'slash', 'slashed', 'slaughterhouse', 'slaughtering', 'slavery', 'sled', 'slice', 'slid', 'slide', 'slight', 'slightly', 'slipped', 'slipping', 'slitting', 'slo', 'slogan', 'slot', 'slovak', 'slovakia', 'slovenia', 'slow', 'slowed', 'slowing', 'sludge', 'slumped', 'sm', 'small', 'smaller', 'smarket', 'smart', 'smartphone', 'smartphones', 'smelt', 'smelter', 'smith', 'smithfield', 'smoke', 'smoking', 'smooth', 'smoothly', 'smt', 'sna', 'snack', 'snag', 'snapper', 'snapshot', 'sneed', 'snow', 'snowfall', 'snp', 'soapstone', 'soared', 'soaring', 'social', 'societe', 'society', 'sodium', 'sodra', 'sofa', 'soft', 'softball', 'software', 'sokonet', 'sokopro', 'solar', 'sold', 'sole', 'solel', 'solely', 'solid', 'solidium', 'solo', 'solteq', 'solution', 'solvay', 'solvency', 'somaxon', 'someone', 'something', 'somoncom', 'song', 'sonoco', 'sony', 'soon', 'soosalu', 'sophisticated', 'sophos', 'sort', 'sotkamo', 'sought', 'sound', 'source', 'sourced', 'sourcing', 'south', 'southaven', 'southeast', 'southeastern', 'southern', 'southfield', 'southwestern', 'soy', 'spa', 'space', 'spain', 'span', 'spanning', 'spare', 'sparebank', 'spark', 'sparsely', 'spc', 'speaker', 'speaking', 'speaks', 'special', 'specialised', 'specialises', 'specialising', 'specialist', 'speciality', 'specialization', 'specialize', 'specialized', 'specialty', 'specie', 'specific', 'specifically', 'specified', 'specifying', 'spectrum', 'speculative', 'speech', 'speed', 'speeded', 'spend', 'spending', 'spent', 'sphere', 'spin', 'spinning', 'spite', 'split', 'spoke', 'spokesman', 'spokesperson', 'spokeswoman', 'spolka', 'sponda', 'sponsor', 'sponsored', 'sponsoring', 'sponsorship', 'sport', 'sporting', 'spot', 'spout', 'spraying', 'spread', 'spreader', 'spring', 'spruce', 'spunlace', 'spyware', 'sq', 'square', 'sriperumbudur', 'srl', 'srv', 'ssh', 'ssl', 'st', 'stabilisation', 'stabilise', 'stabilised', 'stability', 'stable', 'stacker', 'stadigh', 'stadtverwaltung', 'staff', 'staffer', 'stage', 'stahlberg', 'stainless', 'stake', 'stakeholder', 'stamp', 'stan', 'stand', 'standalone', 'standard', 'standardised', 'standing', 'stanley', 'star', 'start', 'started', 'starting', 'startup', 'state', 'stated', 'statement', 'station', 'stationery', 'statistic', 'statistical', 'status', 'statutory', 'stavebni', 'stavo', 'stavokonsult', 'stay', 'stead', 'steadily', 'steady', 'stealing', 'sted', 'steek', 'steel', 'steelmaker', 'steer', 'stefan', 'stemming', 'sten', 'stena', 'step', 'stereotyping', 'sterling', 'sterv', 'steve', 'stewart', 'stichting', 'stick', 'stig', 'still', 'sto', 'stock', 'stockholm', 'stockmann', 'stole', 'stone', 'stonegate', 'stonesoft', 'stood', 'stop', 'stoppage', 'stopped', 'stora', 'storage', 'store', 'stored', 'storengy', 'storey', 'storing', 'storm', 'story', 'stove', 'stoxx', 'stq', 'straddle', 'straight', 'strait', 'strand', 'stranded', 'strapping', 'strategic', 'strategically', 'strategy', 'strawberry', 'streak', 'stream', 'streaming', 'streamline', 'streamlined', 'streamlining', 'street', 'strelny', 'strength', 'strengthen', 'strengthened', 'strengthening', 'strengthens', 'stressful', 'stretch', 'stricter', 'strictest', 'strictly', 'strike', 'strip', 'stripy', 'strive', 'stroi', 'strong', 'stronger', 'strongest', 'strongly', 'structural', 'structure', 'struggled', 'struggling', 'stt', 'stuck', 'student', 'study', 'studying', 'stuk', 'stuttgart', 'stx', 'style', 'styled', 'stylised', 'sub', 'subcontract', 'subcontractor', 'subdivision', 'subject', 'submission', 'submitted', 'subordinated', 'subscribe', 'subscribed', 'subscriber', 'subscription', 'subsequent', 'subsidiary', 'subsidy', 'substantial', 'substantially', 'substantiallyimproved', 'substation', 'substitute', 'suburb', 'suburban', 'succeed', 'succeeded', 'succeeds', 'success', 'successful', 'successfully', 'successor', 'suction', 'sue', 'suez', 'suffered', 'suffering', 'sufficient', 'sufix', 'suggest', 'suihko', 'suisse', 'suistio', 'suitable', 'suite', 'suited', 'suitor', 'sukhraj', 'sulfide', 'sullivan', 'sulphuric', 'sum', 'sumatra', 'summary', 'summed', 'summer', 'summit', 'sun', 'sunday', 'sunk', 'sunnuntai', 'sunrise', 'suomalainen', 'suomen', 'suomi', 'suominen', 'suomo', 'suomussalmi', 'suonenjoen', 'suovaniemi', 'super', 'supercalendered', 'superior', 'supermarket', 'supermercado', 'superstructure', 'supervise', 'supervision', 'supervisor', 'supervisory', 'supplement', 'supplemented', 'supplied', 'supplier', 'supply', 'supplying', 'support', 'supported', 'supporting', 'supposed', 'surcharge', 'sure', 'surf', 'surface', 'surfeit', 'surfer', 'surfing', 'surged', 'surmise', 'surpass', 'surpassing', 'surprise', 'surrounding', 'surveillance', 'survey', 'surveyed', 'suspect', 'suspected', 'suspend', 'sustainability', 'sustainable', 'suunto', 'suur', 'suutari', 'suv', 'suy', 'sveikatos', 'svenska', 'svensson', 'sverige', 'sveza', 'svh', 'svp', 'svyazinvest', 'svyturys', 'swap', 'swedbank', 'sweden', 'swedish', 'swift', 'swiftly', 'swing', 'swirled', 'swiss', 'switch', 'switchboard', 'switzerland', 'swoope', 'swot', 'swung', 'symantec', 'symbian', 'symbol', 'symphony', 'syndicate', 'syndicated', 'syndication', 'synergy', 'synonymous', 'synosia', 'syrj', 'sysopen', 'systeemitiimi', 'system', 'systemhaus', 'ta', 'tab', 'tablet', 'tabloid', 'tacked', 'tackle', 'tafks', 'tag', 'tahdet', 'tahko', 'tail', 'tailgate', 'tailor', 'tailored', 'taiwan', 'takanen', 'take', 'taken', 'takeover', 'taking', 'takoma', 'talentum', 'talermo', 'talk', 'talking', 'tallink', 'tallinn', 'tallinna', 'tallon', 'talo', 'talotekniikka', 'taloustutkimus', 'talv', 'talvik', 'talvivaara', 'tambov', 'tameer', 'tamfelt', 'tamglass', 'tamil', 'tammela', 'tamminen', 'tampere', 'taneli', 'tank', 'tanker', 'tanqia', 'tanzania', 'tap', 'tapani', 'tape', 'tapeks', 'taping', 'tapio', 'tapiola', 'tapped', 'tapro', 'tapuli', 'target', 'targeted', 'targeting', 'tariff', 'tarmo', 'tasb', 'tase', 'task', 'taste', 'tata', 'tatu', 'tauras', 'tauro', 'tax', 'taxpayer', 'tb', 'tco', 'tdd', 'te', 'teacher', 'team', 'teamed', 'teaming', 'tec', 'tech', 'technical', 'technically', 'technip', 'techno', 'technological', 'technologically', 'technology', 'technopark', 'technoparks', 'technopolis', 'technoports', 'tecnomen', 'tecnomens', 'tecnopolis', 'tecnotree', 'tectia', 'teenager', 'teho', 'tehtaat', 'tehuolto', 'tekes', 'tekla', 'tekmanni', 'teknos', 'teks', 'tel', 'telanne', 'telco', 'telcontar', 'tele', 'telecom', 'telecominvest', 'telecomms', 'telecommunication', 'telecomworldwire', 'telekom', 'telematics', 'telemig', 'telenor', 'telephone', 'teleste', 'television', 'telgua', 'telia', 'teliasonera', 'telko', 'tell', 'tellabs', 'telling', 'telpak', 'tem', 'temporarily', 'temporary', 'ten', 'tenant', 'tendency', 'tender', 'tendering', 'tent', 'tenth', 'teollisuuden', 'teppo', 'term', 'terminal', 'terminate', 'terminated', 'termination', 'terminator', 'tero', 'terrain', 'territory', 'terrorized', 'tesisleri', 'tesoro', 'test', 'testament', 'tester', 'testing', 'teterboro', 'tetroxide', 'teurastamokiinteistot', 'teus', 'teva', 'tex', 'texas', 'text', 'textile', 'tgk', 'th', 'thailand', 'thames', 'thank', 'thanks', 'thanksto', 'theagreement', 'thebault', 'theft', 'thegps', 'thelatest', 'theme', 'theodosopoulos', 'therapeutic', 'therapy', 'thereby', 'therefore', 'therein', 'thermal', 'thesecond', 'thesis', 'theutilization', 'thewartsila', 'theyre', 'thicker', 'thief', 'thin', 'thing', 'think', 'thinly', 'thinner', 'third', 'thirteen', 'thirty', 'thomas', 'thomson', 'thorwoste', 'though', 'thousand', 'threat', 'threatening', 'three', 'throughout', 'throughput', 'thursday', 'thus', 'thyssenkrupp', 'ticaret', 'ticket', 'tidningar', 'tie', 'tied', 'tielinja', 'tier', 'tieto', 'tietoenator', 'tietoenators', 'tight', 'tightened', 'tightening', 'tii', 'tiimari', 'tik', 'tikanoja', 'tikkakoski', 'tikkurila', 'tiled', 'till', 'tim', 'timber', 'timberjack', 'time', 'timeless', 'timetable', 'timo', 'tinyurl', 'tinyurls', 'tip', 'tire', 'tissue', 'title', 'tiusanen', 'tj', 'tkk', 'tlsn', 'tlt', 'tlv', 'tm', 'tmls', 'tn', 'tobacco', 'today', 'together', 'toilet', 'toivola', 'tokyo', 'told', 'tolerability', 'tolerated', 'tom', 'tomas', 'tomato', 'tomi', 'tommi', 'tomorrow', 'tomsk', 'tomtom', 'ton', 'tonnage', 'tonne', 'took', 'tool', 'toolonlahti', 'top', 'topic', 'topical', 'topped', 'toppled', 'toptronics', 'tornio', 'tornstrom', 'tortue', 'toshiba', 'tosno', 'total', 'totaled', 'totaling', 'totalled', 'totalling', 'totally', 'touch', 'tough', 'tougher', 'tour', 'tourist', 'tournament', 'toward', 'towards', 'tower', 'town', 'toxic', 'toy', 'tps', 'trace', 'traceability', 'traced', 'track', 'tracker', 'tracking', 'trade', 'traded', 'tradeka', 'trademark', 'trader', 'trading', 'tradition', 'traditional', 'traffic', 'trail', 'trailer', 'train', 'trained', 'trainee', 'trainer', 'training', 'transaction', 'transfer', 'transferable', 'transferred', 'transferring', 'transit', 'transmission', 'transplace', 'transport', 'transportation', 'transported', 'travel', 'traveler', 'traveling', 'traveller', 'treasury', 'treat', 'treating', 'treatment', 'treble', 'tree', 'tremendous', 'trend', 'trent', 'trh', 'trial', 'tried', 'triggered', 'trilateral', 'trim', 'trip', 'triple', 'tripled', 'trojan', 'trouble', 'troubled', 'trout', 'truck', 'true', 'truly', 'trust', 'trustworthy', 'try', 'trygvesta', 'trying', 'tse', 'tt', 'ttm', 'tube', 'tuesday', 'tuija', 'tukka', 'tulevaisuus', 'tulikivi', 'tulla', 'tulonen', 'tumbleweed', 'tumkur', 'tummy', 'tune', 'tunnel', 'tuomainen', 'tuomas', 'tuomo', 'turbine', 'turbo', 'turkcell', 'turkey', 'turkish', 'turku', 'turn', 'turned', 'turning', 'turnkey', 'turnover', 'turntable', 'turtas', 'turun', 'tusa', 'tutkimuksen', 'tuuri', 'tv', 'tver', 'tvo', 'tweeple', 'tweet', 'twelve', 'twenty', 'twh', 'twice', 'twig', 'twist', 'two', 'twofold', 'tyo', 'type', 'typed', 'typical', 'typically', 'tyre', 'tyred', 'tyrv', 'tyrvaan', 'tyumen', 'uab', 'uae', 'ubs', 'ucell', 'udlejning', 'ues', 'ufa', 'ufj', 'ugglarp', 'uh', 'ui', 'uio', 'uk', 'ukmerge', 'ukonaho', 'ukraine', 'ulefos', 'ulitsa', 'ulm', 'ultra', 'ultrascan', 'umbrella', 'umo', 'umts', 'unanimous', 'unaudited', 'unbanked', 'unbelievably', 'unbroken', 'unc', 'uncertain', 'uncertainty', 'unchanged', 'uncoated', 'uncommonly', 'unconfirmed', 'und', 'underground', 'underlying', 'underperf', 'underperform', 'understand', 'understanding', 'understood', 'undertaken', 'undertaking', 'underutilisation', 'underweight', 'underwent', 'undisclosed', 'undisturbed', 'unfortunately', 'unibrew', 'unicom', 'unified', 'unify', 'uniglass', 'unikko', 'unilever', 'unimilk', 'union', 'uniontown', 'unique', 'unit', 'unite', 'united', 'uniting', 'universal', 'universiti', 'university', 'unknown', 'unless', 'unlike', 'unlimited', 'unlisted', 'unloader', 'unmanned', 'unnamed', 'unprofitable', 'unquoted', 'unr', 'unrivalled', 'unsecured', 'unstable', 'unveil', 'unveiled', 'unveils', 'upcoming', 'update', 'updated', 'updating', 'upfront', 'upgrade', 'upgraded', 'upgrading', 'uplift', 'upload', 'upm', 'upon', 'uponor', 'ups', 'upset', 'upstaged', 'upstream', 'uranium', 'urban', 'urbanizing', 'urbano', 'url', 'uruguay', 'uruguayan', 'us', 'usa', 'usage', 'usd', 'use', 'used', 'user', 'using', 'usko', 'usmanov', 'usp', 'ustjug', 'usual', 'usually', 'utah', 'utenos', 'utilisation', 'utilise', 'utilised', 'utilises', 'utilising', 'utility', 'utilizing', 'utm', 'uusimaki', 'uutiset', 'uutislehti', 'uv', 'uwe', 'uzbek', 'va', 'vaahto', 'vaalipalvelu', 'vaasa', 'vac', 'vacancy', 'vacant', 'vaccination', 'vaccine', 'vacon', 'vacuum', 'vahur', 'vaias', 'vaisala', 'valdor', 'valga', 'valid', 'validating', 'validation', 'valio', 'valkama', 'valkeakoski', 'valley', 'valmet', 'valuable', 'valuation', 'value', 'valued', 'valve', 'van', 'vana', 'vanhanen', 'vantaa', 'vantaan', 'vantage', 'vap', 'varesvuo', 'variant', 'variety', 'various', 'varkaus', 'varma', 'varnishing', 'varpaisj', 'vartan', 'vary', 'vasantha', 'vashi', 'vast', 'vastse', 'vat', 'vataja', 'vauramo', 'vcp', 'vdw', 'veda', 'veeger', 'vega', 'vegetable', 'vehicle', 'vehvil', 'vehvilainen', 'veidekke', 'veikko', 'veil', 'vekka', 'veli', 'veliky', 'velta', 'vendor', 'veneer', 'venezuel', 'ventilated', 'venture', 'ver', 'veracel', 'verbund', 'verification', 'verifying', 'verizon', 'versatile', 'version', 'versus', 'vertical', 'vesa', 'vessel', 'vga', 'via', 'viable', 'vianor', 'vibe', 'vibrocompactors', 'vice', 'vicinity', 'victoria', 'video', 'vie', 'vietnam', 'view', 'viewed', 'viewing', 'viewpoint', 'viiala', 'viii', 'viisas', 'viitaniemi', 'viitasaari', 'vijver', 'viking', 'village', 'vilo', 'vimpelcom', 'vimpeli', 'vinachem', 'vintage', 'violated', 'virala', 'virent', 'virgin', 'virkkala', 'viro', 'virpi', 'virsuliskes', 'virtual', 'virus', 'virve', 'visa', 'viscaria', 'vishakapatnam', 'visibility', 'visible', 'vision', 'visit', 'visited', 'visitor', 'vista', 'visual', 'vitamin', 'vitim', 'vivid', 'vizag', 'vladimir', 'vladivostok', 'vmc', 'vnh', 'vocal', 'vocollect', 'vodafone', 'voice', 'voiced', 'voicemail', 'voima', 'voimatel', 'voip', 'volkswagen', 'vologda', 'volotinen', 'voltage', 'volume', 'voluntary', 'volunteer', 'volvo', 'von', 'vorota', 'vosstaniya', 'vostochny', 'vostok', 'vote', 'voting', 'votorantim', 'vp', 'vpn', 'vr', 'vridi', 'vsevolozhsk', 'vtb', 'vtm', 'vuokatti', 'vuolteenaho', 'vuorenmaa', 'vuosaari', 'vv', 'vwr', 'wackiness', 'wafer', 'wage', 'wagon', 'wahlroos', 'wait', 'waiting', 'waiving', 'walby', 'walden', 'walker', 'walki', 'walking', 'wall', 'wallenberg', 'wallhamn', 'walter', 'walvis', 'want', 'wanted', 'wap', 'warehouse', 'warehousing', 'warmly', 'warned', 'warner', 'warning', 'warrant', 'warranty', 'warsaw', 'wartsila', 'washable', 'washing', 'washington', 'waste', 'wastewater', 'wat', 'watch', 'watching', 'watchtower', 'water', 'waterborne', 'watermark', 'waterqueen', 'watertight', 'wave', 'wax', 'way', 'wayne', 'wcdma', 'weak', 'weakened', 'weakening', 'weaker', 'weakness', 'weather', 'weatherdeck', 'web', 'webcast', 'weber', 'weblogs', 'websense', 'website', 'weckstr', 'wednesday', 'week', 'weekday', 'weekend', 'weekly', 'weert', 'weighing', 'weighs', 'weight', 'weighted', 'welcome', 'welding', 'welfare', 'well', 'wellbeing', 'wellingborough', 'wellmont', 'wellness', 'welsh', 'wenchong', 'went', 'west', 'westend', 'westerlund', 'western', 'westpac', 'westphalia', 'westward', 'wet', 'wheat', 'whereas', 'whereby', 'wherever', 'whether', 'whilst', 'white', 'whitefield', 'whitehall', 'whole', 'wholesale', 'wholesaler', 'wholly', 'whose', 'wi', 'wide', 'widen', 'widened', 'wider', 'width', 'wife', 'wig', 'wiio', 'wiklof', 'williams', 'williamson', 'willich', 'willingness', 'wilson', 'wimax', 'win', 'wind', 'winded', 'winder', 'window', 'winner', 'winning', 'wintek', 'winter', 'wipe', 'wipro', 'wire', 'wireless', 'wirsam', 'wisa', 'wisconsin', 'wise', 'wish', 'withdrawing', 'withdrawn', 'within', 'without', 'withviking', 'wo', 'wolf', 'wolverine', 'woman', 'wonderful', 'wonderware', 'wood', 'wooden', 'woodlock', 'woodworking', 'wording', 'wore', 'work', 'workday', 'worked', 'worker', 'workflow', 'workforce', 'workforse', 'working', 'workout', 'workshop', 'world', 'worldwide', 'worm', 'worn', 'woro', 'worried', 'worrying', 'worse', 'worth', 'would', 'wrapped', 'wrapping', 'write', 'writer', 'writing', 'written', 'wrote', 'wrt', 'wt', 'wtc', 'wwd', 'www', 'wynne', 'wysockiego', 'xdsl', 'xerox', 'xfn', 'xm', 'xns', 'xpower', 'xpress', 'xvi', 'xx', 'ya', 'yahoo', 'yakima', 'yamskogo', 'yankov', 'yara', 'yard', 'yaroslavl', 'yea', 'year', 'yearly', 'yekaterinburg', 'yellow', 'yen', 'yesterday', 'yet', 'yhteishyv', 'yhtym', 'yhtyma', 'yield', 'yiliang', 'yinhe', 'yit', 'yitgroup', 'ylinen', 'yliopistonrinne', 'ylivieska', 'yokohama', 'york', 'young', 'youtube', 'yr', 'yry', 'ystok', 'yty', 'yuval', 'yvonne', 'zahariev', 'zaharova', 'zain', 'zainalabedin', 'zanadvorov', 'zandvliet', 'zao', 'zapadnye', 'zealand', 'zepro', 'zero', 'zgody', 'zinc', 'zip', 'zloty', 'zoltan', 'zone', 'zoo', 'zte', 'zu']\n",
            "(8021, 8098)\n"
          ],
          "name": "stdout"
        },
        {
          "output_type": "execute_result",
          "data": {
            "text/html": [
              "<div>\n",
              "<style scoped>\n",
              "    .dataframe tbody tr th:only-of-type {\n",
              "        vertical-align: middle;\n",
              "    }\n",
              "\n",
              "    .dataframe tbody tr th {\n",
              "        vertical-align: top;\n",
              "    }\n",
              "\n",
              "    .dataframe thead th {\n",
              "        text-align: right;\n",
              "    }\n",
              "</style>\n",
              "<table border=\"1\" class=\"dataframe\">\n",
              "  <thead>\n",
              "    <tr style=\"text-align: right;\">\n",
              "      <th></th>\n",
              "      <th>aaland</th>\n",
              "      <th>aalborg</th>\n",
              "      <th>aalto</th>\n",
              "      <th>aaltonen</th>\n",
              "      <th>aaron</th>\n",
              "      <th>aava</th>\n",
              "      <th>aazhang</th>\n",
              "      <th>ab</th>\n",
              "      <th>abb</th>\n",
              "      <th>abbott</th>\n",
              "      <th>aberration</th>\n",
              "      <th>abidjan</th>\n",
              "      <th>ability</th>\n",
              "      <th>able</th>\n",
              "      <th>abloy</th>\n",
              "      <th>abn</th>\n",
              "      <th>aboavista</th>\n",
              "      <th>abp</th>\n",
              "      <th>abramov</th>\n",
              "      <th>abramovich</th>\n",
              "      <th>abroad</th>\n",
              "      <th>absentee</th>\n",
              "      <th>absolut</th>\n",
              "      <th>absorption</th>\n",
              "      <th>abu</th>\n",
              "      <th>ac</th>\n",
              "      <th>aca</th>\n",
              "      <th>acacia</th>\n",
              "      <th>acanb</th>\n",
              "      <th>acando</th>\n",
              "      <th>accelerate</th>\n",
              "      <th>accelerated</th>\n",
              "      <th>acceptance</th>\n",
              "      <th>accepted</th>\n",
              "      <th>access</th>\n",
              "      <th>accessible</th>\n",
              "      <th>accessory</th>\n",
              "      <th>accident</th>\n",
              "      <th>accommodate</th>\n",
              "      <th>accommodation</th>\n",
              "      <th>...</th>\n",
              "      <th>yhtym</th>\n",
              "      <th>yhtyma</th>\n",
              "      <th>yield</th>\n",
              "      <th>yiliang</th>\n",
              "      <th>yinhe</th>\n",
              "      <th>yit</th>\n",
              "      <th>yitgroup</th>\n",
              "      <th>ylinen</th>\n",
              "      <th>yliopistonrinne</th>\n",
              "      <th>ylivieska</th>\n",
              "      <th>yokohama</th>\n",
              "      <th>york</th>\n",
              "      <th>young</th>\n",
              "      <th>youtube</th>\n",
              "      <th>yr</th>\n",
              "      <th>yry</th>\n",
              "      <th>ystok</th>\n",
              "      <th>yty</th>\n",
              "      <th>yuval</th>\n",
              "      <th>yvonne</th>\n",
              "      <th>zahariev</th>\n",
              "      <th>zaharova</th>\n",
              "      <th>zain</th>\n",
              "      <th>zainalabedin</th>\n",
              "      <th>zanadvorov</th>\n",
              "      <th>zandvliet</th>\n",
              "      <th>zao</th>\n",
              "      <th>zapadnye</th>\n",
              "      <th>zealand</th>\n",
              "      <th>zepro</th>\n",
              "      <th>zero</th>\n",
              "      <th>zgody</th>\n",
              "      <th>zinc</th>\n",
              "      <th>zip</th>\n",
              "      <th>zloty</th>\n",
              "      <th>zoltan</th>\n",
              "      <th>zone</th>\n",
              "      <th>zoo</th>\n",
              "      <th>zte</th>\n",
              "      <th>zu</th>\n",
              "    </tr>\n",
              "  </thead>\n",
              "  <tbody>\n",
              "    <tr>\n",
              "      <th>0</th>\n",
              "      <td>0.0</td>\n",
              "      <td>0.0</td>\n",
              "      <td>0.0</td>\n",
              "      <td>0.0</td>\n",
              "      <td>0.0</td>\n",
              "      <td>0.0</td>\n",
              "      <td>0.0</td>\n",
              "      <td>0.0</td>\n",
              "      <td>0.0</td>\n",
              "      <td>0.0</td>\n",
              "      <td>0.0</td>\n",
              "      <td>0.0</td>\n",
              "      <td>0.0</td>\n",
              "      <td>0.0</td>\n",
              "      <td>0.0</td>\n",
              "      <td>0.0</td>\n",
              "      <td>0.0</td>\n",
              "      <td>0.0</td>\n",
              "      <td>0.0</td>\n",
              "      <td>0.0</td>\n",
              "      <td>0.0</td>\n",
              "      <td>0.0</td>\n",
              "      <td>0.0</td>\n",
              "      <td>0.0</td>\n",
              "      <td>0.0</td>\n",
              "      <td>0.0</td>\n",
              "      <td>0.0</td>\n",
              "      <td>0.0</td>\n",
              "      <td>0.0</td>\n",
              "      <td>0.0</td>\n",
              "      <td>0.0</td>\n",
              "      <td>0.0</td>\n",
              "      <td>0.0</td>\n",
              "      <td>0.0</td>\n",
              "      <td>0.0</td>\n",
              "      <td>0.0</td>\n",
              "      <td>0.0</td>\n",
              "      <td>0.0</td>\n",
              "      <td>0.0</td>\n",
              "      <td>0.0</td>\n",
              "      <td>...</td>\n",
              "      <td>0.0</td>\n",
              "      <td>0.0</td>\n",
              "      <td>0.0</td>\n",
              "      <td>0.0</td>\n",
              "      <td>0.0</td>\n",
              "      <td>0.0</td>\n",
              "      <td>0.0</td>\n",
              "      <td>0.0</td>\n",
              "      <td>0.0</td>\n",
              "      <td>0.0</td>\n",
              "      <td>0.0</td>\n",
              "      <td>0.0</td>\n",
              "      <td>0.0</td>\n",
              "      <td>0.0</td>\n",
              "      <td>0.0</td>\n",
              "      <td>0.0</td>\n",
              "      <td>0.0</td>\n",
              "      <td>0.0</td>\n",
              "      <td>0.0</td>\n",
              "      <td>0.0</td>\n",
              "      <td>0.0</td>\n",
              "      <td>0.0</td>\n",
              "      <td>0.0</td>\n",
              "      <td>0.0</td>\n",
              "      <td>0.0</td>\n",
              "      <td>0.0</td>\n",
              "      <td>0.0</td>\n",
              "      <td>0.0</td>\n",
              "      <td>0.0</td>\n",
              "      <td>0.0</td>\n",
              "      <td>0.0</td>\n",
              "      <td>0.0</td>\n",
              "      <td>0.0</td>\n",
              "      <td>0.0</td>\n",
              "      <td>0.0</td>\n",
              "      <td>0.0</td>\n",
              "      <td>0.0</td>\n",
              "      <td>0.0</td>\n",
              "      <td>0.0</td>\n",
              "      <td>0.0</td>\n",
              "    </tr>\n",
              "    <tr>\n",
              "      <th>1</th>\n",
              "      <td>0.0</td>\n",
              "      <td>0.0</td>\n",
              "      <td>0.0</td>\n",
              "      <td>0.0</td>\n",
              "      <td>0.0</td>\n",
              "      <td>0.0</td>\n",
              "      <td>0.0</td>\n",
              "      <td>0.0</td>\n",
              "      <td>0.0</td>\n",
              "      <td>0.0</td>\n",
              "      <td>0.0</td>\n",
              "      <td>0.0</td>\n",
              "      <td>0.0</td>\n",
              "      <td>0.0</td>\n",
              "      <td>0.0</td>\n",
              "      <td>0.0</td>\n",
              "      <td>0.0</td>\n",
              "      <td>0.0</td>\n",
              "      <td>0.0</td>\n",
              "      <td>0.0</td>\n",
              "      <td>0.0</td>\n",
              "      <td>0.0</td>\n",
              "      <td>0.0</td>\n",
              "      <td>0.0</td>\n",
              "      <td>0.0</td>\n",
              "      <td>0.0</td>\n",
              "      <td>0.0</td>\n",
              "      <td>0.0</td>\n",
              "      <td>0.0</td>\n",
              "      <td>0.0</td>\n",
              "      <td>0.0</td>\n",
              "      <td>0.0</td>\n",
              "      <td>0.0</td>\n",
              "      <td>0.0</td>\n",
              "      <td>0.0</td>\n",
              "      <td>0.0</td>\n",
              "      <td>0.0</td>\n",
              "      <td>0.0</td>\n",
              "      <td>0.0</td>\n",
              "      <td>0.0</td>\n",
              "      <td>...</td>\n",
              "      <td>0.0</td>\n",
              "      <td>0.0</td>\n",
              "      <td>0.0</td>\n",
              "      <td>0.0</td>\n",
              "      <td>0.0</td>\n",
              "      <td>0.0</td>\n",
              "      <td>0.0</td>\n",
              "      <td>0.0</td>\n",
              "      <td>0.0</td>\n",
              "      <td>0.0</td>\n",
              "      <td>0.0</td>\n",
              "      <td>0.0</td>\n",
              "      <td>0.0</td>\n",
              "      <td>0.0</td>\n",
              "      <td>0.0</td>\n",
              "      <td>0.0</td>\n",
              "      <td>0.0</td>\n",
              "      <td>0.0</td>\n",
              "      <td>0.0</td>\n",
              "      <td>0.0</td>\n",
              "      <td>0.0</td>\n",
              "      <td>0.0</td>\n",
              "      <td>0.0</td>\n",
              "      <td>0.0</td>\n",
              "      <td>0.0</td>\n",
              "      <td>0.0</td>\n",
              "      <td>0.0</td>\n",
              "      <td>0.0</td>\n",
              "      <td>0.0</td>\n",
              "      <td>0.0</td>\n",
              "      <td>0.0</td>\n",
              "      <td>0.0</td>\n",
              "      <td>0.0</td>\n",
              "      <td>0.0</td>\n",
              "      <td>0.0</td>\n",
              "      <td>0.0</td>\n",
              "      <td>0.0</td>\n",
              "      <td>0.0</td>\n",
              "      <td>0.0</td>\n",
              "      <td>0.0</td>\n",
              "    </tr>\n",
              "    <tr>\n",
              "      <th>2</th>\n",
              "      <td>0.0</td>\n",
              "      <td>0.0</td>\n",
              "      <td>0.0</td>\n",
              "      <td>0.0</td>\n",
              "      <td>0.0</td>\n",
              "      <td>0.0</td>\n",
              "      <td>0.0</td>\n",
              "      <td>0.0</td>\n",
              "      <td>0.0</td>\n",
              "      <td>0.0</td>\n",
              "      <td>0.0</td>\n",
              "      <td>0.0</td>\n",
              "      <td>0.0</td>\n",
              "      <td>0.0</td>\n",
              "      <td>0.0</td>\n",
              "      <td>0.0</td>\n",
              "      <td>0.0</td>\n",
              "      <td>0.0</td>\n",
              "      <td>0.0</td>\n",
              "      <td>0.0</td>\n",
              "      <td>0.0</td>\n",
              "      <td>0.0</td>\n",
              "      <td>0.0</td>\n",
              "      <td>0.0</td>\n",
              "      <td>0.0</td>\n",
              "      <td>0.0</td>\n",
              "      <td>0.0</td>\n",
              "      <td>0.0</td>\n",
              "      <td>0.0</td>\n",
              "      <td>0.0</td>\n",
              "      <td>0.0</td>\n",
              "      <td>0.0</td>\n",
              "      <td>0.0</td>\n",
              "      <td>0.0</td>\n",
              "      <td>0.0</td>\n",
              "      <td>0.0</td>\n",
              "      <td>0.0</td>\n",
              "      <td>0.0</td>\n",
              "      <td>0.0</td>\n",
              "      <td>0.0</td>\n",
              "      <td>...</td>\n",
              "      <td>0.0</td>\n",
              "      <td>0.0</td>\n",
              "      <td>0.0</td>\n",
              "      <td>0.0</td>\n",
              "      <td>0.0</td>\n",
              "      <td>0.0</td>\n",
              "      <td>0.0</td>\n",
              "      <td>0.0</td>\n",
              "      <td>0.0</td>\n",
              "      <td>0.0</td>\n",
              "      <td>0.0</td>\n",
              "      <td>0.0</td>\n",
              "      <td>0.0</td>\n",
              "      <td>0.0</td>\n",
              "      <td>0.0</td>\n",
              "      <td>0.0</td>\n",
              "      <td>0.0</td>\n",
              "      <td>0.0</td>\n",
              "      <td>0.0</td>\n",
              "      <td>0.0</td>\n",
              "      <td>0.0</td>\n",
              "      <td>0.0</td>\n",
              "      <td>0.0</td>\n",
              "      <td>0.0</td>\n",
              "      <td>0.0</td>\n",
              "      <td>0.0</td>\n",
              "      <td>0.0</td>\n",
              "      <td>0.0</td>\n",
              "      <td>0.0</td>\n",
              "      <td>0.0</td>\n",
              "      <td>0.0</td>\n",
              "      <td>0.0</td>\n",
              "      <td>0.0</td>\n",
              "      <td>0.0</td>\n",
              "      <td>0.0</td>\n",
              "      <td>0.0</td>\n",
              "      <td>0.0</td>\n",
              "      <td>0.0</td>\n",
              "      <td>0.0</td>\n",
              "      <td>0.0</td>\n",
              "    </tr>\n",
              "    <tr>\n",
              "      <th>3</th>\n",
              "      <td>0.0</td>\n",
              "      <td>0.0</td>\n",
              "      <td>0.0</td>\n",
              "      <td>0.0</td>\n",
              "      <td>0.0</td>\n",
              "      <td>0.0</td>\n",
              "      <td>0.0</td>\n",
              "      <td>0.0</td>\n",
              "      <td>0.0</td>\n",
              "      <td>0.0</td>\n",
              "      <td>0.0</td>\n",
              "      <td>0.0</td>\n",
              "      <td>0.0</td>\n",
              "      <td>0.0</td>\n",
              "      <td>0.0</td>\n",
              "      <td>0.0</td>\n",
              "      <td>0.0</td>\n",
              "      <td>0.0</td>\n",
              "      <td>0.0</td>\n",
              "      <td>0.0</td>\n",
              "      <td>0.0</td>\n",
              "      <td>0.0</td>\n",
              "      <td>0.0</td>\n",
              "      <td>0.0</td>\n",
              "      <td>0.0</td>\n",
              "      <td>0.0</td>\n",
              "      <td>0.0</td>\n",
              "      <td>0.0</td>\n",
              "      <td>0.0</td>\n",
              "      <td>0.0</td>\n",
              "      <td>0.0</td>\n",
              "      <td>0.0</td>\n",
              "      <td>0.0</td>\n",
              "      <td>0.0</td>\n",
              "      <td>0.0</td>\n",
              "      <td>0.0</td>\n",
              "      <td>0.0</td>\n",
              "      <td>0.0</td>\n",
              "      <td>0.0</td>\n",
              "      <td>0.0</td>\n",
              "      <td>...</td>\n",
              "      <td>0.0</td>\n",
              "      <td>0.0</td>\n",
              "      <td>0.0</td>\n",
              "      <td>0.0</td>\n",
              "      <td>0.0</td>\n",
              "      <td>0.0</td>\n",
              "      <td>0.0</td>\n",
              "      <td>0.0</td>\n",
              "      <td>0.0</td>\n",
              "      <td>0.0</td>\n",
              "      <td>0.0</td>\n",
              "      <td>0.0</td>\n",
              "      <td>0.0</td>\n",
              "      <td>0.0</td>\n",
              "      <td>0.0</td>\n",
              "      <td>0.0</td>\n",
              "      <td>0.0</td>\n",
              "      <td>0.0</td>\n",
              "      <td>0.0</td>\n",
              "      <td>0.0</td>\n",
              "      <td>0.0</td>\n",
              "      <td>0.0</td>\n",
              "      <td>0.0</td>\n",
              "      <td>0.0</td>\n",
              "      <td>0.0</td>\n",
              "      <td>0.0</td>\n",
              "      <td>0.0</td>\n",
              "      <td>0.0</td>\n",
              "      <td>0.0</td>\n",
              "      <td>0.0</td>\n",
              "      <td>0.0</td>\n",
              "      <td>0.0</td>\n",
              "      <td>0.0</td>\n",
              "      <td>0.0</td>\n",
              "      <td>0.0</td>\n",
              "      <td>0.0</td>\n",
              "      <td>0.0</td>\n",
              "      <td>0.0</td>\n",
              "      <td>0.0</td>\n",
              "      <td>0.0</td>\n",
              "    </tr>\n",
              "    <tr>\n",
              "      <th>4</th>\n",
              "      <td>0.0</td>\n",
              "      <td>0.0</td>\n",
              "      <td>0.0</td>\n",
              "      <td>0.0</td>\n",
              "      <td>0.0</td>\n",
              "      <td>0.0</td>\n",
              "      <td>0.0</td>\n",
              "      <td>0.0</td>\n",
              "      <td>0.0</td>\n",
              "      <td>0.0</td>\n",
              "      <td>0.0</td>\n",
              "      <td>0.0</td>\n",
              "      <td>0.0</td>\n",
              "      <td>0.0</td>\n",
              "      <td>0.0</td>\n",
              "      <td>0.0</td>\n",
              "      <td>0.0</td>\n",
              "      <td>0.0</td>\n",
              "      <td>0.0</td>\n",
              "      <td>0.0</td>\n",
              "      <td>0.0</td>\n",
              "      <td>0.0</td>\n",
              "      <td>0.0</td>\n",
              "      <td>0.0</td>\n",
              "      <td>0.0</td>\n",
              "      <td>0.0</td>\n",
              "      <td>0.0</td>\n",
              "      <td>0.0</td>\n",
              "      <td>0.0</td>\n",
              "      <td>0.0</td>\n",
              "      <td>0.0</td>\n",
              "      <td>0.0</td>\n",
              "      <td>0.0</td>\n",
              "      <td>0.0</td>\n",
              "      <td>0.0</td>\n",
              "      <td>0.0</td>\n",
              "      <td>0.0</td>\n",
              "      <td>0.0</td>\n",
              "      <td>0.0</td>\n",
              "      <td>0.0</td>\n",
              "      <td>...</td>\n",
              "      <td>0.0</td>\n",
              "      <td>0.0</td>\n",
              "      <td>0.0</td>\n",
              "      <td>0.0</td>\n",
              "      <td>0.0</td>\n",
              "      <td>0.0</td>\n",
              "      <td>0.0</td>\n",
              "      <td>0.0</td>\n",
              "      <td>0.0</td>\n",
              "      <td>0.0</td>\n",
              "      <td>0.0</td>\n",
              "      <td>0.0</td>\n",
              "      <td>0.0</td>\n",
              "      <td>0.0</td>\n",
              "      <td>0.0</td>\n",
              "      <td>0.0</td>\n",
              "      <td>0.0</td>\n",
              "      <td>0.0</td>\n",
              "      <td>0.0</td>\n",
              "      <td>0.0</td>\n",
              "      <td>0.0</td>\n",
              "      <td>0.0</td>\n",
              "      <td>0.0</td>\n",
              "      <td>0.0</td>\n",
              "      <td>0.0</td>\n",
              "      <td>0.0</td>\n",
              "      <td>0.0</td>\n",
              "      <td>0.0</td>\n",
              "      <td>0.0</td>\n",
              "      <td>0.0</td>\n",
              "      <td>0.0</td>\n",
              "      <td>0.0</td>\n",
              "      <td>0.0</td>\n",
              "      <td>0.0</td>\n",
              "      <td>0.0</td>\n",
              "      <td>0.0</td>\n",
              "      <td>0.0</td>\n",
              "      <td>0.0</td>\n",
              "      <td>0.0</td>\n",
              "      <td>0.0</td>\n",
              "    </tr>\n",
              "  </tbody>\n",
              "</table>\n",
              "<p>5 rows × 8098 columns</p>\n",
              "</div>"
            ],
            "text/plain": [
              "   aaland  aalborg  aalto  aaltonen  aaron  ...  zoltan  zone  zoo  zte   zu\n",
              "0     0.0      0.0    0.0       0.0    0.0  ...     0.0   0.0  0.0  0.0  0.0\n",
              "1     0.0      0.0    0.0       0.0    0.0  ...     0.0   0.0  0.0  0.0  0.0\n",
              "2     0.0      0.0    0.0       0.0    0.0  ...     0.0   0.0  0.0  0.0  0.0\n",
              "3     0.0      0.0    0.0       0.0    0.0  ...     0.0   0.0  0.0  0.0  0.0\n",
              "4     0.0      0.0    0.0       0.0    0.0  ...     0.0   0.0  0.0  0.0  0.0\n",
              "\n",
              "[5 rows x 8098 columns]"
            ]
          },
          "metadata": {
            "tags": []
          },
          "execution_count": 17
        }
      ]
    },
    {
      "cell_type": "code",
      "metadata": {
        "colab": {
          "base_uri": "https://localhost:8080/",
          "height": 196
        },
        "id": "ZEoVoe4_Jv4t",
        "outputId": "db90428f-ba5f-4ba3-9f93-ee1799572b76"
      },
      "source": [
        "from sklearn.preprocessing import LabelEncoder\n",
        "df['encoded_label']=LabelEncoder().fit_transform(df['label'])\n",
        "df.head()"
      ],
      "execution_count": 18,
      "outputs": [
        {
          "output_type": "execute_result",
          "data": {
            "text/html": [
              "<div>\n",
              "<style scoped>\n",
              "    .dataframe tbody tr th:only-of-type {\n",
              "        vertical-align: middle;\n",
              "    }\n",
              "\n",
              "    .dataframe tbody tr th {\n",
              "        vertical-align: top;\n",
              "    }\n",
              "\n",
              "    .dataframe thead th {\n",
              "        text-align: right;\n",
              "    }\n",
              "</style>\n",
              "<table border=\"1\" class=\"dataframe\">\n",
              "  <thead>\n",
              "    <tr style=\"text-align: right;\">\n",
              "      <th></th>\n",
              "      <th>label</th>\n",
              "      <th>text</th>\n",
              "      <th>text_lemmatization</th>\n",
              "      <th>encoded_label</th>\n",
              "    </tr>\n",
              "  </thead>\n",
              "  <tbody>\n",
              "    <tr>\n",
              "      <th>0</th>\n",
              "      <td>neutral</td>\n",
              "      <td>According to Gran , the company has no plans t...</td>\n",
              "      <td>according gran company plan move production ru...</td>\n",
              "      <td>1</td>\n",
              "    </tr>\n",
              "    <tr>\n",
              "      <th>1</th>\n",
              "      <td>neutral</td>\n",
              "      <td>Technopolis plans to develop in stages an area...</td>\n",
              "      <td>technopolis plan develop stage area le square ...</td>\n",
              "      <td>1</td>\n",
              "    </tr>\n",
              "    <tr>\n",
              "      <th>2</th>\n",
              "      <td>negative</td>\n",
              "      <td>The international electronic industry company ...</td>\n",
              "      <td>international electronic industry company elco...</td>\n",
              "      <td>0</td>\n",
              "    </tr>\n",
              "    <tr>\n",
              "      <th>3</th>\n",
              "      <td>positive</td>\n",
              "      <td>With the new production plant the company woul...</td>\n",
              "      <td>new production plant company would increase ca...</td>\n",
              "      <td>2</td>\n",
              "    </tr>\n",
              "    <tr>\n",
              "      <th>4</th>\n",
              "      <td>positive</td>\n",
              "      <td>According to the company 's updated strategy f...</td>\n",
              "      <td>according company updated strategy year baswar...</td>\n",
              "      <td>2</td>\n",
              "    </tr>\n",
              "  </tbody>\n",
              "</table>\n",
              "</div>"
            ],
            "text/plain": [
              "      label  ... encoded_label\n",
              "0   neutral  ...             1\n",
              "1   neutral  ...             1\n",
              "2  negative  ...             0\n",
              "3  positive  ...             2\n",
              "4  positive  ...             2\n",
              "\n",
              "[5 rows x 4 columns]"
            ]
          },
          "metadata": {
            "tags": []
          },
          "execution_count": 18
        }
      ]
    },
    {
      "cell_type": "code",
      "metadata": {
        "id": "0hIceoI5IC3U"
      },
      "source": [
        "# Train Test Split\n",
        "from sklearn.model_selection import train_test_split\n",
        "x_train,x_test,y_train,y_test=train_test_split(df1,df.encoded_label,test_size=0.20,random_state=0)"
      ],
      "execution_count": 19,
      "outputs": []
    },
    {
      "cell_type": "code",
      "metadata": {
        "colab": {
          "base_uri": "https://localhost:8080/"
        },
        "id": "gm6jtFW7IC3V",
        "outputId": "5adafc29-57ad-4103-ac4b-10a04bdb5006"
      },
      "source": [
        "#Applying Relevant Models\n",
        "from sklearn.svm import LinearSVC\n",
        "from sklearn.linear_model import LogisticRegression\n",
        "from sklearn.naive_bayes import MultinomialNB\n",
        "from sklearn.ensemble import RandomForestClassifier\n",
        "#Metrics\n",
        "from sklearn.metrics import accuracy_score\n",
        "from sklearn.metrics import confusion_matrix\n",
        "from sklearn.metrics import classification_report\n",
        "from sklearn.metrics import f1_score\n",
        "\n",
        "models={'SVC':LinearSVC(),'Logistic':LogisticRegression(),'Mnb':MultinomialNB(),'Rf':RandomForestClassifier(n_estimators=10,criterion='entropy',random_state=0)}\n",
        "for i in models:\n",
        "  model=models[i]\n",
        "  model.fit(x_train,y_train)\n",
        "  y_pred=model.predict(x_test)\n",
        "  print(\"{} accuracy score: {}%\".format(i,round(accuracy_score(y_test,y_pred)*100,2)))\n",
        "  print(confusion_matrix(y_test,y_pred))\n",
        "  print(classification_report(y_test, y_pred))\n",
        "  print(\"F1 Score:{}\".format(f1_score(y_test,y_pred,average='micro')))\n"
      ],
      "execution_count": 20,
      "outputs": [
        {
          "output_type": "stream",
          "text": [
            "SVC accuracy score: 89.53%\n",
            "[[450   0  15]\n",
            " [ 31 474  65]\n",
            " [ 21  36 513]]\n",
            "              precision    recall  f1-score   support\n",
            "\n",
            "           0       0.90      0.97      0.93       465\n",
            "           1       0.93      0.83      0.88       570\n",
            "           2       0.87      0.90      0.88       570\n",
            "\n",
            "    accuracy                           0.90      1605\n",
            "   macro avg       0.90      0.90      0.90      1605\n",
            "weighted avg       0.90      0.90      0.89      1605\n",
            "\n",
            "F1 Score:0.8953271028037383\n"
          ],
          "name": "stdout"
        },
        {
          "output_type": "stream",
          "text": [
            "/usr/local/lib/python3.7/dist-packages/sklearn/linear_model/_logistic.py:940: ConvergenceWarning: lbfgs failed to converge (status=1):\n",
            "STOP: TOTAL NO. of ITERATIONS REACHED LIMIT.\n",
            "\n",
            "Increase the number of iterations (max_iter) or scale the data as shown in:\n",
            "    https://scikit-learn.org/stable/modules/preprocessing.html\n",
            "Please also refer to the documentation for alternative solver options:\n",
            "    https://scikit-learn.org/stable/modules/linear_model.html#logistic-regression\n",
            "  extra_warning_msg=_LOGISTIC_SOLVER_CONVERGENCE_MSG)\n"
          ],
          "name": "stderr"
        },
        {
          "output_type": "stream",
          "text": [
            "Logistic accuracy score: 85.55%\n",
            "[[428  14  23]\n",
            " [ 27 491  52]\n",
            " [ 28  88 454]]\n",
            "              precision    recall  f1-score   support\n",
            "\n",
            "           0       0.89      0.92      0.90       465\n",
            "           1       0.83      0.86      0.84       570\n",
            "           2       0.86      0.80      0.83       570\n",
            "\n",
            "    accuracy                           0.86      1605\n",
            "   macro avg       0.86      0.86      0.86      1605\n",
            "weighted avg       0.86      0.86      0.85      1605\n",
            "\n",
            "F1 Score:0.8554517133956386\n",
            "Mnb accuracy score: 80.37%\n",
            "[[445   5  15]\n",
            " [ 55 437  78]\n",
            " [ 73  89 408]]\n",
            "              precision    recall  f1-score   support\n",
            "\n",
            "           0       0.78      0.96      0.86       465\n",
            "           1       0.82      0.77      0.79       570\n",
            "           2       0.81      0.72      0.76       570\n",
            "\n",
            "    accuracy                           0.80      1605\n",
            "   macro avg       0.80      0.81      0.80      1605\n",
            "weighted avg       0.81      0.80      0.80      1605\n",
            "\n",
            "F1 Score:0.8037383177570093\n",
            "Rf accuracy score: 91.46%\n",
            "[[460   0   5]\n",
            " [ 22 504  44]\n",
            " [  7  59 504]]\n",
            "              precision    recall  f1-score   support\n",
            "\n",
            "           0       0.94      0.99      0.96       465\n",
            "           1       0.90      0.88      0.89       570\n",
            "           2       0.91      0.88      0.90       570\n",
            "\n",
            "    accuracy                           0.91      1605\n",
            "   macro avg       0.92      0.92      0.92      1605\n",
            "weighted avg       0.91      0.91      0.91      1605\n",
            "\n",
            "F1 Score:0.9146417445482866\n"
          ],
          "name": "stdout"
        }
      ]
    }
  ]
}